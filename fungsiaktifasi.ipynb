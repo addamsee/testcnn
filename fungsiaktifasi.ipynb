{
  "nbformat": 4,
  "nbformat_minor": 0,
  "metadata": {
    "colab": {
      "name": "fungsiaktifasi.ipynb",
      "version": "0.3.2",
      "views": {},
      "default_view": {},
      "provenance": []
    },
    "kernelspec": {
      "display_name": "Python 3",
      "language": "python",
      "name": "python3"
    },
    "accelerator": "GPU"
  },
  "cells": [
    {
      "metadata": {
        "id": "_lgbV48hafZH",
        "colab_type": "code",
        "colab": {
          "autoexec": {
            "startup": false,
            "wait_interval": 0
          },
          "base_uri": "https://localhost:8080/",
          "height": 34
        },
        "outputId": "5c1afe15-a8a1-4793-c13e-0295cd95c1c5",
        "executionInfo": {
          "status": "ok",
          "timestamp": 1533652298110,
          "user_tz": -420,
          "elapsed": 8884,
          "user": {
            "displayName": "lutfi adam",
            "photoUrl": "//lh4.googleusercontent.com/-v_uCuC_CMtI/AAAAAAAAAAI/AAAAAAAAAHw/oRDqji7y32Y/s50-c-k-no/photo.jpg",
            "userId": "110769470108785662190"
          }
        }
      },
      "cell_type": "code",
      "source": [
        "from keras.models import Sequential\n",
        "from keras.layers import Conv2D, MaxPooling2D, Dense, Flatten, Dropout, BatchNormalization, Activation\n",
        "from keras.activations import relu, softmax\n",
        "from keras.utils import to_categorical\n",
        "from keras import backend as K\n",
        "from keras.models import load_model\n",
        "from keras.preprocessing.image import ImageDataGenerator\n",
        "from keras.callbacks import EarlyStopping, History \n",
        "\n",
        "import tensorflow as tf\n",
        "import matplotlib.pyplot as plt\n",
        "import pickle\n",
        "#import cv2\n",
        "import numpy as np"
      ],
      "execution_count": 1,
      "outputs": [
        {
          "output_type": "stream",
          "text": [
            "Using TensorFlow backend.\n"
          ],
          "name": "stderr"
        }
      ]
    },
    {
      "metadata": {
        "id": "PFxxnwedafZh",
        "colab_type": "code",
        "colab": {
          "autoexec": {
            "startup": false,
            "wait_interval": 0
          },
          "base_uri": "https://localhost:8080/",
          "height": 782
        },
        "outputId": "2d525c43-26a3-4d4a-e893-8f3c8d5f5694",
        "executionInfo": {
          "status": "ok",
          "timestamp": 1533657227049,
          "user_tz": -420,
          "elapsed": 1296,
          "user": {
            "displayName": "lutfi adam",
            "photoUrl": "//lh4.googleusercontent.com/-v_uCuC_CMtI/AAAAAAAAAAI/AAAAAAAAAHw/oRDqji7y32Y/s50-c-k-no/photo.jpg",
            "userId": "110769470108785662190"
          }
        }
      },
      "cell_type": "code",
      "source": [
        "model = Sequential()\n",
        "\n",
        "model.add(Conv2D(128, (3,3), input_shape=(160,160,3)))\n",
        "model.add(BatchNormalization())\n",
        "model.add(Activation('relu'))\n",
        "model.add(MaxPooling2D(pool_size=(3, 3)))\n",
        "model.add(Dropout(0.25))\n",
        "\n",
        "model.add(Conv2D(256, (3,3)))\n",
        "model.add(BatchNormalization())\n",
        "model.add(Activation('relu'))\n",
        "model.add(MaxPooling2D(pool_size=(3, 3)))\n",
        "model.add(Dropout(0.25))\n",
        "\n",
        "model.add(Conv2D(512, (3,3)))\n",
        "model.add(BatchNormalization())\n",
        "model.add(Activation('relu'))\n",
        "model.add(MaxPooling2D(pool_size=(3, 3)))\n",
        "model.add(Dropout(0.25))\n",
        "\n",
        "#model.add(Conv2D(128, (3,3)))\n",
        "#model.add(BatchNormalization())\n",
        "#model.add(Activation('relu'))\n",
        "#model.add(MaxPooling2D(pool_size=(2, 2)))\n",
        "#model.add(Dropout(0.25))\n",
        "\n",
        "model.add(Flatten())\n",
        "model.add(Dense(64, activation='relu'))\n",
        "model.add(Dropout(0.25))\n",
        "#model.add(Dense(32, activation='LeakyReLU'))\n",
        "model.add(Dense(6, activation='softmax'))\n",
        "\n",
        "model.summary()"
      ],
      "execution_count": 31,
      "outputs": [
        {
          "output_type": "stream",
          "text": [
            "_________________________________________________________________\n",
            "Layer (type)                 Output Shape              Param #   \n",
            "=================================================================\n",
            "conv2d_4 (Conv2D)            (None, 158, 158, 128)     3584      \n",
            "_________________________________________________________________\n",
            "batch_normalization_4 (Batch (None, 158, 158, 128)     512       \n",
            "_________________________________________________________________\n",
            "activation_4 (Activation)    (None, 158, 158, 128)     0         \n",
            "_________________________________________________________________\n",
            "max_pooling2d_4 (MaxPooling2 (None, 52, 52, 128)       0         \n",
            "_________________________________________________________________\n",
            "dropout_5 (Dropout)          (None, 52, 52, 128)       0         \n",
            "_________________________________________________________________\n",
            "conv2d_5 (Conv2D)            (None, 50, 50, 256)       295168    \n",
            "_________________________________________________________________\n",
            "batch_normalization_5 (Batch (None, 50, 50, 256)       1024      \n",
            "_________________________________________________________________\n",
            "activation_5 (Activation)    (None, 50, 50, 256)       0         \n",
            "_________________________________________________________________\n",
            "max_pooling2d_5 (MaxPooling2 (None, 16, 16, 256)       0         \n",
            "_________________________________________________________________\n",
            "dropout_6 (Dropout)          (None, 16, 16, 256)       0         \n",
            "_________________________________________________________________\n",
            "conv2d_6 (Conv2D)            (None, 14, 14, 512)       1180160   \n",
            "_________________________________________________________________\n",
            "batch_normalization_6 (Batch (None, 14, 14, 512)       2048      \n",
            "_________________________________________________________________\n",
            "activation_6 (Activation)    (None, 14, 14, 512)       0         \n",
            "_________________________________________________________________\n",
            "max_pooling2d_6 (MaxPooling2 (None, 4, 4, 512)         0         \n",
            "_________________________________________________________________\n",
            "dropout_7 (Dropout)          (None, 4, 4, 512)         0         \n",
            "_________________________________________________________________\n",
            "flatten_2 (Flatten)          (None, 8192)              0         \n",
            "_________________________________________________________________\n",
            "dense_3 (Dense)              (None, 64)                524352    \n",
            "_________________________________________________________________\n",
            "dropout_8 (Dropout)          (None, 64)                0         \n",
            "_________________________________________________________________\n",
            "dense_4 (Dense)              (None, 6)                 390       \n",
            "=================================================================\n",
            "Total params: 2,007,238\n",
            "Trainable params: 2,005,446\n",
            "Non-trainable params: 1,792\n",
            "_________________________________________________________________\n"
          ],
          "name": "stdout"
        }
      ]
    },
    {
      "metadata": {
        "id": "NI4YGDxyafZw",
        "colab_type": "code",
        "colab": {
          "autoexec": {
            "startup": false,
            "wait_interval": 0
          }
        }
      },
      "cell_type": "code",
      "source": [
        "model.compile(optimizer='adam', loss='mean_squared_error', metrics=['accuracy'])\n",
        "stopper = EarlyStopping(monitor='acc',  patience=10 ,mode='auto')\n",
        "history = History()"
      ],
      "execution_count": 0,
      "outputs": []
    },
    {
      "metadata": {
        "id": "xUuPXBD5c6B2",
        "colab_type": "code",
        "colab": {
          "autoexec": {
            "startup": false,
            "wait_interval": 0
          },
          "resources": {
            "http://localhost:8080/nbextensions/google.colab/files.js": {
              "data": "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",
              "ok": true,
              "headers": [
                [
                  "content-type",
                  "application/javascript"
                ]
              ],
              "status": 200,
              "status_text": ""
            }
          },
          "base_uri": "https://localhost:8080/",
          "height": 89
        },
        "outputId": "55eaf417-afba-45be-d45c-732f741062f6",
        "executionInfo": {
          "status": "ok",
          "timestamp": 1533653159451,
          "user_tz": -420,
          "elapsed": 700478,
          "user": {
            "displayName": "lutfi adam",
            "photoUrl": "//lh4.googleusercontent.com/-v_uCuC_CMtI/AAAAAAAAAAI/AAAAAAAAAHw/oRDqji7y32Y/s50-c-k-no/photo.jpg",
            "userId": "110769470108785662190"
          }
        }
      },
      "cell_type": "code",
      "source": [
        "from google.colab import files\n",
        "\n",
        "uploaded = files.upload()\n",
        "\n",
        "for fn in uploaded.keys():\n",
        "  print('User uploaded file \"{name}\" with length {length} bytes'.format(\n",
        "      name=fn, length=len(uploaded[fn])))"
      ],
      "execution_count": 4,
      "outputs": [
        {
          "output_type": "display_data",
          "data": {
            "text/html": [
              "\n",
              "     <input type=\"file\" id=\"files-54306e4a-20e0-493f-b693-38fc111d8fd3\" name=\"files[]\" multiple disabled />\n",
              "     <output id=\"result-54306e4a-20e0-493f-b693-38fc111d8fd3\">\n",
              "      Upload widget is only available when the cell has been executed in the\n",
              "      current browser session. Please rerun this cell to enable.\n",
              "      </output>\n",
              "      <script src=\"/nbextensions/google.colab/files.js\"></script> "
            ],
            "text/plain": [
              "<IPython.core.display.HTML object>"
            ]
          },
          "metadata": {
            "tags": []
          }
        },
        {
          "output_type": "stream",
          "text": [
            "Saving imageX.npy to imageX.npy\n",
            "User uploaded file \"imageX.npy\" with length 48384128 bytes\n"
          ],
          "name": "stdout"
        }
      ]
    },
    {
      "metadata": {
        "id": "pi_gvj9ho9sK",
        "colab_type": "code",
        "colab": {
          "autoexec": {
            "startup": false,
            "wait_interval": 0
          },
          "resources": {
            "http://localhost:8080/nbextensions/google.colab/files.js": {
              "data": "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",
              "ok": true,
              "headers": [
                [
                  "content-type",
                  "application/javascript"
                ]
              ],
              "status": 200,
              "status_text": ""
            }
          },
          "base_uri": "https://localhost:8080/",
          "height": 89
        },
        "outputId": "b1507c88-5068-46be-9a83-421a7fce72e7",
        "executionInfo": {
          "status": "ok",
          "timestamp": 1533654012277,
          "user_tz": -420,
          "elapsed": 13430,
          "user": {
            "displayName": "lutfi adam",
            "photoUrl": "//lh4.googleusercontent.com/-v_uCuC_CMtI/AAAAAAAAAAI/AAAAAAAAAHw/oRDqji7y32Y/s50-c-k-no/photo.jpg",
            "userId": "110769470108785662190"
          }
        }
      },
      "cell_type": "code",
      "source": [
        "from google.colab import files\n",
        "\n",
        "uploaded = files.upload()\n",
        "\n",
        "for fn in uploaded.keys():\n",
        "  print('User uploaded file \"{name}\" with length {length} bytes'.format(\n",
        "      name=fn, length=len(uploaded[fn])))"
      ],
      "execution_count": 5,
      "outputs": [
        {
          "output_type": "display_data",
          "data": {
            "text/html": [
              "\n",
              "     <input type=\"file\" id=\"files-4bc1ecc9-3fdd-4ce6-b395-80bcafba4132\" name=\"files[]\" multiple disabled />\n",
              "     <output id=\"result-4bc1ecc9-3fdd-4ce6-b395-80bcafba4132\">\n",
              "      Upload widget is only available when the cell has been executed in the\n",
              "      current browser session. Please rerun this cell to enable.\n",
              "      </output>\n",
              "      <script src=\"/nbextensions/google.colab/files.js\"></script> "
            ],
            "text/plain": [
              "<IPython.core.display.HTML object>"
            ]
          },
          "metadata": {
            "tags": []
          }
        },
        {
          "output_type": "stream",
          "text": [
            "Saving labelY.npy to labelY.npy\n",
            "User uploaded file \"labelY.npy\" with length 2648 bytes\n"
          ],
          "name": "stdout"
        }
      ]
    },
    {
      "metadata": {
        "id": "sPEp9ap3afaS",
        "colab_type": "code",
        "colab": {
          "autoexec": {
            "startup": false,
            "wait_interval": 0
          }
        }
      },
      "cell_type": "code",
      "source": [
        "Img = np.load(\"imageX.npy\")\n",
        "labels = np.load(\"labelY.npy\")"
      ],
      "execution_count": 0,
      "outputs": []
    },
    {
      "metadata": {
        "id": "Qosr_nAPafad",
        "colab_type": "code",
        "colab": {
          "autoexec": {
            "startup": false,
            "wait_interval": 0
          },
          "base_uri": "https://localhost:8080/",
          "height": 34
        },
        "outputId": "869d9a1e-706d-4081-a603-a367ae67e378",
        "executionInfo": {
          "status": "ok",
          "timestamp": 1533657246366,
          "user_tz": -420,
          "elapsed": 521,
          "user": {
            "displayName": "lutfi adam",
            "photoUrl": "//lh4.googleusercontent.com/-v_uCuC_CMtI/AAAAAAAAAAI/AAAAAAAAAHw/oRDqji7y32Y/s50-c-k-no/photo.jpg",
            "userId": "110769470108785662190"
          }
        }
      },
      "cell_type": "code",
      "source": [
        "Img.shape"
      ],
      "execution_count": 34,
      "outputs": [
        {
          "output_type": "execute_result",
          "data": {
            "text/plain": [
              "(630, 160, 160, 3)"
            ]
          },
          "metadata": {
            "tags": []
          },
          "execution_count": 34
        }
      ]
    },
    {
      "metadata": {
        "id": "5R_rLW3_afaq",
        "colab_type": "code",
        "colab": {
          "autoexec": {
            "startup": false,
            "wait_interval": 0
          }
        }
      },
      "cell_type": "code",
      "source": [
        "label = to_categorical(labels)"
      ],
      "execution_count": 0,
      "outputs": []
    },
    {
      "metadata": {
        "id": "PrZuDBM9afa1",
        "colab_type": "code",
        "colab": {
          "autoexec": {
            "startup": false,
            "wait_interval": 0
          },
          "base_uri": "https://localhost:8080/",
          "height": 17051
        },
        "outputId": "056e8677-7618-43b4-cd54-c679a6c93860",
        "executionInfo": {
          "status": "ok",
          "timestamp": 1533659565734,
          "user_tz": -420,
          "elapsed": 2283361,
          "user": {
            "displayName": "lutfi adam",
            "photoUrl": "//lh4.googleusercontent.com/-v_uCuC_CMtI/AAAAAAAAAAI/AAAAAAAAAHw/oRDqji7y32Y/s50-c-k-no/photo.jpg",
            "userId": "110769470108785662190"
          }
        }
      },
      "cell_type": "code",
      "source": [
        "model.fit(x=Img, y=label, batch_size=32, epochs=500, callbacks=[history] , validation_split=0.1)"
      ],
      "execution_count": 38,
      "outputs": [
        {
          "output_type": "stream",
          "text": [
            "Train on 567 samples, validate on 63 samples\n",
            "Epoch 1/500\n",
            "567/567 [==============================] - 6s 10ms/step - loss: 0.2499 - acc: 0.1869 - val_loss: 0.3309 - val_acc: 0.0000e+00\n",
            "Epoch 2/500\n",
            "567/567 [==============================] - 5s 8ms/step - loss: 0.2319 - acc: 0.2698 - val_loss: 0.3315 - val_acc: 0.0000e+00\n",
            "Epoch 3/500\n",
            "567/567 [==============================] - 4s 8ms/step - loss: 0.2203 - acc: 0.3086 - val_loss: 0.3051 - val_acc: 0.0476\n",
            "Epoch 4/500\n",
            "567/567 [==============================] - 5s 8ms/step - loss: 0.2214 - acc: 0.2892 - val_loss: 0.3253 - val_acc: 0.0000e+00\n",
            "Epoch 5/500\n",
            "567/567 [==============================] - 5s 8ms/step - loss: 0.2219 - acc: 0.2840 - val_loss: 0.3215 - val_acc: 0.0000e+00\n",
            "Epoch 6/500\n",
            "567/567 [==============================] - 5s 8ms/step - loss: 0.2059 - acc: 0.3298 - val_loss: 0.3239 - val_acc: 0.0000e+00\n",
            "Epoch 7/500\n",
            "567/567 [==============================] - 5s 8ms/step - loss: 0.2047 - acc: 0.3369 - val_loss: 0.3286 - val_acc: 0.0000e+00\n",
            "Epoch 8/500\n",
            "567/567 [==============================] - 5s 8ms/step - loss: 0.1962 - acc: 0.3404 - val_loss: 0.3120 - val_acc: 0.0000e+00\n",
            "Epoch 9/500\n",
            "567/567 [==============================] - 5s 8ms/step - loss: 0.1608 - acc: 0.3598 - val_loss: 0.3216 - val_acc: 0.0000e+00\n",
            "Epoch 10/500\n",
            "567/567 [==============================] - 5s 8ms/step - loss: 0.1504 - acc: 0.3580 - val_loss: 0.3166 - val_acc: 0.0000e+00\n",
            "Epoch 11/500\n",
            "567/567 [==============================] - 5s 8ms/step - loss: 0.1492 - acc: 0.3492 - val_loss: 0.3206 - val_acc: 0.0000e+00\n",
            "Epoch 12/500\n",
            "567/567 [==============================] - 5s 8ms/step - loss: 0.1309 - acc: 0.3351 - val_loss: 0.1457 - val_acc: 0.0000e+00\n",
            "Epoch 13/500\n",
            "567/567 [==============================] - 5s 8ms/step - loss: 0.1229 - acc: 0.3316 - val_loss: 0.1464 - val_acc: 0.0000e+00\n",
            "Epoch 14/500\n",
            "567/567 [==============================] - 5s 8ms/step - loss: 0.1194 - acc: 0.3527 - val_loss: 0.1481 - val_acc: 0.0000e+00\n",
            "Epoch 15/500\n",
            "567/567 [==============================] - 5s 8ms/step - loss: 0.1203 - acc: 0.3616 - val_loss: 0.1464 - val_acc: 0.0000e+00\n",
            "Epoch 16/500\n",
            "567/567 [==============================] - 5s 8ms/step - loss: 0.1191 - acc: 0.3580 - val_loss: 0.1477 - val_acc: 0.0000e+00\n",
            "Epoch 17/500\n",
            "567/567 [==============================] - 5s 8ms/step - loss: 0.1170 - acc: 0.3580 - val_loss: 0.1602 - val_acc: 0.0000e+00\n",
            "Epoch 18/500\n",
            "567/567 [==============================] - 5s 8ms/step - loss: 0.1163 - acc: 0.4004 - val_loss: 0.1484 - val_acc: 0.0000e+00\n",
            "Epoch 19/500\n",
            "567/567 [==============================] - 5s 8ms/step - loss: 0.1161 - acc: 0.3986 - val_loss: 0.1536 - val_acc: 0.0000e+00\n",
            "Epoch 20/500\n",
            "567/567 [==============================] - 5s 8ms/step - loss: 0.1133 - acc: 0.4109 - val_loss: 0.1599 - val_acc: 0.0000e+00\n",
            "Epoch 21/500\n",
            "567/567 [==============================] - 5s 8ms/step - loss: 0.1127 - acc: 0.4250 - val_loss: 0.1608 - val_acc: 0.0000e+00\n",
            "Epoch 22/500\n",
            "567/567 [==============================] - 5s 8ms/step - loss: 0.1124 - acc: 0.4268 - val_loss: 0.1582 - val_acc: 0.0000e+00\n",
            "Epoch 23/500\n",
            "567/567 [==============================] - 5s 8ms/step - loss: 0.1095 - acc: 0.4427 - val_loss: 0.1681 - val_acc: 0.0000e+00\n",
            "Epoch 24/500\n",
            "567/567 [==============================] - 5s 8ms/step - loss: 0.1123 - acc: 0.4268 - val_loss: 0.1595 - val_acc: 0.0000e+00\n",
            "Epoch 25/500\n",
            "567/567 [==============================] - 5s 8ms/step - loss: 0.1118 - acc: 0.4480 - val_loss: 0.1947 - val_acc: 0.0000e+00\n",
            "Epoch 26/500\n",
            "567/567 [==============================] - 5s 8ms/step - loss: 0.1126 - acc: 0.4356 - val_loss: 0.2870 - val_acc: 0.0000e+00\n",
            "Epoch 27/500\n",
            "567/567 [==============================] - 5s 8ms/step - loss: 0.1118 - acc: 0.4427 - val_loss: 0.1966 - val_acc: 0.0000e+00\n",
            "Epoch 28/500\n",
            "567/567 [==============================] - 5s 8ms/step - loss: 0.1109 - acc: 0.4250 - val_loss: 0.1711 - val_acc: 0.0000e+00\n",
            "Epoch 29/500\n",
            "567/567 [==============================] - 5s 8ms/step - loss: 0.1047 - acc: 0.4691 - val_loss: 0.1890 - val_acc: 0.0000e+00\n",
            "Epoch 30/500\n",
            "567/567 [==============================] - 5s 8ms/step - loss: 0.1080 - acc: 0.4480 - val_loss: 0.1867 - val_acc: 0.0000e+00\n",
            "Epoch 31/500\n",
            "567/567 [==============================] - 5s 8ms/step - loss: 0.1084 - acc: 0.4480 - val_loss: 0.1857 - val_acc: 0.0000e+00\n",
            "Epoch 32/500\n",
            "567/567 [==============================] - 5s 8ms/step - loss: 0.1091 - acc: 0.4727 - val_loss: 0.1680 - val_acc: 0.0000e+00\n",
            "Epoch 33/500\n",
            "567/567 [==============================] - 5s 8ms/step - loss: 0.1060 - acc: 0.4603 - val_loss: 0.1771 - val_acc: 0.0000e+00\n",
            "Epoch 34/500\n",
            "567/567 [==============================] - 5s 8ms/step - loss: 0.1060 - acc: 0.4515 - val_loss: 0.1766 - val_acc: 0.0000e+00\n",
            "Epoch 35/500\n",
            "567/567 [==============================] - 5s 8ms/step - loss: 0.1054 - acc: 0.4656 - val_loss: 0.1886 - val_acc: 0.0000e+00\n",
            "Epoch 36/500\n",
            "567/567 [==============================] - 5s 8ms/step - loss: 0.1046 - acc: 0.4956 - val_loss: 0.1916 - val_acc: 0.0000e+00\n",
            "Epoch 37/500\n",
            "567/567 [==============================] - 5s 8ms/step - loss: 0.1031 - acc: 0.4762 - val_loss: 0.1973 - val_acc: 0.0000e+00\n",
            "Epoch 38/500\n",
            "567/567 [==============================] - 5s 8ms/step - loss: 0.1030 - acc: 0.4727 - val_loss: 0.1906 - val_acc: 0.0000e+00\n",
            "Epoch 39/500\n",
            "567/567 [==============================] - 5s 8ms/step - loss: 0.1077 - acc: 0.4392 - val_loss: 0.1928 - val_acc: 0.0000e+00\n",
            "Epoch 40/500\n",
            "567/567 [==============================] - 5s 8ms/step - loss: 0.1016 - acc: 0.4991 - val_loss: 0.2021 - val_acc: 0.0000e+00\n",
            "Epoch 41/500\n",
            "567/567 [==============================] - 5s 8ms/step - loss: 0.0964 - acc: 0.5168 - val_loss: 0.2032 - val_acc: 0.0000e+00\n",
            "Epoch 42/500\n",
            "567/567 [==============================] - 5s 8ms/step - loss: 0.1011 - acc: 0.4974 - val_loss: 0.2038 - val_acc: 0.0000e+00\n",
            "Epoch 43/500\n",
            "567/567 [==============================] - 5s 8ms/step - loss: 0.0998 - acc: 0.4850 - val_loss: 0.1781 - val_acc: 0.0000e+00\n",
            "Epoch 44/500\n",
            "567/567 [==============================] - 5s 8ms/step - loss: 0.1041 - acc: 0.4762 - val_loss: 0.2243 - val_acc: 0.0000e+00\n",
            "Epoch 45/500\n",
            "567/567 [==============================] - 5s 8ms/step - loss: 0.1004 - acc: 0.5097 - val_loss: 0.2133 - val_acc: 0.0000e+00\n",
            "Epoch 46/500\n",
            "567/567 [==============================] - 5s 8ms/step - loss: 0.0999 - acc: 0.4850 - val_loss: 0.1964 - val_acc: 0.0000e+00\n",
            "Epoch 47/500\n",
            "567/567 [==============================] - 5s 8ms/step - loss: 0.0956 - acc: 0.5185 - val_loss: 0.1867 - val_acc: 0.0000e+00\n",
            "Epoch 48/500\n",
            "567/567 [==============================] - 5s 8ms/step - loss: 0.0944 - acc: 0.5273 - val_loss: 0.2066 - val_acc: 0.0000e+00\n",
            "Epoch 49/500\n",
            "567/567 [==============================] - 5s 8ms/step - loss: 0.0946 - acc: 0.5220 - val_loss: 0.2116 - val_acc: 0.0000e+00\n",
            "Epoch 50/500\n",
            "567/567 [==============================] - 5s 8ms/step - loss: 0.0978 - acc: 0.5150 - val_loss: 0.1885 - val_acc: 0.0000e+00\n",
            "Epoch 51/500\n",
            "567/567 [==============================] - 5s 8ms/step - loss: 0.0939 - acc: 0.5097 - val_loss: 0.1964 - val_acc: 0.0000e+00\n",
            "Epoch 52/500\n",
            "567/567 [==============================] - 5s 8ms/step - loss: 0.0906 - acc: 0.5626 - val_loss: 0.2445 - val_acc: 0.0000e+00\n",
            "Epoch 53/500\n",
            "567/567 [==============================] - 5s 8ms/step - loss: 0.0884 - acc: 0.5556 - val_loss: 0.1991 - val_acc: 0.0000e+00\n",
            "Epoch 54/500\n",
            "567/567 [==============================] - 5s 8ms/step - loss: 0.0871 - acc: 0.5679 - val_loss: 0.2182 - val_acc: 0.0000e+00\n",
            "Epoch 55/500\n",
            "567/567 [==============================] - 5s 8ms/step - loss: 0.0878 - acc: 0.5591 - val_loss: 0.1968 - val_acc: 0.0000e+00\n",
            "Epoch 56/500\n",
            "567/567 [==============================] - 5s 8ms/step - loss: 0.0879 - acc: 0.5679 - val_loss: 0.2109 - val_acc: 0.0000e+00\n",
            "Epoch 57/500\n",
            "567/567 [==============================] - 5s 8ms/step - loss: 0.0888 - acc: 0.5714 - val_loss: 0.2195 - val_acc: 0.0000e+00\n",
            "Epoch 58/500\n",
            "567/567 [==============================] - 5s 8ms/step - loss: 0.0882 - acc: 0.5591 - val_loss: 0.2128 - val_acc: 0.0000e+00\n",
            "Epoch 59/500\n",
            "567/567 [==============================] - 5s 8ms/step - loss: 0.0886 - acc: 0.5679 - val_loss: 0.1866 - val_acc: 0.0000e+00\n",
            "Epoch 60/500\n",
            "567/567 [==============================] - 5s 8ms/step - loss: 0.0930 - acc: 0.5326 - val_loss: 0.2114 - val_acc: 0.0000e+00\n",
            "Epoch 61/500\n",
            "567/567 [==============================] - 5s 8ms/step - loss: 0.0934 - acc: 0.5467 - val_loss: 0.2228 - val_acc: 0.0000e+00\n",
            "Epoch 62/500\n",
            "567/567 [==============================] - 5s 8ms/step - loss: 0.0914 - acc: 0.5397 - val_loss: 0.2248 - val_acc: 0.0000e+00\n",
            "Epoch 63/500\n",
            "567/567 [==============================] - 5s 8ms/step - loss: 0.0888 - acc: 0.5432 - val_loss: 0.1762 - val_acc: 0.0000e+00\n",
            "Epoch 64/500\n",
            "567/567 [==============================] - 5s 8ms/step - loss: 0.0885 - acc: 0.5573 - val_loss: 0.1902 - val_acc: 0.0000e+00\n",
            "Epoch 65/500\n",
            "567/567 [==============================] - 5s 8ms/step - loss: 0.0847 - acc: 0.5855 - val_loss: 0.1910 - val_acc: 0.0000e+00\n",
            "Epoch 66/500\n",
            "567/567 [==============================] - 5s 8ms/step - loss: 0.0881 - acc: 0.5538 - val_loss: 0.1623 - val_acc: 0.0000e+00\n",
            "Epoch 67/500\n",
            "567/567 [==============================] - 5s 8ms/step - loss: 0.0863 - acc: 0.5697 - val_loss: 0.2274 - val_acc: 0.0000e+00\n",
            "Epoch 68/500\n",
            "567/567 [==============================] - 5s 8ms/step - loss: 0.0849 - acc: 0.5714 - val_loss: 0.1801 - val_acc: 0.0000e+00\n",
            "Epoch 69/500\n",
            "567/567 [==============================] - 5s 8ms/step - loss: 0.0820 - acc: 0.5908 - val_loss: 0.1814 - val_acc: 0.0000e+00\n",
            "Epoch 70/500\n",
            "567/567 [==============================] - 5s 8ms/step - loss: 0.0831 - acc: 0.5750 - val_loss: 0.2154 - val_acc: 0.0000e+00\n",
            "Epoch 71/500\n",
            "567/567 [==============================] - 5s 8ms/step - loss: 0.0811 - acc: 0.5891 - val_loss: 0.2312 - val_acc: 0.0000e+00\n",
            "Epoch 72/500\n",
            "567/567 [==============================] - 5s 8ms/step - loss: 0.0862 - acc: 0.5679 - val_loss: 0.2021 - val_acc: 0.0000e+00\n",
            "Epoch 73/500\n",
            "567/567 [==============================] - 5s 8ms/step - loss: 0.0824 - acc: 0.5891 - val_loss: 0.2001 - val_acc: 0.0000e+00\n",
            "Epoch 74/500\n",
            "567/567 [==============================] - 5s 8ms/step - loss: 0.0830 - acc: 0.5750 - val_loss: 0.2010 - val_acc: 0.0000e+00\n",
            "Epoch 75/500\n",
            "567/567 [==============================] - 5s 8ms/step - loss: 0.0834 - acc: 0.5750 - val_loss: 0.1827 - val_acc: 0.0000e+00\n",
            "Epoch 76/500\n",
            "567/567 [==============================] - 5s 8ms/step - loss: 0.0794 - acc: 0.6120 - val_loss: 0.2225 - val_acc: 0.0000e+00\n",
            "Epoch 77/500\n",
            "567/567 [==============================] - 5s 8ms/step - loss: 0.0859 - acc: 0.5714 - val_loss: 0.1832 - val_acc: 0.0000e+00\n",
            "Epoch 78/500\n",
            "567/567 [==============================] - 5s 8ms/step - loss: 0.0812 - acc: 0.5961 - val_loss: 0.2340 - val_acc: 0.0000e+00\n",
            "Epoch 79/500\n",
            "567/567 [==============================] - 5s 8ms/step - loss: 0.0853 - acc: 0.5944 - val_loss: 0.2376 - val_acc: 0.0000e+00\n",
            "Epoch 80/500\n",
            "567/567 [==============================] - 5s 8ms/step - loss: 0.0838 - acc: 0.5820 - val_loss: 0.2023 - val_acc: 0.0000e+00\n",
            "Epoch 81/500\n",
            "567/567 [==============================] - 5s 8ms/step - loss: 0.0811 - acc: 0.5855 - val_loss: 0.1958 - val_acc: 0.0000e+00\n",
            "Epoch 82/500\n",
            "567/567 [==============================] - 5s 8ms/step - loss: 0.0805 - acc: 0.6014 - val_loss: 0.1830 - val_acc: 0.0000e+00\n",
            "Epoch 83/500\n",
            "567/567 [==============================] - 5s 8ms/step - loss: 0.0799 - acc: 0.5961 - val_loss: 0.2043 - val_acc: 0.0000e+00\n",
            "Epoch 84/500\n",
            "567/567 [==============================] - 5s 8ms/step - loss: 0.0813 - acc: 0.5802 - val_loss: 0.1671 - val_acc: 0.0000e+00\n",
            "Epoch 85/500\n",
            "567/567 [==============================] - 5s 8ms/step - loss: 0.0819 - acc: 0.5767 - val_loss: 0.2079 - val_acc: 0.0000e+00\n",
            "Epoch 86/500\n",
            "567/567 [==============================] - 5s 8ms/step - loss: 0.0767 - acc: 0.6296 - val_loss: 0.2282 - val_acc: 0.0000e+00\n",
            "Epoch 87/500\n",
            "567/567 [==============================] - 5s 8ms/step - loss: 0.0827 - acc: 0.5961 - val_loss: 0.1766 - val_acc: 0.0000e+00\n",
            "Epoch 88/500\n",
            "567/567 [==============================] - 5s 8ms/step - loss: 0.0825 - acc: 0.5855 - val_loss: 0.2190 - val_acc: 0.0000e+00\n",
            "Epoch 89/500\n",
            "567/567 [==============================] - 5s 8ms/step - loss: 0.0777 - acc: 0.6067 - val_loss: 0.1771 - val_acc: 0.0000e+00\n",
            "Epoch 90/500\n",
            "567/567 [==============================] - 5s 8ms/step - loss: 0.0806 - acc: 0.5944 - val_loss: 0.2227 - val_acc: 0.0000e+00\n",
            "Epoch 91/500\n",
            "567/567 [==============================] - 5s 8ms/step - loss: 0.0794 - acc: 0.6032 - val_loss: 0.1851 - val_acc: 0.0000e+00\n",
            "Epoch 92/500\n",
            "567/567 [==============================] - 5s 8ms/step - loss: 0.0772 - acc: 0.6208 - val_loss: 0.2196 - val_acc: 0.0000e+00\n",
            "Epoch 93/500\n",
            "567/567 [==============================] - 5s 8ms/step - loss: 0.0807 - acc: 0.5979 - val_loss: 0.2166 - val_acc: 0.0000e+00\n",
            "Epoch 94/500\n",
            "567/567 [==============================] - 5s 8ms/step - loss: 0.0748 - acc: 0.6296 - val_loss: 0.2414 - val_acc: 0.0000e+00\n",
            "Epoch 95/500\n",
            "567/567 [==============================] - 5s 8ms/step - loss: 0.0763 - acc: 0.6226 - val_loss: 0.2214 - val_acc: 0.0000e+00\n",
            "Epoch 96/500\n",
            "567/567 [==============================] - 5s 8ms/step - loss: 0.0818 - acc: 0.5873 - val_loss: 0.2237 - val_acc: 0.0000e+00\n",
            "Epoch 97/500\n",
            "567/567 [==============================] - 5s 8ms/step - loss: 0.0816 - acc: 0.5944 - val_loss: 0.2128 - val_acc: 0.0000e+00\n",
            "Epoch 98/500\n",
            "567/567 [==============================] - 5s 8ms/step - loss: 0.0769 - acc: 0.6208 - val_loss: 0.1924 - val_acc: 0.0000e+00\n",
            "Epoch 99/500\n",
            "567/567 [==============================] - 5s 8ms/step - loss: 0.0800 - acc: 0.5908 - val_loss: 0.2432 - val_acc: 0.0000e+00\n",
            "Epoch 100/500\n",
            "567/567 [==============================] - 5s 8ms/step - loss: 0.0787 - acc: 0.5891 - val_loss: 0.1929 - val_acc: 0.0000e+00\n",
            "Epoch 101/500\n",
            "567/567 [==============================] - 5s 8ms/step - loss: 0.0754 - acc: 0.6085 - val_loss: 0.2363 - val_acc: 0.0000e+00\n",
            "Epoch 102/500\n",
            "567/567 [==============================] - 5s 8ms/step - loss: 0.0765 - acc: 0.6085 - val_loss: 0.2108 - val_acc: 0.0000e+00\n",
            "Epoch 103/500\n",
            "567/567 [==============================] - 5s 8ms/step - loss: 0.0735 - acc: 0.6384 - val_loss: 0.2303 - val_acc: 0.0000e+00\n",
            "Epoch 104/500\n",
            "567/567 [==============================] - 5s 8ms/step - loss: 0.0754 - acc: 0.6208 - val_loss: 0.2080 - val_acc: 0.0000e+00\n",
            "Epoch 105/500\n",
            "567/567 [==============================] - 5s 8ms/step - loss: 0.0758 - acc: 0.6314 - val_loss: 0.2351 - val_acc: 0.0000e+00\n",
            "Epoch 106/500\n",
            "567/567 [==============================] - 5s 8ms/step - loss: 0.0749 - acc: 0.6314 - val_loss: 0.1854 - val_acc: 0.0000e+00\n",
            "Epoch 107/500\n",
            "567/567 [==============================] - 5s 8ms/step - loss: 0.0726 - acc: 0.6455 - val_loss: 0.1734 - val_acc: 0.0000e+00\n",
            "Epoch 108/500\n",
            "567/567 [==============================] - 5s 8ms/step - loss: 0.0747 - acc: 0.6261 - val_loss: 0.2001 - val_acc: 0.0000e+00\n",
            "Epoch 109/500\n",
            "567/567 [==============================] - 5s 8ms/step - loss: 0.0738 - acc: 0.6349 - val_loss: 0.2263 - val_acc: 0.0000e+00\n",
            "Epoch 110/500\n",
            "567/567 [==============================] - 5s 8ms/step - loss: 0.0713 - acc: 0.6437 - val_loss: 0.2501 - val_acc: 0.0000e+00\n",
            "Epoch 111/500\n",
            "567/567 [==============================] - 5s 8ms/step - loss: 0.0734 - acc: 0.6543 - val_loss: 0.2321 - val_acc: 0.0000e+00\n",
            "Epoch 112/500\n",
            "567/567 [==============================] - 5s 8ms/step - loss: 0.0750 - acc: 0.6332 - val_loss: 0.1902 - val_acc: 0.0000e+00\n",
            "Epoch 113/500\n",
            "567/567 [==============================] - 5s 8ms/step - loss: 0.0715 - acc: 0.6526 - val_loss: 0.2634 - val_acc: 0.0000e+00\n",
            "Epoch 114/500\n",
            "567/567 [==============================] - 5s 8ms/step - loss: 0.0733 - acc: 0.6314 - val_loss: 0.1776 - val_acc: 0.0000e+00\n",
            "Epoch 115/500\n",
            "567/567 [==============================] - 5s 8ms/step - loss: 0.0694 - acc: 0.6667 - val_loss: 0.2279 - val_acc: 0.0000e+00\n",
            "Epoch 116/500\n",
            "567/567 [==============================] - 5s 8ms/step - loss: 0.0688 - acc: 0.6631 - val_loss: 0.2398 - val_acc: 0.0000e+00\n",
            "Epoch 117/500\n",
            "567/567 [==============================] - 5s 8ms/step - loss: 0.0780 - acc: 0.6243 - val_loss: 0.2249 - val_acc: 0.0000e+00\n",
            "Epoch 118/500\n",
            "567/567 [==============================] - 5s 8ms/step - loss: 0.0763 - acc: 0.6226 - val_loss: 0.1833 - val_acc: 0.0000e+00\n",
            "Epoch 119/500\n",
            "567/567 [==============================] - 5s 8ms/step - loss: 0.0725 - acc: 0.6596 - val_loss: 0.2142 - val_acc: 0.0000e+00\n",
            "Epoch 120/500\n",
            "567/567 [==============================] - 5s 8ms/step - loss: 0.0720 - acc: 0.6578 - val_loss: 0.2325 - val_acc: 0.0000e+00\n",
            "Epoch 121/500\n",
            "567/567 [==============================] - 5s 8ms/step - loss: 0.0714 - acc: 0.6543 - val_loss: 0.2766 - val_acc: 0.0000e+00\n",
            "Epoch 122/500\n",
            "567/567 [==============================] - 5s 8ms/step - loss: 0.0707 - acc: 0.6561 - val_loss: 0.2205 - val_acc: 0.0000e+00\n",
            "Epoch 123/500\n",
            "567/567 [==============================] - 5s 8ms/step - loss: 0.0729 - acc: 0.6473 - val_loss: 0.2373 - val_acc: 0.0000e+00\n",
            "Epoch 124/500\n",
            "567/567 [==============================] - 5s 8ms/step - loss: 0.0696 - acc: 0.6755 - val_loss: 0.2012 - val_acc: 0.0000e+00\n",
            "Epoch 125/500\n",
            "567/567 [==============================] - 5s 8ms/step - loss: 0.0813 - acc: 0.6120 - val_loss: 0.2259 - val_acc: 0.0000e+00\n",
            "Epoch 126/500\n",
            "567/567 [==============================] - 5s 8ms/step - loss: 0.0780 - acc: 0.6102 - val_loss: 0.1966 - val_acc: 0.0000e+00\n",
            "Epoch 127/500\n",
            "567/567 [==============================] - 5s 8ms/step - loss: 0.0729 - acc: 0.6420 - val_loss: 0.2327 - val_acc: 0.0000e+00\n",
            "Epoch 128/500\n",
            "567/567 [==============================] - 5s 8ms/step - loss: 0.0744 - acc: 0.6296 - val_loss: 0.1796 - val_acc: 0.0000e+00\n",
            "Epoch 129/500\n",
            "567/567 [==============================] - 5s 8ms/step - loss: 0.0738 - acc: 0.6384 - val_loss: 0.2153 - val_acc: 0.0000e+00\n",
            "Epoch 130/500\n",
            "567/567 [==============================] - 5s 8ms/step - loss: 0.0758 - acc: 0.6279 - val_loss: 0.2174 - val_acc: 0.0000e+00\n",
            "Epoch 131/500\n",
            "567/567 [==============================] - 5s 8ms/step - loss: 0.0759 - acc: 0.6190 - val_loss: 0.2164 - val_acc: 0.0000e+00\n",
            "Epoch 132/500\n",
            "567/567 [==============================] - 5s 8ms/step - loss: 0.0682 - acc: 0.6720 - val_loss: 0.1964 - val_acc: 0.0000e+00\n",
            "Epoch 133/500\n",
            "567/567 [==============================] - 5s 8ms/step - loss: 0.0693 - acc: 0.6702 - val_loss: 0.2212 - val_acc: 0.0000e+00\n",
            "Epoch 134/500\n",
            "567/567 [==============================] - 5s 8ms/step - loss: 0.0809 - acc: 0.6296 - val_loss: 0.2635 - val_acc: 0.0000e+00\n",
            "Epoch 135/500\n",
            "567/567 [==============================] - 5s 8ms/step - loss: 0.0713 - acc: 0.6737 - val_loss: 0.2298 - val_acc: 0.0000e+00\n",
            "Epoch 136/500\n",
            "567/567 [==============================] - 5s 8ms/step - loss: 0.0664 - acc: 0.6861 - val_loss: 0.2314 - val_acc: 0.0000e+00\n",
            "Epoch 137/500\n",
            "567/567 [==============================] - 5s 8ms/step - loss: 0.0670 - acc: 0.6896 - val_loss: 0.2087 - val_acc: 0.0000e+00\n",
            "Epoch 138/500\n",
            "567/567 [==============================] - 5s 8ms/step - loss: 0.0690 - acc: 0.6702 - val_loss: 0.2214 - val_acc: 0.0000e+00\n",
            "Epoch 139/500\n",
            "567/567 [==============================] - 5s 8ms/step - loss: 0.0624 - acc: 0.7090 - val_loss: 0.2301 - val_acc: 0.0000e+00\n",
            "Epoch 140/500\n",
            "567/567 [==============================] - 5s 8ms/step - loss: 0.0654 - acc: 0.7160 - val_loss: 0.2095 - val_acc: 0.0000e+00\n",
            "Epoch 141/500\n",
            "567/567 [==============================] - 5s 8ms/step - loss: 0.0662 - acc: 0.6984 - val_loss: 0.1952 - val_acc: 0.0000e+00\n",
            "Epoch 142/500\n",
            "567/567 [==============================] - 5s 8ms/step - loss: 0.0627 - acc: 0.7090 - val_loss: 0.2121 - val_acc: 0.0000e+00\n",
            "Epoch 143/500\n",
            "567/567 [==============================] - 5s 8ms/step - loss: 0.0580 - acc: 0.7407 - val_loss: 0.2185 - val_acc: 0.0000e+00\n",
            "Epoch 144/500\n",
            "567/567 [==============================] - 5s 8ms/step - loss: 0.0655 - acc: 0.7037 - val_loss: 0.1819 - val_acc: 0.0000e+00\n",
            "Epoch 145/500\n",
            "567/567 [==============================] - 5s 8ms/step - loss: 0.0635 - acc: 0.7196 - val_loss: 0.2445 - val_acc: 0.0000e+00\n",
            "Epoch 146/500\n",
            "567/567 [==============================] - 5s 8ms/step - loss: 0.0655 - acc: 0.7055 - val_loss: 0.2353 - val_acc: 0.0000e+00\n",
            "Epoch 147/500\n",
            "567/567 [==============================] - 5s 8ms/step - loss: 0.0607 - acc: 0.7407 - val_loss: 0.1987 - val_acc: 0.0000e+00\n",
            "Epoch 148/500\n",
            "567/567 [==============================] - 5s 8ms/step - loss: 0.0668 - acc: 0.6949 - val_loss: 0.2312 - val_acc: 0.0000e+00\n",
            "Epoch 149/500\n",
            "567/567 [==============================] - 5s 8ms/step - loss: 0.0644 - acc: 0.7125 - val_loss: 0.2657 - val_acc: 0.0000e+00\n",
            "Epoch 150/500\n",
            "567/567 [==============================] - 5s 8ms/step - loss: 0.0647 - acc: 0.7037 - val_loss: 0.2040 - val_acc: 0.0000e+00\n",
            "Epoch 151/500\n",
            "567/567 [==============================] - 5s 8ms/step - loss: 0.0640 - acc: 0.7055 - val_loss: 0.2543 - val_acc: 0.0000e+00\n",
            "Epoch 152/500\n",
            "567/567 [==============================] - 5s 8ms/step - loss: 0.0646 - acc: 0.7108 - val_loss: 0.2047 - val_acc: 0.0000e+00\n",
            "Epoch 153/500\n",
            "567/567 [==============================] - 5s 8ms/step - loss: 0.0669 - acc: 0.6843 - val_loss: 0.2212 - val_acc: 0.0000e+00\n",
            "Epoch 154/500\n",
            "567/567 [==============================] - 5s 8ms/step - loss: 0.0597 - acc: 0.7478 - val_loss: 0.2921 - val_acc: 0.0000e+00\n",
            "Epoch 155/500\n",
            "567/567 [==============================] - 5s 8ms/step - loss: 0.0611 - acc: 0.7337 - val_loss: 0.2350 - val_acc: 0.0000e+00\n",
            "Epoch 156/500\n",
            "567/567 [==============================] - 5s 8ms/step - loss: 0.0583 - acc: 0.7478 - val_loss: 0.2003 - val_acc: 0.0000e+00\n",
            "Epoch 157/500\n",
            "567/567 [==============================] - 5s 8ms/step - loss: 0.0564 - acc: 0.7637 - val_loss: 0.2150 - val_acc: 0.0000e+00\n",
            "Epoch 158/500\n",
            "567/567 [==============================] - 5s 8ms/step - loss: 0.0618 - acc: 0.7249 - val_loss: 0.1933 - val_acc: 0.0000e+00\n",
            "Epoch 159/500\n",
            "567/567 [==============================] - 5s 8ms/step - loss: 0.0614 - acc: 0.7319 - val_loss: 0.2268 - val_acc: 0.0000e+00\n",
            "Epoch 160/500\n",
            "567/567 [==============================] - 5s 8ms/step - loss: 0.0583 - acc: 0.7390 - val_loss: 0.1757 - val_acc: 0.0000e+00\n",
            "Epoch 161/500\n",
            "567/567 [==============================] - 5s 8ms/step - loss: 0.0562 - acc: 0.7601 - val_loss: 0.2004 - val_acc: 0.0000e+00\n",
            "Epoch 162/500\n",
            "567/567 [==============================] - 5s 8ms/step - loss: 0.0580 - acc: 0.7372 - val_loss: 0.2188 - val_acc: 0.0000e+00\n",
            "Epoch 163/500\n",
            "567/567 [==============================] - 5s 8ms/step - loss: 0.0583 - acc: 0.7443 - val_loss: 0.2307 - val_acc: 0.0000e+00\n",
            "Epoch 164/500\n",
            "567/567 [==============================] - 5s 8ms/step - loss: 0.0613 - acc: 0.7425 - val_loss: 0.2318 - val_acc: 0.0000e+00\n",
            "Epoch 165/500\n",
            "567/567 [==============================] - 5s 8ms/step - loss: 0.0602 - acc: 0.7213 - val_loss: 0.2368 - val_acc: 0.0000e+00\n",
            "Epoch 166/500\n",
            "567/567 [==============================] - 5s 8ms/step - loss: 0.0538 - acc: 0.7654 - val_loss: 0.2135 - val_acc: 0.0000e+00\n",
            "Epoch 167/500\n",
            "567/567 [==============================] - 5s 8ms/step - loss: 0.0590 - acc: 0.7425 - val_loss: 0.1885 - val_acc: 0.0000e+00\n",
            "Epoch 168/500\n",
            "567/567 [==============================] - 5s 8ms/step - loss: 0.0541 - acc: 0.7672 - val_loss: 0.2380 - val_acc: 0.0000e+00\n",
            "Epoch 169/500\n",
            "567/567 [==============================] - 5s 8ms/step - loss: 0.0564 - acc: 0.7496 - val_loss: 0.2344 - val_acc: 0.0000e+00\n",
            "Epoch 170/500\n",
            "567/567 [==============================] - 5s 8ms/step - loss: 0.0555 - acc: 0.7601 - val_loss: 0.2119 - val_acc: 0.0000e+00\n",
            "Epoch 171/500\n",
            "567/567 [==============================] - 5s 8ms/step - loss: 0.0530 - acc: 0.7637 - val_loss: 0.2011 - val_acc: 0.0000e+00\n",
            "Epoch 172/500\n",
            "567/567 [==============================] - 5s 8ms/step - loss: 0.0539 - acc: 0.7584 - val_loss: 0.1967 - val_acc: 0.0000e+00\n",
            "Epoch 173/500\n",
            "567/567 [==============================] - 5s 8ms/step - loss: 0.0506 - acc: 0.7778 - val_loss: 0.1997 - val_acc: 0.0000e+00\n",
            "Epoch 174/500\n",
            "567/567 [==============================] - 5s 8ms/step - loss: 0.0524 - acc: 0.7654 - val_loss: 0.2096 - val_acc: 0.0000e+00\n",
            "Epoch 175/500\n",
            "567/567 [==============================] - 5s 8ms/step - loss: 0.0550 - acc: 0.7513 - val_loss: 0.2122 - val_acc: 0.0000e+00\n",
            "Epoch 176/500\n",
            "567/567 [==============================] - 5s 8ms/step - loss: 0.0526 - acc: 0.7690 - val_loss: 0.2328 - val_acc: 0.0000e+00\n",
            "Epoch 177/500\n",
            "567/567 [==============================] - 5s 8ms/step - loss: 0.0511 - acc: 0.7778 - val_loss: 0.2128 - val_acc: 0.0000e+00\n",
            "Epoch 178/500\n",
            "567/567 [==============================] - 5s 8ms/step - loss: 0.0568 - acc: 0.7425 - val_loss: 0.1847 - val_acc: 0.0000e+00\n",
            "Epoch 179/500\n",
            "567/567 [==============================] - 5s 8ms/step - loss: 0.0496 - acc: 0.7848 - val_loss: 0.2369 - val_acc: 0.0000e+00\n",
            "Epoch 180/500\n",
            "567/567 [==============================] - 5s 8ms/step - loss: 0.0569 - acc: 0.7407 - val_loss: 0.1934 - val_acc: 0.0000e+00\n",
            "Epoch 181/500\n",
            "567/567 [==============================] - 5s 8ms/step - loss: 0.0547 - acc: 0.7460 - val_loss: 0.2252 - val_acc: 0.0000e+00\n",
            "Epoch 182/500\n",
            "567/567 [==============================] - 5s 8ms/step - loss: 0.0513 - acc: 0.7690 - val_loss: 0.2480 - val_acc: 0.0000e+00\n",
            "Epoch 183/500\n",
            "567/567 [==============================] - 5s 8ms/step - loss: 0.0510 - acc: 0.7725 - val_loss: 0.2027 - val_acc: 0.0000e+00\n",
            "Epoch 184/500\n",
            "567/567 [==============================] - 5s 8ms/step - loss: 0.0500 - acc: 0.7813 - val_loss: 0.2315 - val_acc: 0.0000e+00\n",
            "Epoch 185/500\n",
            "567/567 [==============================] - 5s 8ms/step - loss: 0.0510 - acc: 0.7778 - val_loss: 0.2313 - val_acc: 0.0000e+00\n",
            "Epoch 186/500\n",
            "567/567 [==============================] - 5s 8ms/step - loss: 0.0526 - acc: 0.7707 - val_loss: 0.2499 - val_acc: 0.0000e+00\n",
            "Epoch 187/500\n",
            "567/567 [==============================] - 5s 8ms/step - loss: 0.0496 - acc: 0.7884 - val_loss: 0.2010 - val_acc: 0.0000e+00\n",
            "Epoch 188/500\n",
            "567/567 [==============================] - 5s 8ms/step - loss: 0.0545 - acc: 0.7496 - val_loss: 0.2181 - val_acc: 0.0000e+00\n",
            "Epoch 189/500\n",
            "567/567 [==============================] - 5s 8ms/step - loss: 0.0475 - acc: 0.7954 - val_loss: 0.2482 - val_acc: 0.0000e+00\n",
            "Epoch 190/500\n",
            "567/567 [==============================] - 5s 8ms/step - loss: 0.0538 - acc: 0.7707 - val_loss: 0.1778 - val_acc: 0.0000e+00\n",
            "Epoch 191/500\n",
            "567/567 [==============================] - 5s 8ms/step - loss: 0.0534 - acc: 0.7584 - val_loss: 0.2476 - val_acc: 0.0000e+00\n",
            "Epoch 192/500\n",
            "567/567 [==============================] - 5s 8ms/step - loss: 0.0520 - acc: 0.7760 - val_loss: 0.2176 - val_acc: 0.0000e+00\n",
            "Epoch 193/500\n",
            "567/567 [==============================] - 5s 8ms/step - loss: 0.0515 - acc: 0.7813 - val_loss: 0.1950 - val_acc: 0.0000e+00\n",
            "Epoch 194/500\n",
            "567/567 [==============================] - 5s 8ms/step - loss: 0.0540 - acc: 0.7654 - val_loss: 0.2502 - val_acc: 0.0000e+00\n",
            "Epoch 195/500\n",
            "567/567 [==============================] - 5s 8ms/step - loss: 0.0559 - acc: 0.7549 - val_loss: 0.1948 - val_acc: 0.0000e+00\n",
            "Epoch 196/500\n",
            "567/567 [==============================] - 5s 8ms/step - loss: 0.0557 - acc: 0.7566 - val_loss: 0.1915 - val_acc: 0.0000e+00\n",
            "Epoch 197/500\n",
            "567/567 [==============================] - 5s 8ms/step - loss: 0.0571 - acc: 0.7531 - val_loss: 0.2077 - val_acc: 0.0000e+00\n",
            "Epoch 198/500\n",
            "567/567 [==============================] - 5s 8ms/step - loss: 0.0528 - acc: 0.7760 - val_loss: 0.1883 - val_acc: 0.0000e+00\n",
            "Epoch 199/500\n",
            "567/567 [==============================] - 5s 8ms/step - loss: 0.0545 - acc: 0.7531 - val_loss: 0.1944 - val_acc: 0.0000e+00\n",
            "Epoch 200/500\n",
            "567/567 [==============================] - 5s 8ms/step - loss: 0.0551 - acc: 0.7566 - val_loss: 0.1897 - val_acc: 0.0000e+00\n",
            "Epoch 201/500\n",
            "567/567 [==============================] - 5s 8ms/step - loss: 0.0515 - acc: 0.7795 - val_loss: 0.2164 - val_acc: 0.0000e+00\n",
            "Epoch 202/500\n",
            "567/567 [==============================] - 5s 8ms/step - loss: 0.0546 - acc: 0.7531 - val_loss: 0.2172 - val_acc: 0.0000e+00\n",
            "Epoch 203/500\n",
            "567/567 [==============================] - 5s 8ms/step - loss: 0.0499 - acc: 0.7778 - val_loss: 0.2328 - val_acc: 0.0000e+00\n",
            "Epoch 204/500\n",
            "567/567 [==============================] - 5s 8ms/step - loss: 0.0451 - acc: 0.8078 - val_loss: 0.2405 - val_acc: 0.0000e+00\n",
            "Epoch 205/500\n",
            "567/567 [==============================] - 5s 8ms/step - loss: 0.0539 - acc: 0.7601 - val_loss: 0.1904 - val_acc: 0.0000e+00\n",
            "Epoch 206/500\n",
            "567/567 [==============================] - 5s 8ms/step - loss: 0.0481 - acc: 0.7884 - val_loss: 0.1960 - val_acc: 0.0000e+00\n",
            "Epoch 207/500\n",
            "567/567 [==============================] - 5s 8ms/step - loss: 0.0485 - acc: 0.7884 - val_loss: 0.2148 - val_acc: 0.0000e+00\n",
            "Epoch 208/500\n",
            "567/567 [==============================] - 5s 8ms/step - loss: 0.0544 - acc: 0.7619 - val_loss: 0.2157 - val_acc: 0.0000e+00\n",
            "Epoch 209/500\n",
            "567/567 [==============================] - 5s 8ms/step - loss: 0.0488 - acc: 0.7848 - val_loss: 0.2319 - val_acc: 0.0000e+00\n",
            "Epoch 210/500\n",
            "567/567 [==============================] - 5s 8ms/step - loss: 0.0483 - acc: 0.7778 - val_loss: 0.1695 - val_acc: 0.0000e+00\n",
            "Epoch 211/500\n",
            "567/567 [==============================] - 5s 8ms/step - loss: 0.0475 - acc: 0.7901 - val_loss: 0.1962 - val_acc: 0.0000e+00\n",
            "Epoch 212/500\n",
            "567/567 [==============================] - 5s 8ms/step - loss: 0.0493 - acc: 0.7831 - val_loss: 0.1829 - val_acc: 0.0000e+00\n",
            "Epoch 213/500\n",
            "567/567 [==============================] - 5s 8ms/step - loss: 0.0496 - acc: 0.7813 - val_loss: 0.2044 - val_acc: 0.0000e+00\n",
            "Epoch 214/500\n",
            "567/567 [==============================] - 5s 8ms/step - loss: 0.0499 - acc: 0.7743 - val_loss: 0.1878 - val_acc: 0.0000e+00\n",
            "Epoch 215/500\n",
            "567/567 [==============================] - 5s 8ms/step - loss: 0.0529 - acc: 0.7654 - val_loss: 0.1869 - val_acc: 0.0000e+00\n",
            "Epoch 216/500\n",
            "567/567 [==============================] - 5s 8ms/step - loss: 0.0488 - acc: 0.7813 - val_loss: 0.2530 - val_acc: 0.0000e+00\n",
            "Epoch 217/500\n",
            "567/567 [==============================] - 5s 8ms/step - loss: 0.0509 - acc: 0.7707 - val_loss: 0.2095 - val_acc: 0.0000e+00\n",
            "Epoch 218/500\n",
            "567/567 [==============================] - 5s 8ms/step - loss: 0.0478 - acc: 0.7884 - val_loss: 0.2573 - val_acc: 0.0000e+00\n",
            "Epoch 219/500\n",
            "567/567 [==============================] - 5s 8ms/step - loss: 0.0517 - acc: 0.7637 - val_loss: 0.2330 - val_acc: 0.0000e+00\n",
            "Epoch 220/500\n",
            "567/567 [==============================] - 5s 8ms/step - loss: 0.0486 - acc: 0.7743 - val_loss: 0.2091 - val_acc: 0.0000e+00\n",
            "Epoch 221/500\n",
            "567/567 [==============================] - 5s 8ms/step - loss: 0.0506 - acc: 0.7760 - val_loss: 0.1921 - val_acc: 0.0000e+00\n",
            "Epoch 222/500\n",
            "567/567 [==============================] - 5s 8ms/step - loss: 0.0454 - acc: 0.8025 - val_loss: 0.2613 - val_acc: 0.0000e+00\n",
            "Epoch 223/500\n",
            "567/567 [==============================] - 5s 8ms/step - loss: 0.0497 - acc: 0.7778 - val_loss: 0.2106 - val_acc: 0.0000e+00\n",
            "Epoch 224/500\n",
            "567/567 [==============================] - 5s 8ms/step - loss: 0.0511 - acc: 0.7725 - val_loss: 0.2353 - val_acc: 0.0000e+00\n",
            "Epoch 225/500\n",
            "567/567 [==============================] - 5s 8ms/step - loss: 0.0476 - acc: 0.7884 - val_loss: 0.2546 - val_acc: 0.0000e+00\n",
            "Epoch 226/500\n",
            "567/567 [==============================] - 5s 8ms/step - loss: 0.0463 - acc: 0.8025 - val_loss: 0.2157 - val_acc: 0.0000e+00\n",
            "Epoch 227/500\n",
            "567/567 [==============================] - 5s 8ms/step - loss: 0.0443 - acc: 0.8078 - val_loss: 0.2309 - val_acc: 0.0000e+00\n",
            "Epoch 228/500\n",
            "567/567 [==============================] - 5s 8ms/step - loss: 0.0470 - acc: 0.7884 - val_loss: 0.1753 - val_acc: 0.0000e+00\n",
            "Epoch 229/500\n",
            "567/567 [==============================] - 5s 8ms/step - loss: 0.0468 - acc: 0.7954 - val_loss: 0.2327 - val_acc: 0.0000e+00\n",
            "Epoch 230/500\n",
            "567/567 [==============================] - 5s 8ms/step - loss: 0.0473 - acc: 0.7866 - val_loss: 0.2159 - val_acc: 0.0000e+00\n",
            "Epoch 231/500\n",
            "567/567 [==============================] - 5s 8ms/step - loss: 0.0453 - acc: 0.7972 - val_loss: 0.1935 - val_acc: 0.0000e+00\n",
            "Epoch 232/500\n",
            "567/567 [==============================] - 5s 8ms/step - loss: 0.0470 - acc: 0.7901 - val_loss: 0.2570 - val_acc: 0.0000e+00\n",
            "Epoch 233/500\n",
            "567/567 [==============================] - 5s 8ms/step - loss: 0.0511 - acc: 0.7637 - val_loss: 0.1973 - val_acc: 0.0476\n",
            "Epoch 234/500\n",
            "567/567 [==============================] - 5s 8ms/step - loss: 0.0461 - acc: 0.7919 - val_loss: 0.1672 - val_acc: 0.1905\n",
            "Epoch 235/500\n",
            "567/567 [==============================] - 5s 8ms/step - loss: 0.0512 - acc: 0.7725 - val_loss: 0.2055 - val_acc: 0.0317\n",
            "Epoch 236/500\n",
            "567/567 [==============================] - 5s 8ms/step - loss: 0.0456 - acc: 0.7954 - val_loss: 0.2058 - val_acc: 0.0794\n",
            "Epoch 237/500\n",
            "567/567 [==============================] - 5s 8ms/step - loss: 0.0443 - acc: 0.8131 - val_loss: 0.1954 - val_acc: 0.0159\n",
            "Epoch 238/500\n",
            "567/567 [==============================] - 5s 8ms/step - loss: 0.0499 - acc: 0.7743 - val_loss: 0.1986 - val_acc: 0.0476\n",
            "Epoch 239/500\n",
            "567/567 [==============================] - 5s 8ms/step - loss: 0.0451 - acc: 0.8025 - val_loss: 0.2169 - val_acc: 0.0952\n",
            "Epoch 240/500\n",
            "567/567 [==============================] - 5s 8ms/step - loss: 0.0457 - acc: 0.8113 - val_loss: 0.2041 - val_acc: 0.0794\n",
            "Epoch 241/500\n",
            "567/567 [==============================] - 5s 8ms/step - loss: 0.0490 - acc: 0.7866 - val_loss: 0.1862 - val_acc: 0.0476\n",
            "Epoch 242/500\n",
            "567/567 [==============================] - 5s 8ms/step - loss: 0.0515 - acc: 0.7690 - val_loss: 0.2094 - val_acc: 0.0794\n",
            "Epoch 243/500\n",
            "567/567 [==============================] - 5s 8ms/step - loss: 0.0491 - acc: 0.7813 - val_loss: 0.2340 - val_acc: 0.0317\n",
            "Epoch 244/500\n",
            "567/567 [==============================] - 5s 8ms/step - loss: 0.0466 - acc: 0.7989 - val_loss: 0.2682 - val_acc: 0.0159\n",
            "Epoch 245/500\n",
            "567/567 [==============================] - 5s 8ms/step - loss: 0.0476 - acc: 0.7901 - val_loss: 0.2420 - val_acc: 0.0476\n",
            "Epoch 246/500\n",
            "567/567 [==============================] - 5s 8ms/step - loss: 0.0447 - acc: 0.8113 - val_loss: 0.2341 - val_acc: 0.0476\n",
            "Epoch 247/500\n",
            "567/567 [==============================] - 5s 8ms/step - loss: 0.0446 - acc: 0.8113 - val_loss: 0.2119 - val_acc: 0.0635\n",
            "Epoch 248/500\n",
            "567/567 [==============================] - 5s 8ms/step - loss: 0.0492 - acc: 0.7760 - val_loss: 0.2426 - val_acc: 0.0317\n",
            "Epoch 249/500\n",
            "567/567 [==============================] - 5s 8ms/step - loss: 0.0460 - acc: 0.7989 - val_loss: 0.2347 - val_acc: 0.0635\n",
            "Epoch 250/500\n",
            "567/567 [==============================] - 5s 8ms/step - loss: 0.0447 - acc: 0.8078 - val_loss: 0.2084 - val_acc: 0.0000e+00\n",
            "Epoch 251/500\n",
            "567/567 [==============================] - 5s 8ms/step - loss: 0.0533 - acc: 0.7795 - val_loss: 0.2745 - val_acc: 0.0000e+00\n",
            "Epoch 252/500\n",
            "567/567 [==============================] - 5s 8ms/step - loss: 0.0462 - acc: 0.7989 - val_loss: 0.2051 - val_acc: 0.0794\n",
            "Epoch 253/500\n",
            "567/567 [==============================] - 5s 8ms/step - loss: 0.0448 - acc: 0.8113 - val_loss: 0.1932 - val_acc: 0.0476\n",
            "Epoch 254/500\n",
            "567/567 [==============================] - 5s 8ms/step - loss: 0.0485 - acc: 0.7848 - val_loss: 0.2063 - val_acc: 0.1905\n",
            "Epoch 255/500\n",
            "567/567 [==============================] - 5s 8ms/step - loss: 0.0461 - acc: 0.8025 - val_loss: 0.1913 - val_acc: 0.0635\n",
            "Epoch 256/500\n",
            "567/567 [==============================] - 5s 8ms/step - loss: 0.0454 - acc: 0.8113 - val_loss: 0.1830 - val_acc: 0.0476\n",
            "Epoch 257/500\n",
            "567/567 [==============================] - 5s 8ms/step - loss: 0.0478 - acc: 0.8025 - val_loss: 0.2533 - val_acc: 0.0159\n",
            "Epoch 258/500\n",
            "567/567 [==============================] - 5s 8ms/step - loss: 0.0489 - acc: 0.7813 - val_loss: 0.2034 - val_acc: 0.0317\n",
            "Epoch 259/500\n",
            "567/567 [==============================] - 5s 8ms/step - loss: 0.0477 - acc: 0.7937 - val_loss: 0.2317 - val_acc: 0.0159\n",
            "Epoch 260/500\n",
            "567/567 [==============================] - 5s 8ms/step - loss: 0.0461 - acc: 0.8025 - val_loss: 0.2023 - val_acc: 0.0635\n",
            "Epoch 261/500\n",
            "567/567 [==============================] - 5s 8ms/step - loss: 0.0447 - acc: 0.8095 - val_loss: 0.2675 - val_acc: 0.0159\n",
            "Epoch 262/500\n",
            "567/567 [==============================] - 5s 8ms/step - loss: 0.0423 - acc: 0.8325 - val_loss: 0.1833 - val_acc: 0.0794\n",
            "Epoch 263/500\n",
            "567/567 [==============================] - 5s 8ms/step - loss: 0.0430 - acc: 0.8148 - val_loss: 0.2390 - val_acc: 0.0317\n",
            "Epoch 264/500\n",
            "567/567 [==============================] - 5s 8ms/step - loss: 0.0456 - acc: 0.8113 - val_loss: 0.2072 - val_acc: 0.0000e+00\n",
            "Epoch 265/500\n",
            "567/567 [==============================] - 5s 8ms/step - loss: 0.0503 - acc: 0.7848 - val_loss: 0.2062 - val_acc: 0.1587\n",
            "Epoch 266/500\n",
            "567/567 [==============================] - 5s 8ms/step - loss: 0.0443 - acc: 0.8060 - val_loss: 0.1734 - val_acc: 0.3810\n",
            "Epoch 267/500\n",
            "567/567 [==============================] - 5s 8ms/step - loss: 0.0465 - acc: 0.7989 - val_loss: 0.1695 - val_acc: 0.1111\n",
            "Epoch 268/500\n",
            "567/567 [==============================] - 5s 8ms/step - loss: 0.0418 - acc: 0.8307 - val_loss: 0.2838 - val_acc: 0.0000e+00\n",
            "Epoch 269/500\n",
            "567/567 [==============================] - 5s 8ms/step - loss: 0.0445 - acc: 0.8166 - val_loss: 0.2432 - val_acc: 0.0952\n",
            "Epoch 270/500\n",
            "567/567 [==============================] - 5s 8ms/step - loss: 0.0443 - acc: 0.8148 - val_loss: 0.2137 - val_acc: 0.0794\n",
            "Epoch 271/500\n",
            "567/567 [==============================] - 5s 8ms/step - loss: 0.0453 - acc: 0.8095 - val_loss: 0.2606 - val_acc: 0.0635\n",
            "Epoch 272/500\n",
            "567/567 [==============================] - 5s 8ms/step - loss: 0.0439 - acc: 0.8219 - val_loss: 0.2418 - val_acc: 0.0635\n",
            "Epoch 273/500\n",
            "567/567 [==============================] - 5s 8ms/step - loss: 0.0442 - acc: 0.8201 - val_loss: 0.1824 - val_acc: 0.1587\n",
            "Epoch 274/500\n",
            "567/567 [==============================] - 5s 8ms/step - loss: 0.0427 - acc: 0.8131 - val_loss: 0.1829 - val_acc: 0.1111\n",
            "Epoch 275/500\n",
            "567/567 [==============================] - 5s 8ms/step - loss: 0.0430 - acc: 0.8219 - val_loss: 0.2475 - val_acc: 0.0159\n",
            "Epoch 276/500\n",
            "567/567 [==============================] - 5s 8ms/step - loss: 0.0473 - acc: 0.7937 - val_loss: 0.2444 - val_acc: 0.1111\n",
            "Epoch 277/500\n",
            "567/567 [==============================] - 5s 8ms/step - loss: 0.0406 - acc: 0.8519 - val_loss: 0.2142 - val_acc: 0.1429\n",
            "Epoch 278/500\n",
            "567/567 [==============================] - 5s 8ms/step - loss: 0.0411 - acc: 0.8289 - val_loss: 0.2112 - val_acc: 0.0952\n",
            "Epoch 279/500\n",
            "567/567 [==============================] - 5s 8ms/step - loss: 0.0493 - acc: 0.7919 - val_loss: 0.2411 - val_acc: 0.1429\n",
            "Epoch 280/500\n",
            "567/567 [==============================] - 5s 8ms/step - loss: 0.0471 - acc: 0.8042 - val_loss: 0.2731 - val_acc: 0.0159\n",
            "Epoch 281/500\n",
            "567/567 [==============================] - 5s 8ms/step - loss: 0.0438 - acc: 0.8148 - val_loss: 0.2199 - val_acc: 0.1746\n",
            "Epoch 282/500\n",
            "567/567 [==============================] - 5s 8ms/step - loss: 0.0436 - acc: 0.8307 - val_loss: 0.1967 - val_acc: 0.1905\n",
            "Epoch 283/500\n",
            "567/567 [==============================] - 5s 8ms/step - loss: 0.0437 - acc: 0.8113 - val_loss: 0.1895 - val_acc: 0.2222\n",
            "Epoch 284/500\n",
            "567/567 [==============================] - 5s 8ms/step - loss: 0.0444 - acc: 0.8113 - val_loss: 0.1916 - val_acc: 0.0317\n",
            "Epoch 285/500\n",
            "567/567 [==============================] - 5s 8ms/step - loss: 0.0491 - acc: 0.7972 - val_loss: 0.1824 - val_acc: 0.1111\n",
            "Epoch 286/500\n",
            "567/567 [==============================] - 5s 8ms/step - loss: 0.0447 - acc: 0.8095 - val_loss: 0.2084 - val_acc: 0.1270\n",
            "Epoch 287/500\n",
            "567/567 [==============================] - 5s 8ms/step - loss: 0.0433 - acc: 0.8219 - val_loss: 0.1871 - val_acc: 0.3175\n",
            "Epoch 288/500\n",
            "567/567 [==============================] - 5s 8ms/step - loss: 0.0506 - acc: 0.7901 - val_loss: 0.2207 - val_acc: 0.0635\n",
            "Epoch 289/500\n",
            "567/567 [==============================] - 5s 8ms/step - loss: 0.0424 - acc: 0.8166 - val_loss: 0.1856 - val_acc: 0.0952\n",
            "Epoch 290/500\n",
            "567/567 [==============================] - 5s 8ms/step - loss: 0.0452 - acc: 0.8148 - val_loss: 0.1757 - val_acc: 0.2857\n",
            "Epoch 291/500\n",
            "567/567 [==============================] - 5s 8ms/step - loss: 0.0408 - acc: 0.8430 - val_loss: 0.2026 - val_acc: 0.2381\n",
            "Epoch 292/500\n",
            "567/567 [==============================] - 5s 8ms/step - loss: 0.0422 - acc: 0.8307 - val_loss: 0.2048 - val_acc: 0.1905\n",
            "Epoch 293/500\n",
            "567/567 [==============================] - 5s 8ms/step - loss: 0.0444 - acc: 0.8131 - val_loss: 0.2345 - val_acc: 0.0794\n",
            "Epoch 294/500\n",
            "567/567 [==============================] - 5s 8ms/step - loss: 0.0432 - acc: 0.8236 - val_loss: 0.2302 - val_acc: 0.1270\n",
            "Epoch 295/500\n",
            "567/567 [==============================] - 5s 8ms/step - loss: 0.0396 - acc: 0.8501 - val_loss: 0.2729 - val_acc: 0.0159\n",
            "Epoch 296/500\n",
            "567/567 [==============================] - 5s 8ms/step - loss: 0.0399 - acc: 0.8395 - val_loss: 0.2244 - val_acc: 0.1111\n",
            "Epoch 297/500\n",
            "567/567 [==============================] - 5s 8ms/step - loss: 0.0375 - acc: 0.8624 - val_loss: 0.2622 - val_acc: 0.0476\n",
            "Epoch 298/500\n",
            "567/567 [==============================] - 5s 8ms/step - loss: 0.0455 - acc: 0.8166 - val_loss: 0.2016 - val_acc: 0.1905\n",
            "Epoch 299/500\n",
            "567/567 [==============================] - 5s 8ms/step - loss: 0.0428 - acc: 0.8236 - val_loss: 0.1737 - val_acc: 0.3492\n",
            "Epoch 300/500\n",
            "567/567 [==============================] - 5s 8ms/step - loss: 0.0438 - acc: 0.8395 - val_loss: 0.1936 - val_acc: 0.2222\n",
            "Epoch 301/500\n",
            "567/567 [==============================] - 5s 8ms/step - loss: 0.0404 - acc: 0.8360 - val_loss: 0.2507 - val_acc: 0.0635\n",
            "Epoch 302/500\n",
            "567/567 [==============================] - 5s 8ms/step - loss: 0.0398 - acc: 0.8413 - val_loss: 0.1880 - val_acc: 0.2540\n",
            "Epoch 303/500\n",
            "567/567 [==============================] - 5s 8ms/step - loss: 0.0432 - acc: 0.8377 - val_loss: 0.1814 - val_acc: 0.3333\n",
            "Epoch 304/500\n",
            "567/567 [==============================] - 5s 8ms/step - loss: 0.0378 - acc: 0.8554 - val_loss: 0.1689 - val_acc: 0.1429\n",
            "Epoch 305/500\n",
            "567/567 [==============================] - 5s 8ms/step - loss: 0.0394 - acc: 0.8413 - val_loss: 0.1693 - val_acc: 0.2698\n",
            "Epoch 306/500\n",
            "567/567 [==============================] - 5s 8ms/step - loss: 0.0477 - acc: 0.7972 - val_loss: 0.1561 - val_acc: 0.3333\n",
            "Epoch 307/500\n",
            "567/567 [==============================] - 5s 8ms/step - loss: 0.0426 - acc: 0.8307 - val_loss: 0.1921 - val_acc: 0.2063\n",
            "Epoch 308/500\n",
            "567/567 [==============================] - 5s 8ms/step - loss: 0.0417 - acc: 0.8254 - val_loss: 0.2684 - val_acc: 0.0952\n",
            "Epoch 309/500\n",
            "567/567 [==============================] - 5s 8ms/step - loss: 0.0392 - acc: 0.8466 - val_loss: 0.1924 - val_acc: 0.2381\n",
            "Epoch 310/500\n",
            "567/567 [==============================] - 5s 8ms/step - loss: 0.0373 - acc: 0.8607 - val_loss: 0.2059 - val_acc: 0.0952\n",
            "Epoch 311/500\n",
            "567/567 [==============================] - 5s 8ms/step - loss: 0.0409 - acc: 0.8307 - val_loss: 0.2478 - val_acc: 0.0476\n",
            "Epoch 312/500\n",
            "567/567 [==============================] - 5s 8ms/step - loss: 0.0485 - acc: 0.8042 - val_loss: 0.2294 - val_acc: 0.0635\n",
            "Epoch 313/500\n",
            "567/567 [==============================] - 5s 8ms/step - loss: 0.0373 - acc: 0.8466 - val_loss: 0.2111 - val_acc: 0.1587\n",
            "Epoch 314/500\n",
            "567/567 [==============================] - 5s 8ms/step - loss: 0.0384 - acc: 0.8483 - val_loss: 0.1624 - val_acc: 0.3333\n",
            "Epoch 315/500\n",
            "567/567 [==============================] - 5s 8ms/step - loss: 0.0403 - acc: 0.8289 - val_loss: 0.2473 - val_acc: 0.0635\n",
            "Epoch 316/500\n",
            "567/567 [==============================] - 5s 8ms/step - loss: 0.0416 - acc: 0.8377 - val_loss: 0.2372 - val_acc: 0.1429\n",
            "Epoch 317/500\n",
            "567/567 [==============================] - 5s 8ms/step - loss: 0.0359 - acc: 0.8624 - val_loss: 0.1936 - val_acc: 0.1746\n",
            "Epoch 318/500\n",
            "567/567 [==============================] - 5s 8ms/step - loss: 0.0405 - acc: 0.8342 - val_loss: 0.2381 - val_acc: 0.1111\n",
            "Epoch 319/500\n",
            "567/567 [==============================] - 5s 8ms/step - loss: 0.0433 - acc: 0.8325 - val_loss: 0.2647 - val_acc: 0.0952\n",
            "Epoch 320/500\n",
            "567/567 [==============================] - 5s 8ms/step - loss: 0.0405 - acc: 0.8307 - val_loss: 0.2422 - val_acc: 0.0476\n",
            "Epoch 321/500\n",
            "567/567 [==============================] - 5s 8ms/step - loss: 0.0435 - acc: 0.8201 - val_loss: 0.2550 - val_acc: 0.0952\n",
            "Epoch 322/500\n",
            "567/567 [==============================] - 5s 8ms/step - loss: 0.0404 - acc: 0.8466 - val_loss: 0.1858 - val_acc: 0.2222\n",
            "Epoch 323/500\n",
            "567/567 [==============================] - 5s 8ms/step - loss: 0.0404 - acc: 0.8377 - val_loss: 0.2046 - val_acc: 0.1905\n",
            "Epoch 324/500\n",
            "567/567 [==============================] - 5s 8ms/step - loss: 0.0456 - acc: 0.8183 - val_loss: 0.2074 - val_acc: 0.1746\n",
            "Epoch 325/500\n",
            "567/567 [==============================] - 5s 8ms/step - loss: 0.0370 - acc: 0.8519 - val_loss: 0.1855 - val_acc: 0.1429\n",
            "Epoch 326/500\n",
            "567/567 [==============================] - 5s 8ms/step - loss: 0.0409 - acc: 0.8413 - val_loss: 0.2322 - val_acc: 0.2063\n",
            "Epoch 327/500\n",
            "567/567 [==============================] - 5s 8ms/step - loss: 0.0361 - acc: 0.8607 - val_loss: 0.2372 - val_acc: 0.1429\n",
            "Epoch 328/500\n",
            "567/567 [==============================] - 5s 8ms/step - loss: 0.0425 - acc: 0.8236 - val_loss: 0.1714 - val_acc: 0.3333\n",
            "Epoch 329/500\n",
            "567/567 [==============================] - 5s 8ms/step - loss: 0.0379 - acc: 0.8483 - val_loss: 0.2101 - val_acc: 0.2540\n",
            "Epoch 330/500\n",
            "567/567 [==============================] - 5s 8ms/step - loss: 0.0388 - acc: 0.8483 - val_loss: 0.2133 - val_acc: 0.1905\n",
            "Epoch 331/500\n",
            "567/567 [==============================] - 5s 8ms/step - loss: 0.0409 - acc: 0.8413 - val_loss: 0.1952 - val_acc: 0.2381\n",
            "Epoch 332/500\n",
            "567/567 [==============================] - 5s 8ms/step - loss: 0.0412 - acc: 0.8325 - val_loss: 0.2434 - val_acc: 0.1111\n",
            "Epoch 333/500\n",
            "567/567 [==============================] - 5s 8ms/step - loss: 0.0416 - acc: 0.8325 - val_loss: 0.2246 - val_acc: 0.1905\n",
            "Epoch 334/500\n",
            "567/567 [==============================] - 5s 8ms/step - loss: 0.0432 - acc: 0.8219 - val_loss: 0.2466 - val_acc: 0.0952\n",
            "Epoch 335/500\n",
            "567/567 [==============================] - 5s 8ms/step - loss: 0.0389 - acc: 0.8430 - val_loss: 0.2263 - val_acc: 0.2381\n",
            "Epoch 336/500\n",
            "567/567 [==============================] - 5s 8ms/step - loss: 0.0413 - acc: 0.8413 - val_loss: 0.1919 - val_acc: 0.1746\n",
            "Epoch 337/500\n",
            "567/567 [==============================] - 5s 8ms/step - loss: 0.0405 - acc: 0.8342 - val_loss: 0.2565 - val_acc: 0.0794\n",
            "Epoch 338/500\n",
            "567/567 [==============================] - 5s 8ms/step - loss: 0.0414 - acc: 0.8395 - val_loss: 0.2721 - val_acc: 0.0635\n",
            "Epoch 339/500\n",
            "567/567 [==============================] - 5s 8ms/step - loss: 0.0410 - acc: 0.8289 - val_loss: 0.1664 - val_acc: 0.3333\n",
            "Epoch 340/500\n",
            "567/567 [==============================] - 5s 8ms/step - loss: 0.0398 - acc: 0.8360 - val_loss: 0.1949 - val_acc: 0.1429\n",
            "Epoch 341/500\n",
            "567/567 [==============================] - 5s 8ms/step - loss: 0.0413 - acc: 0.8342 - val_loss: 0.2150 - val_acc: 0.1429\n",
            "Epoch 342/500\n",
            "567/567 [==============================] - 5s 8ms/step - loss: 0.0387 - acc: 0.8448 - val_loss: 0.2050 - val_acc: 0.2222\n",
            "Epoch 343/500\n",
            "567/567 [==============================] - 5s 8ms/step - loss: 0.0366 - acc: 0.8607 - val_loss: 0.2469 - val_acc: 0.0635\n",
            "Epoch 344/500\n",
            "567/567 [==============================] - 5s 8ms/step - loss: 0.0407 - acc: 0.8325 - val_loss: 0.1855 - val_acc: 0.3175\n",
            "Epoch 345/500\n",
            "567/567 [==============================] - 5s 8ms/step - loss: 0.0403 - acc: 0.8413 - val_loss: 0.2066 - val_acc: 0.1111\n",
            "Epoch 346/500\n",
            "567/567 [==============================] - 5s 8ms/step - loss: 0.0422 - acc: 0.8325 - val_loss: 0.2086 - val_acc: 0.2540\n",
            "Epoch 347/500\n",
            "567/567 [==============================] - 5s 8ms/step - loss: 0.0426 - acc: 0.8272 - val_loss: 0.1575 - val_acc: 0.3175\n",
            "Epoch 348/500\n",
            "567/567 [==============================] - 5s 8ms/step - loss: 0.0400 - acc: 0.8377 - val_loss: 0.1846 - val_acc: 0.2857\n",
            "Epoch 349/500\n",
            "567/567 [==============================] - 5s 8ms/step - loss: 0.0406 - acc: 0.8395 - val_loss: 0.1785 - val_acc: 0.2698\n",
            "Epoch 350/500\n",
            "567/567 [==============================] - 5s 8ms/step - loss: 0.0333 - acc: 0.8783 - val_loss: 0.2164 - val_acc: 0.1746\n",
            "Epoch 351/500\n",
            "567/567 [==============================] - 5s 8ms/step - loss: 0.0403 - acc: 0.8342 - val_loss: 0.1882 - val_acc: 0.3333\n",
            "Epoch 352/500\n",
            "567/567 [==============================] - 5s 8ms/step - loss: 0.0373 - acc: 0.8483 - val_loss: 0.2082 - val_acc: 0.2063\n",
            "Epoch 353/500\n",
            "567/567 [==============================] - 5s 8ms/step - loss: 0.0379 - acc: 0.8554 - val_loss: 0.2648 - val_acc: 0.0794\n",
            "Epoch 354/500\n",
            "567/567 [==============================] - 5s 8ms/step - loss: 0.0363 - acc: 0.8607 - val_loss: 0.2492 - val_acc: 0.0794\n",
            "Epoch 355/500\n",
            "567/567 [==============================] - 5s 8ms/step - loss: 0.0398 - acc: 0.8377 - val_loss: 0.1784 - val_acc: 0.2540\n",
            "Epoch 356/500\n",
            "567/567 [==============================] - 5s 8ms/step - loss: 0.0339 - acc: 0.8748 - val_loss: 0.1607 - val_acc: 0.4127\n",
            "Epoch 357/500\n",
            "567/567 [==============================] - 5s 8ms/step - loss: 0.0405 - acc: 0.8342 - val_loss: 0.2316 - val_acc: 0.0952\n",
            "Epoch 358/500\n",
            "567/567 [==============================] - 5s 8ms/step - loss: 0.0380 - acc: 0.8554 - val_loss: 0.1474 - val_acc: 0.3810\n",
            "Epoch 359/500\n",
            "567/567 [==============================] - 5s 8ms/step - loss: 0.0423 - acc: 0.8307 - val_loss: 0.1986 - val_acc: 0.2540\n",
            "Epoch 360/500\n",
            "567/567 [==============================] - 5s 8ms/step - loss: 0.0400 - acc: 0.8325 - val_loss: 0.1732 - val_acc: 0.3016\n",
            "Epoch 361/500\n",
            "567/567 [==============================] - 5s 8ms/step - loss: 0.0387 - acc: 0.8430 - val_loss: 0.1515 - val_acc: 0.4921\n",
            "Epoch 362/500\n",
            "567/567 [==============================] - 5s 8ms/step - loss: 0.0377 - acc: 0.8519 - val_loss: 0.2301 - val_acc: 0.1429\n",
            "Epoch 363/500\n",
            "567/567 [==============================] - 5s 8ms/step - loss: 0.0348 - acc: 0.8730 - val_loss: 0.2294 - val_acc: 0.1429\n",
            "Epoch 364/500\n",
            "567/567 [==============================] - 5s 8ms/step - loss: 0.0374 - acc: 0.8519 - val_loss: 0.2140 - val_acc: 0.1905\n",
            "Epoch 365/500\n",
            "567/567 [==============================] - 5s 8ms/step - loss: 0.0372 - acc: 0.8501 - val_loss: 0.1521 - val_acc: 0.3968\n",
            "Epoch 366/500\n",
            "567/567 [==============================] - 5s 8ms/step - loss: 0.0383 - acc: 0.8554 - val_loss: 0.1198 - val_acc: 0.5556\n",
            "Epoch 367/500\n",
            "567/567 [==============================] - 5s 8ms/step - loss: 0.0375 - acc: 0.8536 - val_loss: 0.2066 - val_acc: 0.2698\n",
            "Epoch 368/500\n",
            "567/567 [==============================] - 5s 8ms/step - loss: 0.0406 - acc: 0.8377 - val_loss: 0.2505 - val_acc: 0.1429\n",
            "Epoch 369/500\n",
            "567/567 [==============================] - 5s 8ms/step - loss: 0.0373 - acc: 0.8554 - val_loss: 0.2009 - val_acc: 0.2222\n",
            "Epoch 370/500\n",
            "567/567 [==============================] - 5s 8ms/step - loss: 0.0443 - acc: 0.8289 - val_loss: 0.2109 - val_acc: 0.2381\n",
            "Epoch 371/500\n",
            "567/567 [==============================] - 5s 8ms/step - loss: 0.0392 - acc: 0.8448 - val_loss: 0.2522 - val_acc: 0.0952\n",
            "Epoch 372/500\n",
            "567/567 [==============================] - 5s 8ms/step - loss: 0.0378 - acc: 0.8483 - val_loss: 0.1722 - val_acc: 0.3810\n",
            "Epoch 373/500\n",
            "567/567 [==============================] - 5s 8ms/step - loss: 0.0342 - acc: 0.8730 - val_loss: 0.2204 - val_acc: 0.1905\n",
            "Epoch 374/500\n",
            "567/567 [==============================] - 5s 8ms/step - loss: 0.0328 - acc: 0.8765 - val_loss: 0.2197 - val_acc: 0.1429\n",
            "Epoch 375/500\n",
            "567/567 [==============================] - 5s 8ms/step - loss: 0.0365 - acc: 0.8571 - val_loss: 0.1841 - val_acc: 0.3333\n",
            "Epoch 376/500\n",
            "567/567 [==============================] - 5s 8ms/step - loss: 0.0343 - acc: 0.8695 - val_loss: 0.1750 - val_acc: 0.3492\n",
            "Epoch 377/500\n",
            "567/567 [==============================] - 5s 8ms/step - loss: 0.0389 - acc: 0.8501 - val_loss: 0.1415 - val_acc: 0.4762\n",
            "Epoch 378/500\n",
            "567/567 [==============================] - 5s 8ms/step - loss: 0.0371 - acc: 0.8589 - val_loss: 0.1817 - val_acc: 0.1587\n",
            "Epoch 379/500\n",
            "567/567 [==============================] - 5s 8ms/step - loss: 0.0423 - acc: 0.8254 - val_loss: 0.1587 - val_acc: 0.4603\n",
            "Epoch 380/500\n",
            "567/567 [==============================] - 5s 8ms/step - loss: 0.0410 - acc: 0.8360 - val_loss: 0.2076 - val_acc: 0.3016\n",
            "Epoch 381/500\n",
            "567/567 [==============================] - 5s 8ms/step - loss: 0.0345 - acc: 0.8677 - val_loss: 0.1729 - val_acc: 0.3492\n",
            "Epoch 382/500\n",
            "567/567 [==============================] - 5s 8ms/step - loss: 0.0436 - acc: 0.8254 - val_loss: 0.1705 - val_acc: 0.3968\n",
            "Epoch 383/500\n",
            "567/567 [==============================] - 5s 8ms/step - loss: 0.0379 - acc: 0.8536 - val_loss: 0.2041 - val_acc: 0.2857\n",
            "Epoch 384/500\n",
            "567/567 [==============================] - 5s 8ms/step - loss: 0.0402 - acc: 0.8448 - val_loss: 0.1777 - val_acc: 0.3651\n",
            "Epoch 385/500\n",
            "567/567 [==============================] - 5s 8ms/step - loss: 0.0384 - acc: 0.8501 - val_loss: 0.1197 - val_acc: 0.5397\n",
            "Epoch 386/500\n",
            "567/567 [==============================] - 5s 8ms/step - loss: 0.0440 - acc: 0.8307 - val_loss: 0.1721 - val_acc: 0.3175\n",
            "Epoch 387/500\n",
            "567/567 [==============================] - 5s 8ms/step - loss: 0.0421 - acc: 0.8289 - val_loss: 0.1583 - val_acc: 0.3651\n",
            "Epoch 388/500\n",
            "567/567 [==============================] - 5s 8ms/step - loss: 0.0415 - acc: 0.8360 - val_loss: 0.2120 - val_acc: 0.1587\n",
            "Epoch 389/500\n",
            "567/567 [==============================] - 5s 8ms/step - loss: 0.0401 - acc: 0.8377 - val_loss: 0.1889 - val_acc: 0.2857\n",
            "Epoch 390/500\n",
            "567/567 [==============================] - 5s 8ms/step - loss: 0.0400 - acc: 0.8448 - val_loss: 0.2080 - val_acc: 0.2540\n",
            "Epoch 391/500\n",
            "567/567 [==============================] - 5s 8ms/step - loss: 0.0362 - acc: 0.8554 - val_loss: 0.1884 - val_acc: 0.3333\n",
            "Epoch 392/500\n",
            "567/567 [==============================] - 5s 8ms/step - loss: 0.0405 - acc: 0.8377 - val_loss: 0.1871 - val_acc: 0.3492\n",
            "Epoch 393/500\n",
            "567/567 [==============================] - 5s 8ms/step - loss: 0.0405 - acc: 0.8395 - val_loss: 0.2834 - val_acc: 0.0476\n",
            "Epoch 394/500\n",
            "567/567 [==============================] - 5s 8ms/step - loss: 0.0442 - acc: 0.8183 - val_loss: 0.2542 - val_acc: 0.0952\n",
            "Epoch 395/500\n",
            "567/567 [==============================] - 5s 8ms/step - loss: 0.0420 - acc: 0.8307 - val_loss: 0.2086 - val_acc: 0.1270\n",
            "Epoch 396/500\n",
            "567/567 [==============================] - 5s 8ms/step - loss: 0.0427 - acc: 0.8236 - val_loss: 0.2292 - val_acc: 0.1111\n",
            "Epoch 397/500\n",
            "567/567 [==============================] - 5s 8ms/step - loss: 0.0375 - acc: 0.8430 - val_loss: 0.2218 - val_acc: 0.1905\n",
            "Epoch 398/500\n",
            "567/567 [==============================] - 5s 8ms/step - loss: 0.0399 - acc: 0.8430 - val_loss: 0.1544 - val_acc: 0.4127\n",
            "Epoch 399/500\n",
            "567/567 [==============================] - 5s 8ms/step - loss: 0.0424 - acc: 0.8325 - val_loss: 0.1727 - val_acc: 0.3016\n",
            "Epoch 400/500\n",
            "567/567 [==============================] - 5s 8ms/step - loss: 0.0412 - acc: 0.8430 - val_loss: 0.1997 - val_acc: 0.2698\n",
            "Epoch 401/500\n",
            "567/567 [==============================] - 5s 8ms/step - loss: 0.0360 - acc: 0.8607 - val_loss: 0.2411 - val_acc: 0.1111\n",
            "Epoch 402/500\n",
            "567/567 [==============================] - 5s 8ms/step - loss: 0.0394 - acc: 0.8466 - val_loss: 0.2283 - val_acc: 0.1111\n",
            "Epoch 403/500\n",
            "567/567 [==============================] - 5s 8ms/step - loss: 0.0406 - acc: 0.8430 - val_loss: 0.1670 - val_acc: 0.3810\n",
            "Epoch 404/500\n",
            "567/567 [==============================] - 5s 8ms/step - loss: 0.0357 - acc: 0.8554 - val_loss: 0.1950 - val_acc: 0.2063\n",
            "Epoch 405/500\n",
            "567/567 [==============================] - 5s 8ms/step - loss: 0.0381 - acc: 0.8519 - val_loss: 0.1608 - val_acc: 0.3333\n",
            "Epoch 406/500\n",
            "567/567 [==============================] - 5s 8ms/step - loss: 0.0344 - acc: 0.8677 - val_loss: 0.2205 - val_acc: 0.1587\n",
            "Epoch 407/500\n",
            "567/567 [==============================] - 5s 8ms/step - loss: 0.0371 - acc: 0.8571 - val_loss: 0.2045 - val_acc: 0.2540\n",
            "Epoch 408/500\n",
            "567/567 [==============================] - 5s 8ms/step - loss: 0.0377 - acc: 0.8607 - val_loss: 0.1956 - val_acc: 0.3016\n",
            "Epoch 409/500\n",
            "567/567 [==============================] - 5s 8ms/step - loss: 0.0374 - acc: 0.8519 - val_loss: 0.1556 - val_acc: 0.4444\n",
            "Epoch 410/500\n",
            "567/567 [==============================] - 5s 8ms/step - loss: 0.0387 - acc: 0.8519 - val_loss: 0.2369 - val_acc: 0.1905\n",
            "Epoch 411/500\n",
            "567/567 [==============================] - 5s 8ms/step - loss: 0.0411 - acc: 0.8413 - val_loss: 0.1264 - val_acc: 0.5397\n",
            "Epoch 412/500\n",
            "567/567 [==============================] - 5s 8ms/step - loss: 0.0343 - acc: 0.8730 - val_loss: 0.1916 - val_acc: 0.2857\n",
            "Epoch 413/500\n",
            "567/567 [==============================] - 5s 8ms/step - loss: 0.0336 - acc: 0.8783 - val_loss: 0.2276 - val_acc: 0.1905\n",
            "Epoch 414/500\n",
            "567/567 [==============================] - 5s 8ms/step - loss: 0.0387 - acc: 0.8501 - val_loss: 0.2588 - val_acc: 0.0476\n",
            "Epoch 415/500\n",
            "567/567 [==============================] - 5s 8ms/step - loss: 0.0395 - acc: 0.8466 - val_loss: 0.2552 - val_acc: 0.1429\n",
            "Epoch 416/500\n",
            "567/567 [==============================] - 5s 8ms/step - loss: 0.0392 - acc: 0.8466 - val_loss: 0.2099 - val_acc: 0.0952\n",
            "Epoch 417/500\n",
            "567/567 [==============================] - 5s 8ms/step - loss: 0.0377 - acc: 0.8642 - val_loss: 0.2415 - val_acc: 0.1429\n",
            "Epoch 418/500\n",
            "567/567 [==============================] - 5s 8ms/step - loss: 0.0402 - acc: 0.8448 - val_loss: 0.1904 - val_acc: 0.2698\n",
            "Epoch 419/500\n",
            "567/567 [==============================] - 5s 8ms/step - loss: 0.0401 - acc: 0.8466 - val_loss: 0.1565 - val_acc: 0.4127\n",
            "Epoch 420/500\n",
            "567/567 [==============================] - 5s 8ms/step - loss: 0.0338 - acc: 0.8765 - val_loss: 0.1676 - val_acc: 0.3651\n",
            "Epoch 421/500\n",
            "567/567 [==============================] - 5s 8ms/step - loss: 0.0416 - acc: 0.8307 - val_loss: 0.2022 - val_acc: 0.2063\n",
            "Epoch 422/500\n",
            "567/567 [==============================] - 5s 8ms/step - loss: 0.0358 - acc: 0.8695 - val_loss: 0.2373 - val_acc: 0.1111\n",
            "Epoch 423/500\n",
            "567/567 [==============================] - 5s 8ms/step - loss: 0.0385 - acc: 0.8483 - val_loss: 0.2188 - val_acc: 0.1746\n",
            "Epoch 424/500\n",
            "567/567 [==============================] - 5s 8ms/step - loss: 0.0351 - acc: 0.8607 - val_loss: 0.2149 - val_acc: 0.1746\n",
            "Epoch 425/500\n",
            "567/567 [==============================] - 5s 8ms/step - loss: 0.0380 - acc: 0.8607 - val_loss: 0.1758 - val_acc: 0.3175\n",
            "Epoch 426/500\n",
            "567/567 [==============================] - 5s 8ms/step - loss: 0.0366 - acc: 0.8448 - val_loss: 0.1986 - val_acc: 0.1905\n",
            "Epoch 427/500\n",
            "567/567 [==============================] - 5s 8ms/step - loss: 0.0372 - acc: 0.8483 - val_loss: 0.2299 - val_acc: 0.1270\n",
            "Epoch 428/500\n",
            "567/567 [==============================] - 5s 8ms/step - loss: 0.0402 - acc: 0.8360 - val_loss: 0.1549 - val_acc: 0.4127\n",
            "Epoch 429/500\n",
            "567/567 [==============================] - 5s 8ms/step - loss: 0.0370 - acc: 0.8501 - val_loss: 0.2254 - val_acc: 0.1111\n",
            "Epoch 430/500\n",
            "567/567 [==============================] - 5s 8ms/step - loss: 0.0392 - acc: 0.8448 - val_loss: 0.2392 - val_acc: 0.1746\n",
            "Epoch 431/500\n",
            "567/567 [==============================] - 5s 8ms/step - loss: 0.0419 - acc: 0.8377 - val_loss: 0.2289 - val_acc: 0.1429\n",
            "Epoch 432/500\n",
            "567/567 [==============================] - 5s 8ms/step - loss: 0.0365 - acc: 0.8571 - val_loss: 0.2644 - val_acc: 0.1111\n",
            "Epoch 433/500\n",
            "567/567 [==============================] - 5s 8ms/step - loss: 0.0403 - acc: 0.8342 - val_loss: 0.1946 - val_acc: 0.1429\n",
            "Epoch 434/500\n",
            "567/567 [==============================] - 5s 8ms/step - loss: 0.0407 - acc: 0.8466 - val_loss: 0.2236 - val_acc: 0.1746\n",
            "Epoch 435/500\n",
            "567/567 [==============================] - 5s 8ms/step - loss: 0.0344 - acc: 0.8713 - val_loss: 0.2598 - val_acc: 0.0794\n",
            "Epoch 436/500\n",
            "567/567 [==============================] - 5s 8ms/step - loss: 0.0374 - acc: 0.8571 - val_loss: 0.2231 - val_acc: 0.2222\n",
            "Epoch 437/500\n",
            "567/567 [==============================] - 5s 8ms/step - loss: 0.0370 - acc: 0.8519 - val_loss: 0.2326 - val_acc: 0.1587\n",
            "Epoch 438/500\n",
            "567/567 [==============================] - 5s 8ms/step - loss: 0.0393 - acc: 0.8519 - val_loss: 0.2432 - val_acc: 0.1111\n",
            "Epoch 439/500\n",
            "567/567 [==============================] - 5s 8ms/step - loss: 0.0370 - acc: 0.8624 - val_loss: 0.2716 - val_acc: 0.0317\n",
            "Epoch 440/500\n",
            "567/567 [==============================] - 5s 8ms/step - loss: 0.0385 - acc: 0.8554 - val_loss: 0.2411 - val_acc: 0.0635\n",
            "Epoch 441/500\n",
            "567/567 [==============================] - 5s 8ms/step - loss: 0.0321 - acc: 0.8801 - val_loss: 0.2146 - val_acc: 0.2222\n",
            "Epoch 442/500\n",
            "567/567 [==============================] - 5s 8ms/step - loss: 0.0348 - acc: 0.8677 - val_loss: 0.2196 - val_acc: 0.1746\n",
            "Epoch 443/500\n",
            "567/567 [==============================] - 5s 8ms/step - loss: 0.0408 - acc: 0.8395 - val_loss: 0.1721 - val_acc: 0.3492\n",
            "Epoch 444/500\n",
            "567/567 [==============================] - 5s 8ms/step - loss: 0.0337 - acc: 0.8677 - val_loss: 0.2337 - val_acc: 0.2063\n",
            "Epoch 445/500\n",
            "567/567 [==============================] - 5s 8ms/step - loss: 0.0405 - acc: 0.8430 - val_loss: 0.1954 - val_acc: 0.2857\n",
            "Epoch 446/500\n",
            "567/567 [==============================] - 5s 8ms/step - loss: 0.0385 - acc: 0.8483 - val_loss: 0.2189 - val_acc: 0.2222\n",
            "Epoch 447/500\n",
            "567/567 [==============================] - 5s 8ms/step - loss: 0.0343 - acc: 0.8730 - val_loss: 0.2068 - val_acc: 0.2222\n",
            "Epoch 448/500\n",
            "567/567 [==============================] - 5s 8ms/step - loss: 0.0333 - acc: 0.8765 - val_loss: 0.2070 - val_acc: 0.2698\n",
            "Epoch 449/500\n",
            "567/567 [==============================] - 5s 8ms/step - loss: 0.0326 - acc: 0.8730 - val_loss: 0.2105 - val_acc: 0.2540\n",
            "Epoch 450/500\n",
            "567/567 [==============================] - 5s 8ms/step - loss: 0.0354 - acc: 0.8624 - val_loss: 0.2006 - val_acc: 0.2222\n",
            "Epoch 451/500\n",
            "567/567 [==============================] - 5s 8ms/step - loss: 0.0371 - acc: 0.8536 - val_loss: 0.1523 - val_acc: 0.4127\n",
            "Epoch 452/500\n",
            "567/567 [==============================] - 5s 8ms/step - loss: 0.0394 - acc: 0.8483 - val_loss: 0.2235 - val_acc: 0.1746\n",
            "Epoch 453/500\n",
            "567/567 [==============================] - 5s 8ms/step - loss: 0.0342 - acc: 0.8695 - val_loss: 0.2274 - val_acc: 0.1746\n",
            "Epoch 454/500\n",
            "567/567 [==============================] - 5s 8ms/step - loss: 0.0384 - acc: 0.8519 - val_loss: 0.2208 - val_acc: 0.1746\n",
            "Epoch 455/500\n",
            "567/567 [==============================] - 5s 8ms/step - loss: 0.0359 - acc: 0.8660 - val_loss: 0.1551 - val_acc: 0.3810\n",
            "Epoch 456/500\n",
            "567/567 [==============================] - 5s 8ms/step - loss: 0.0387 - acc: 0.8554 - val_loss: 0.1955 - val_acc: 0.1746\n",
            "Epoch 457/500\n",
            "567/567 [==============================] - 5s 8ms/step - loss: 0.0363 - acc: 0.8554 - val_loss: 0.1768 - val_acc: 0.2540\n",
            "Epoch 458/500\n",
            "567/567 [==============================] - 5s 8ms/step - loss: 0.0379 - acc: 0.8589 - val_loss: 0.2109 - val_acc: 0.1746\n",
            "Epoch 459/500\n",
            "567/567 [==============================] - 5s 8ms/step - loss: 0.0376 - acc: 0.8519 - val_loss: 0.1786 - val_acc: 0.3016\n",
            "Epoch 460/500\n",
            "567/567 [==============================] - 5s 8ms/step - loss: 0.0341 - acc: 0.8713 - val_loss: 0.2011 - val_acc: 0.1905\n",
            "Epoch 461/500\n",
            "567/567 [==============================] - 5s 8ms/step - loss: 0.0350 - acc: 0.8677 - val_loss: 0.1387 - val_acc: 0.4921\n",
            "Epoch 462/500\n",
            "567/567 [==============================] - 5s 8ms/step - loss: 0.0359 - acc: 0.8642 - val_loss: 0.1804 - val_acc: 0.3175\n",
            "Epoch 463/500\n",
            "567/567 [==============================] - 5s 8ms/step - loss: 0.0381 - acc: 0.8501 - val_loss: 0.1886 - val_acc: 0.3333\n",
            "Epoch 464/500\n",
            "567/567 [==============================] - 5s 8ms/step - loss: 0.0382 - acc: 0.8554 - val_loss: 0.1799 - val_acc: 0.2381\n",
            "Epoch 465/500\n",
            "567/567 [==============================] - 5s 8ms/step - loss: 0.0386 - acc: 0.8466 - val_loss: 0.2838 - val_acc: 0.0635\n",
            "Epoch 466/500\n",
            "567/567 [==============================] - 5s 8ms/step - loss: 0.0380 - acc: 0.8571 - val_loss: 0.2545 - val_acc: 0.1111\n",
            "Epoch 467/500\n",
            "567/567 [==============================] - 5s 8ms/step - loss: 0.0381 - acc: 0.8483 - val_loss: 0.2496 - val_acc: 0.1111\n",
            "Epoch 468/500\n",
            "567/567 [==============================] - 5s 8ms/step - loss: 0.0344 - acc: 0.8677 - val_loss: 0.1932 - val_acc: 0.1746\n",
            "Epoch 469/500\n",
            "567/567 [==============================] - 5s 8ms/step - loss: 0.0409 - acc: 0.8395 - val_loss: 0.1881 - val_acc: 0.3175\n",
            "Epoch 470/500\n",
            "567/567 [==============================] - 5s 8ms/step - loss: 0.0363 - acc: 0.8607 - val_loss: 0.1903 - val_acc: 0.2540\n",
            "Epoch 471/500\n",
            "567/567 [==============================] - 5s 8ms/step - loss: 0.0378 - acc: 0.8519 - val_loss: 0.2475 - val_acc: 0.1746\n",
            "Epoch 472/500\n",
            "567/567 [==============================] - 5s 8ms/step - loss: 0.0332 - acc: 0.8765 - val_loss: 0.2569 - val_acc: 0.1429\n",
            "Epoch 473/500\n",
            "567/567 [==============================] - 5s 8ms/step - loss: 0.0344 - acc: 0.8677 - val_loss: 0.1999 - val_acc: 0.2698\n",
            "Epoch 474/500\n",
            "567/567 [==============================] - 5s 8ms/step - loss: 0.0352 - acc: 0.8642 - val_loss: 0.1639 - val_acc: 0.4444\n",
            "Epoch 475/500\n",
            "567/567 [==============================] - 5s 8ms/step - loss: 0.0364 - acc: 0.8589 - val_loss: 0.2057 - val_acc: 0.2698\n",
            "Epoch 476/500\n",
            "567/567 [==============================] - 5s 8ms/step - loss: 0.0348 - acc: 0.8695 - val_loss: 0.2466 - val_acc: 0.1270\n",
            "Epoch 477/500\n",
            "567/567 [==============================] - 5s 8ms/step - loss: 0.0376 - acc: 0.8501 - val_loss: 0.1980 - val_acc: 0.2698\n",
            "Epoch 478/500\n",
            "567/567 [==============================] - 5s 8ms/step - loss: 0.0366 - acc: 0.8607 - val_loss: 0.2435 - val_acc: 0.2063\n",
            "Epoch 479/500\n",
            "567/567 [==============================] - 5s 8ms/step - loss: 0.0358 - acc: 0.8589 - val_loss: 0.2538 - val_acc: 0.1429\n",
            "Epoch 480/500\n",
            "567/567 [==============================] - 5s 8ms/step - loss: 0.0386 - acc: 0.8536 - val_loss: 0.1766 - val_acc: 0.3968\n",
            "Epoch 481/500\n",
            "567/567 [==============================] - 5s 8ms/step - loss: 0.0401 - acc: 0.8448 - val_loss: 0.2131 - val_acc: 0.2540\n",
            "Epoch 482/500\n",
            "567/567 [==============================] - 5s 8ms/step - loss: 0.0316 - acc: 0.8818 - val_loss: 0.2094 - val_acc: 0.2540\n",
            "Epoch 483/500\n",
            "567/567 [==============================] - 5s 8ms/step - loss: 0.0337 - acc: 0.8748 - val_loss: 0.1960 - val_acc: 0.2857\n",
            "Epoch 484/500\n",
            "567/567 [==============================] - 5s 8ms/step - loss: 0.0318 - acc: 0.8818 - val_loss: 0.2202 - val_acc: 0.1746\n",
            "Epoch 485/500\n",
            "567/567 [==============================] - 5s 8ms/step - loss: 0.0392 - acc: 0.8519 - val_loss: 0.1693 - val_acc: 0.3651\n",
            "Epoch 486/500\n",
            "567/567 [==============================] - 5s 8ms/step - loss: 0.0387 - acc: 0.8519 - val_loss: 0.1680 - val_acc: 0.3492\n",
            "Epoch 487/500\n",
            "567/567 [==============================] - 5s 8ms/step - loss: 0.0447 - acc: 0.8201 - val_loss: 0.2329 - val_acc: 0.2063\n",
            "Epoch 488/500\n",
            "567/567 [==============================] - 5s 8ms/step - loss: 0.0377 - acc: 0.8501 - val_loss: 0.2622 - val_acc: 0.1270\n",
            "Epoch 489/500\n",
            "567/567 [==============================] - 5s 8ms/step - loss: 0.0441 - acc: 0.8254 - val_loss: 0.2034 - val_acc: 0.2698\n",
            "Epoch 490/500\n",
            "567/567 [==============================] - 5s 8ms/step - loss: 0.0374 - acc: 0.8519 - val_loss: 0.1813 - val_acc: 0.3492\n",
            "Epoch 491/500\n",
            "567/567 [==============================] - 5s 8ms/step - loss: 0.0403 - acc: 0.8430 - val_loss: 0.2120 - val_acc: 0.2540\n",
            "Epoch 492/500\n",
            "567/567 [==============================] - 5s 8ms/step - loss: 0.0377 - acc: 0.8536 - val_loss: 0.2270 - val_acc: 0.1905\n",
            "Epoch 493/500\n",
            "567/567 [==============================] - 5s 8ms/step - loss: 0.0353 - acc: 0.8677 - val_loss: 0.2318 - val_acc: 0.1270\n",
            "Epoch 494/500\n",
            "567/567 [==============================] - 5s 8ms/step - loss: 0.0362 - acc: 0.8607 - val_loss: 0.2432 - val_acc: 0.1429\n",
            "Epoch 495/500\n",
            "567/567 [==============================] - 5s 8ms/step - loss: 0.0367 - acc: 0.8519 - val_loss: 0.1726 - val_acc: 0.4762\n",
            "Epoch 496/500\n",
            "567/567 [==============================] - 5s 8ms/step - loss: 0.0367 - acc: 0.8607 - val_loss: 0.1986 - val_acc: 0.1270\n",
            "Epoch 497/500\n",
            "567/567 [==============================] - 5s 8ms/step - loss: 0.0347 - acc: 0.8642 - val_loss: 0.2041 - val_acc: 0.2540\n",
            "Epoch 498/500\n",
            "567/567 [==============================] - 5s 8ms/step - loss: 0.0324 - acc: 0.8748 - val_loss: 0.2275 - val_acc: 0.1746\n",
            "Epoch 499/500\n",
            "567/567 [==============================] - 5s 8ms/step - loss: 0.0388 - acc: 0.8430 - val_loss: 0.2246 - val_acc: 0.1905\n",
            "Epoch 500/500\n",
            "567/567 [==============================] - 5s 8ms/step - loss: 0.0363 - acc: 0.8589 - val_loss: 0.2251 - val_acc: 0.1111\n"
          ],
          "name": "stdout"
        },
        {
          "output_type": "execute_result",
          "data": {
            "text/plain": [
              "<keras.callbacks.History at 0x7f021567f5c0>"
            ]
          },
          "metadata": {
            "tags": []
          },
          "execution_count": 38
        }
      ]
    },
    {
      "metadata": {
        "id": "pjqmwg1IafbA",
        "colab_type": "code",
        "colab": {
          "autoexec": {
            "startup": false,
            "wait_interval": 0
          },
          "base_uri": "https://localhost:8080/",
          "height": 34
        },
        "outputId": "0db1f2e5-2eff-4f11-e218-86e2938a0202",
        "executionInfo": {
          "status": "ok",
          "timestamp": 1533656109764,
          "user_tz": -420,
          "elapsed": 3274,
          "user": {
            "displayName": "lutfi adam",
            "photoUrl": "//lh4.googleusercontent.com/-v_uCuC_CMtI/AAAAAAAAAAI/AAAAAAAAAHw/oRDqji7y32Y/s50-c-k-no/photo.jpg",
            "userId": "110769470108785662190"
          }
        }
      },
      "cell_type": "code",
      "source": [
        "scores = model.evaluate(x=Img, y=label, verbose=0)\n",
        "print(\"%s: %.2f%%\" % (model.metrics_names[1], scores[1]*100))\n"
      ],
      "execution_count": 11,
      "outputs": [
        {
          "output_type": "stream",
          "text": [
            "acc: 86.83%\n"
          ],
          "name": "stdout"
        }
      ]
    },
    {
      "metadata": {
        "id": "OSzToF9LMUjD",
        "colab_type": "code",
        "colab": {
          "autoexec": {
            "startup": false,
            "wait_interval": 0
          }
        }
      },
      "cell_type": "code",
      "source": [
        ""
      ],
      "execution_count": 0,
      "outputs": []
    },
    {
      "metadata": {
        "id": "A4p81yOW7zWY",
        "colab_type": "code",
        "colab": {
          "autoexec": {
            "startup": false,
            "wait_interval": 0
          },
          "base_uri": "https://localhost:8080/",
          "height": 163
        },
        "outputId": "afda2d07-1926-4899-9a8c-9dac90516234",
        "executionInfo": {
          "status": "error",
          "timestamp": 1533656851490,
          "user_tz": -420,
          "elapsed": 560,
          "user": {
            "displayName": "lutfi adam",
            "photoUrl": "//lh4.googleusercontent.com/-v_uCuC_CMtI/AAAAAAAAAAI/AAAAAAAAAHw/oRDqji7y32Y/s50-c-k-no/photo.jpg",
            "userId": "110769470108785662190"
          }
        }
      },
      "cell_type": "code",
      "source": [
        "print(history.history.keys())\n",
        "\n",
        "# summarize history for accuracy\n",
        "plt.plot(history.history['acc'])\n",
        "plt.plot(history.history['val_acc'])\n",
        "plt.title('model accuracy')\n",
        "plt.ylabel('accuracy')\n",
        "plt.xlabel('epoch')\n",
        "plt.legend(['train', 'test'], loc='upper left')\n",
        "plt.show()\n",
        "# summarize history for loss\n",
        "plt.plot(history.history['loss'])\n",
        "plt.plot(history.history['val_loss'])\n",
        "plt.title('model loss')\n",
        "plt.ylabel('loss')\n",
        "plt.xlabel('epoch')\n",
        "plt.legend(['train', 'test'], loc='upper left')\n",
        "plt.show()"
      ],
      "execution_count": 27,
      "outputs": [
        {
          "output_type": "error",
          "ename": "NameError",
          "evalue": "ignored",
          "traceback": [
            "\u001b[0;31m---------------------------------------------------------------------------\u001b[0m",
            "\u001b[0;31mNameError\u001b[0m                                 Traceback (most recent call last)",
            "\u001b[0;32m<ipython-input-27-db74c3c52468>\u001b[0m in \u001b[0;36m<module>\u001b[0;34m()\u001b[0m\n\u001b[0;32m----> 1\u001b[0;31m \u001b[0mself\u001b[0m\u001b[0;34m.\u001b[0m\u001b[0mresult\u001b[0m \u001b[0;34m=\u001b[0m \u001b[0mself\u001b[0m\u001b[0;34m.\u001b[0m\u001b[0mmodel\u001b[0m\u001b[0;34m.\u001b[0m\u001b[0mpredict\u001b[0m\u001b[0;34m(\u001b[0m\u001b[0mX\u001b[0m\u001b[0;34m)\u001b[0m\u001b[0;34m\u001b[0m\u001b[0m\n\u001b[0m",
            "\u001b[0;31mNameError\u001b[0m: name 'self' is not defined"
          ]
        }
      ]
    },
    {
      "metadata": {
        "id": "DL7oM1wl73LV",
        "colab_type": "code",
        "colab": {
          "autoexec": {
            "startup": false,
            "wait_interval": 0
          },
          "base_uri": "https://localhost:8080/",
          "height": 537
        },
        "outputId": "eadc5493-df3b-40c1-f8bf-069ec4f2a169",
        "executionInfo": {
          "status": "error",
          "timestamp": 1533656551653,
          "user_tz": -420,
          "elapsed": 717,
          "user": {
            "displayName": "lutfi adam",
            "photoUrl": "//lh4.googleusercontent.com/-v_uCuC_CMtI/AAAAAAAAAAI/AAAAAAAAAHw/oRDqji7y32Y/s50-c-k-no/photo.jpg",
            "userId": "110769470108785662190"
          }
        }
      },
      "cell_type": "code",
      "source": [
        "image"
      ],
      "execution_count": 17,
      "outputs": [
        {
          "output_type": "error",
          "ename": "ValueError",
          "evalue": "ignored",
          "traceback": [
            "\u001b[0;31m---------------------------------------------------------------------------\u001b[0m",
            "\u001b[0;31mValueError\u001b[0m                                Traceback (most recent call last)",
            "\u001b[0;32m<ipython-input-17-504cfda3be65>\u001b[0m in \u001b[0;36m<module>\u001b[0;34m()\u001b[0m\n\u001b[0;32m----> 1\u001b[0;31m \u001b[0mprediction\u001b[0m \u001b[0;34m=\u001b[0m \u001b[0mmodel\u001b[0m\u001b[0;34m.\u001b[0m\u001b[0mpredict\u001b[0m\u001b[0;34m(\u001b[0m\u001b[0mlabel\u001b[0m\u001b[0;34m)\u001b[0m\u001b[0;34m\u001b[0m\u001b[0m\n\u001b[0m\u001b[1;32m      2\u001b[0m \u001b[0mprint\u001b[0m\u001b[0;34m(\u001b[0m\u001b[0mprediction\u001b[0m\u001b[0;34m)\u001b[0m\u001b[0;34m\u001b[0m\u001b[0m\n",
            "\u001b[0;32m/usr/local/lib/python3.6/dist-packages/keras/models.py\u001b[0m in \u001b[0;36mpredict\u001b[0;34m(self, x, batch_size, verbose, steps)\u001b[0m\n\u001b[1;32m   1062\u001b[0m             \u001b[0mself\u001b[0m\u001b[0;34m.\u001b[0m\u001b[0mbuild\u001b[0m\u001b[0;34m(\u001b[0m\u001b[0;34m)\u001b[0m\u001b[0;34m\u001b[0m\u001b[0m\n\u001b[1;32m   1063\u001b[0m         return self.model.predict(x, batch_size=batch_size, verbose=verbose,\n\u001b[0;32m-> 1064\u001b[0;31m                                   steps=steps)\n\u001b[0m\u001b[1;32m   1065\u001b[0m \u001b[0;34m\u001b[0m\u001b[0m\n\u001b[1;32m   1066\u001b[0m     \u001b[0;32mdef\u001b[0m \u001b[0mpredict_on_batch\u001b[0m\u001b[0;34m(\u001b[0m\u001b[0mself\u001b[0m\u001b[0;34m,\u001b[0m \u001b[0mx\u001b[0m\u001b[0;34m)\u001b[0m\u001b[0;34m:\u001b[0m\u001b[0;34m\u001b[0m\u001b[0m\n",
            "\u001b[0;32m/usr/local/lib/python3.6/dist-packages/keras/engine/training.py\u001b[0m in \u001b[0;36mpredict\u001b[0;34m(self, x, batch_size, verbose, steps)\u001b[0m\n\u001b[1;32m   1815\u001b[0m         x = _standardize_input_data(x, self._feed_input_names,\n\u001b[1;32m   1816\u001b[0m                                     \u001b[0mself\u001b[0m\u001b[0;34m.\u001b[0m\u001b[0m_feed_input_shapes\u001b[0m\u001b[0;34m,\u001b[0m\u001b[0;34m\u001b[0m\u001b[0m\n\u001b[0;32m-> 1817\u001b[0;31m                                     check_batch_axis=False)\n\u001b[0m\u001b[1;32m   1818\u001b[0m         \u001b[0;32mif\u001b[0m \u001b[0mself\u001b[0m\u001b[0;34m.\u001b[0m\u001b[0mstateful\u001b[0m\u001b[0;34m:\u001b[0m\u001b[0;34m\u001b[0m\u001b[0m\n\u001b[1;32m   1819\u001b[0m             \u001b[0;32mif\u001b[0m \u001b[0mx\u001b[0m\u001b[0;34m[\u001b[0m\u001b[0;36m0\u001b[0m\u001b[0;34m]\u001b[0m\u001b[0;34m.\u001b[0m\u001b[0mshape\u001b[0m\u001b[0;34m[\u001b[0m\u001b[0;36m0\u001b[0m\u001b[0;34m]\u001b[0m \u001b[0;34m>\u001b[0m \u001b[0mbatch_size\u001b[0m \u001b[0;32mand\u001b[0m \u001b[0mx\u001b[0m\u001b[0;34m[\u001b[0m\u001b[0;36m0\u001b[0m\u001b[0;34m]\u001b[0m\u001b[0;34m.\u001b[0m\u001b[0mshape\u001b[0m\u001b[0;34m[\u001b[0m\u001b[0;36m0\u001b[0m\u001b[0;34m]\u001b[0m \u001b[0;34m%\u001b[0m \u001b[0mbatch_size\u001b[0m \u001b[0;34m!=\u001b[0m \u001b[0;36m0\u001b[0m\u001b[0;34m:\u001b[0m\u001b[0;34m\u001b[0m\u001b[0m\n",
            "\u001b[0;32m/usr/local/lib/python3.6/dist-packages/keras/engine/training.py\u001b[0m in \u001b[0;36m_standardize_input_data\u001b[0;34m(data, names, shapes, check_batch_axis, exception_prefix)\u001b[0m\n\u001b[1;32m    111\u001b[0m                         \u001b[0;34m': expected '\u001b[0m \u001b[0;34m+\u001b[0m \u001b[0mnames\u001b[0m\u001b[0;34m[\u001b[0m\u001b[0mi\u001b[0m\u001b[0;34m]\u001b[0m \u001b[0;34m+\u001b[0m \u001b[0;34m' to have '\u001b[0m \u001b[0;34m+\u001b[0m\u001b[0;34m\u001b[0m\u001b[0m\n\u001b[1;32m    112\u001b[0m                         \u001b[0mstr\u001b[0m\u001b[0;34m(\u001b[0m\u001b[0mlen\u001b[0m\u001b[0;34m(\u001b[0m\u001b[0mshape\u001b[0m\u001b[0;34m)\u001b[0m\u001b[0;34m)\u001b[0m \u001b[0;34m+\u001b[0m \u001b[0;34m' dimensions, but got array '\u001b[0m\u001b[0;34m\u001b[0m\u001b[0m\n\u001b[0;32m--> 113\u001b[0;31m                         'with shape ' + str(data_shape))\n\u001b[0m\u001b[1;32m    114\u001b[0m                 \u001b[0;32mif\u001b[0m \u001b[0;32mnot\u001b[0m \u001b[0mcheck_batch_axis\u001b[0m\u001b[0;34m:\u001b[0m\u001b[0;34m\u001b[0m\u001b[0m\n\u001b[1;32m    115\u001b[0m                     \u001b[0mdata_shape\u001b[0m \u001b[0;34m=\u001b[0m \u001b[0mdata_shape\u001b[0m\u001b[0;34m[\u001b[0m\u001b[0;36m1\u001b[0m\u001b[0;34m:\u001b[0m\u001b[0;34m]\u001b[0m\u001b[0;34m\u001b[0m\u001b[0m\n",
            "\u001b[0;31mValueError\u001b[0m: Error when checking : expected conv2d_1_input to have 4 dimensions, but got array with shape (630, 6)"
          ]
        }
      ]
    },
    {
      "metadata": {
        "id": "TL7fOQb77603",
        "colab_type": "code",
        "colab": {
          "autoexec": {
            "startup": false,
            "wait_interval": 0
          },
          "base_uri": "https://localhost:8080/",
          "height": 34
        },
        "outputId": "169088e1-7e2a-479c-a6e7-3099ebfde084",
        "executionInfo": {
          "status": "ok",
          "timestamp": 1533656591990,
          "user_tz": -420,
          "elapsed": 920,
          "user": {
            "displayName": "lutfi adam",
            "photoUrl": "//lh4.googleusercontent.com/-v_uCuC_CMtI/AAAAAAAAAAI/AAAAAAAAAHw/oRDqji7y32Y/s50-c-k-no/photo.jpg",
            "userId": "110769470108785662190"
          }
        }
      },
      "cell_type": "code",
      "source": [
        "Img.shape"
      ],
      "execution_count": 18,
      "outputs": [
        {
          "output_type": "execute_result",
          "data": {
            "text/plain": [
              "(630, 160, 160, 3)"
            ]
          },
          "metadata": {
            "tags": []
          },
          "execution_count": 18
        }
      ]
    },
    {
      "metadata": {
        "id": "Z7ELBsbaBHOG",
        "colab_type": "code",
        "colab": {
          "autoexec": {
            "startup": false,
            "wait_interval": 0
          }
        }
      },
      "cell_type": "code",
      "source": [
        "model_json = model.to_json()\n",
        "with open(\"drive/modelnew.json\", \"w\") as json_file:\n",
        "    json_file.write(model_json)\n",
        "# serialize weights to HDF5\n",
        "model.save_weights(\"drive/modelnew.h5\")\n",
        "print(\"Saved model to drive\")"
      ],
      "execution_count": 0,
      "outputs": []
    },
    {
      "metadata": {
        "id": "_n9mILgs_QjU",
        "colab_type": "code",
        "colab": {
          "autoexec": {
            "startup": false,
            "wait_interval": 0
          }
        }
      },
      "cell_type": "code",
      "source": [
        "from keras.models import model_from_json\n",
        "model_json = model.to_json()\n",
        "with open(\"model.json\", \"w\") as json_file:\n",
        "    json_file.write(model_json)\n",
        "# serialize weights to HDF5\n",
        "model.save_weights(\"model.h5\")\n",
        "print(\"Saved model to disk\")"
      ],
      "execution_count": 0,
      "outputs": []
    },
    {
      "metadata": {
        "id": "SiDJBJEOCQ5I",
        "colab_type": "code",
        "colab": {
          "autoexec": {
            "startup": false,
            "wait_interval": 0
          }
        }
      },
      "cell_type": "code",
      "source": [
        "json_file = open('model.json', 'r')\n",
        "loaded_model_json = json_file.read()\n",
        "json_file.close()\n",
        "loaded_model = model_from_json(loaded_model_json)\n",
        "# load weights into new model\n",
        "loaded_model.load_weights(\"model.h5\")\n",
        "print(\"Loaded model from disk\")\n",
        " "
      ],
      "execution_count": 0,
      "outputs": []
    },
    {
      "metadata": {
        "id": "18AA3bWdCTwL",
        "colab_type": "code",
        "colab": {
          "autoexec": {
            "startup": false,
            "wait_interval": 0
          },
          "base_uri": "https://localhost:8080/",
          "height": 180
        },
        "outputId": "adb42751-c09b-488d-c437-b78d7fc52cc0",
        "executionInfo": {
          "status": "error",
          "timestamp": 1533433220420,
          "user_tz": -420,
          "elapsed": 841,
          "user": {
            "displayName": "lutfi adam",
            "photoUrl": "//lh4.googleusercontent.com/-v_uCuC_CMtI/AAAAAAAAAAI/AAAAAAAAAHw/oRDqji7y32Y/s50-c-k-no/photo.jpg",
            "userId": "110769470108785662190"
          }
        }
      },
      "cell_type": "code",
      "source": [
        "#loaded_model.compile(loss='binary_crossentropy', optimizer='rmsprop', metrics=['accuracy'])\n",
        "scores = model.evaluate(x=Img, y=label, verbose=0)\n",
        "print(\"%s: %.2f%%\" % (model.metrics_names[1], scores[1]*100))\n"
      ],
      "execution_count": 0,
      "outputs": [
        {
          "output_type": "error",
          "ename": "NameError",
          "evalue": "ignored",
          "traceback": [
            "\u001b[0;31m---------------------------------------------------------------------------\u001b[0m",
            "\u001b[0;31mNameError\u001b[0m                                 Traceback (most recent call last)",
            "\u001b[0;32m<ipython-input-3-893101285894>\u001b[0m in \u001b[0;36m<module>\u001b[0;34m()\u001b[0m\n\u001b[0;32m----> 1\u001b[0;31m \u001b[0mscores\u001b[0m \u001b[0;34m=\u001b[0m \u001b[0mmodel\u001b[0m\u001b[0;34m.\u001b[0m\u001b[0mevaluate\u001b[0m\u001b[0;34m(\u001b[0m\u001b[0mx\u001b[0m\u001b[0;34m=\u001b[0m\u001b[0mImg\u001b[0m\u001b[0;34m,\u001b[0m \u001b[0my\u001b[0m\u001b[0;34m=\u001b[0m\u001b[0mlabel\u001b[0m\u001b[0;34m,\u001b[0m \u001b[0mverbose\u001b[0m\u001b[0;34m=\u001b[0m\u001b[0;36m0\u001b[0m\u001b[0;34m)\u001b[0m\u001b[0;34m\u001b[0m\u001b[0m\n\u001b[0m\u001b[1;32m      2\u001b[0m \u001b[0mprint\u001b[0m\u001b[0;34m(\u001b[0m\u001b[0;34m\"%s: %.2f%%\"\u001b[0m \u001b[0;34m%\u001b[0m \u001b[0;34m(\u001b[0m\u001b[0mmodel\u001b[0m\u001b[0;34m.\u001b[0m\u001b[0mmetrics_names\u001b[0m\u001b[0;34m[\u001b[0m\u001b[0;36m1\u001b[0m\u001b[0;34m]\u001b[0m\u001b[0;34m,\u001b[0m \u001b[0mscores\u001b[0m\u001b[0;34m[\u001b[0m\u001b[0;36m1\u001b[0m\u001b[0;34m]\u001b[0m\u001b[0;34m*\u001b[0m\u001b[0;36m100\u001b[0m\u001b[0;34m)\u001b[0m\u001b[0;34m)\u001b[0m\u001b[0;34m\u001b[0m\u001b[0m\n",
            "\u001b[0;31mNameError\u001b[0m: name 'model' is not defined"
          ]
        }
      ]
    },
    {
      "metadata": {
        "id": "6D1zW-yUafbM",
        "colab_type": "code",
        "colab": {
          "autoexec": {
            "startup": false,
            "wait_interval": 0
          }
        },
        "outputId": "fafbb4cf-7762-4415-ad74-e36a84960147"
      },
      "cell_type": "code",
      "source": [
        "#model modifikasi 5 cnn dan 3 mlp\n",
        "model = Sequential()\n",
        "\n",
        "model.add(Conv2D(128, (3,3), input_shape=(160,160,3)))\n",
        "model.add(BatchNormalization())\n",
        "model.add(Activation('relu'))\n",
        "model.add(MaxPooling2D(pool_size=(3, 3)))\n",
        "model.add(Dropout(0.5))\n",
        "\n",
        "model.add(Conv2D(128, (3,3)))\n",
        "model.add(BatchNormalization())\n",
        "model.add(Activation('relu'))\n",
        "model.add(MaxPooling2D(pool_size=(3, 3)))\n",
        "model.add(Dropout(0.5))\n",
        "\n",
        "model.add(Conv2D(128, (3,3)))\n",
        "model.add(BatchNormalization())\n",
        "model.add(Activation('relu'))\n",
        "model.add(MaxPooling2D(pool_size=(3, 3)))\n",
        "model.add(Dropout(0.5))\n",
        "\n",
        "model.add(Conv2D(128, (3,3)))\n",
        "model.add(BatchNormalization())\n",
        "model.add(Activation('relu'))\n",
        "model.add(MaxPooling2D(pool_size=(3, 3)))\n",
        "model.add(Dropout(0.5))\n",
        "\n",
        "model.add(Flatten())\n",
        "model.add(Dense(64, activation='relu'))\n",
        "model.add(Dense(32, activation='relu'))\n",
        "model.add(Dense(7, activation='softmax'))\n",
        "\n",
        "model.summary()"
      ],
      "execution_count": 0,
      "outputs": [
        {
          "output_type": "error",
          "ename": "ValueError",
          "evalue": "Negative dimension size caused by subtracting 3 from 2 for 'conv2d_5/convolution' (op: 'Conv2D') with input shapes: [?,2,2,128], [3,3,128,128].",
          "traceback": [
            "\u001b[1;31m---------------------------------------------------------------------------\u001b[0m",
            "\u001b[1;31mInvalidArgumentError\u001b[0m                      Traceback (most recent call last)",
            "\u001b[1;32mc:\\users\\syaaf\\anaconda3\\envs\\tfgpu\\lib\\site-packages\\tensorflow\\python\\framework\\ops.py\u001b[0m in \u001b[0;36m_create_c_op\u001b[1;34m(graph, node_def, inputs, control_inputs)\u001b[0m\n\u001b[0;32m   1566\u001b[0m   \u001b[1;32mtry\u001b[0m\u001b[1;33m:\u001b[0m\u001b[1;33m\u001b[0m\u001b[0m\n\u001b[1;32m-> 1567\u001b[1;33m     \u001b[0mc_op\u001b[0m \u001b[1;33m=\u001b[0m \u001b[0mc_api\u001b[0m\u001b[1;33m.\u001b[0m\u001b[0mTF_FinishOperation\u001b[0m\u001b[1;33m(\u001b[0m\u001b[0mop_desc\u001b[0m\u001b[1;33m)\u001b[0m\u001b[1;33m\u001b[0m\u001b[0m\n\u001b[0m\u001b[0;32m   1568\u001b[0m   \u001b[1;32mexcept\u001b[0m \u001b[0merrors\u001b[0m\u001b[1;33m.\u001b[0m\u001b[0mInvalidArgumentError\u001b[0m \u001b[1;32mas\u001b[0m \u001b[0me\u001b[0m\u001b[1;33m:\u001b[0m\u001b[1;33m\u001b[0m\u001b[0m\n",
            "\u001b[1;31mInvalidArgumentError\u001b[0m: Negative dimension size caused by subtracting 3 from 2 for 'conv2d_5/convolution' (op: 'Conv2D') with input shapes: [?,2,2,128], [3,3,128,128].",
            "\nDuring handling of the above exception, another exception occurred:\n",
            "\u001b[1;31mValueError\u001b[0m                                Traceback (most recent call last)",
            "\u001b[1;32m<ipython-input-4-c9eb2e3abb26>\u001b[0m in \u001b[0;36m<module>\u001b[1;34m()\u001b[0m\n\u001b[0;32m      2\u001b[0m \u001b[0mmodel2\u001b[0m \u001b[1;33m=\u001b[0m \u001b[0mSequential\u001b[0m\u001b[1;33m(\u001b[0m\u001b[1;33m)\u001b[0m\u001b[1;33m\u001b[0m\u001b[0m\n\u001b[0;32m      3\u001b[0m \u001b[1;33m\u001b[0m\u001b[0m\n\u001b[1;32m----> 4\u001b[1;33m \u001b[0mmodel\u001b[0m\u001b[1;33m.\u001b[0m\u001b[0madd\u001b[0m\u001b[1;33m(\u001b[0m\u001b[0mConv2D\u001b[0m\u001b[1;33m(\u001b[0m\u001b[1;36m128\u001b[0m\u001b[1;33m,\u001b[0m \u001b[1;33m(\u001b[0m\u001b[1;36m3\u001b[0m\u001b[1;33m,\u001b[0m\u001b[1;36m3\u001b[0m\u001b[1;33m)\u001b[0m\u001b[1;33m,\u001b[0m \u001b[0minput_shape\u001b[0m\u001b[1;33m=\u001b[0m\u001b[1;33m(\u001b[0m\u001b[1;36m160\u001b[0m\u001b[1;33m,\u001b[0m\u001b[1;36m160\u001b[0m\u001b[1;33m,\u001b[0m\u001b[1;36m3\u001b[0m\u001b[1;33m)\u001b[0m\u001b[1;33m)\u001b[0m\u001b[1;33m)\u001b[0m\u001b[1;33m\u001b[0m\u001b[0m\n\u001b[0m\u001b[0;32m      5\u001b[0m \u001b[0mmodel\u001b[0m\u001b[1;33m.\u001b[0m\u001b[0madd\u001b[0m\u001b[1;33m(\u001b[0m\u001b[0mBatchNormalization\u001b[0m\u001b[1;33m(\u001b[0m\u001b[1;33m)\u001b[0m\u001b[1;33m)\u001b[0m\u001b[1;33m\u001b[0m\u001b[0m\n\u001b[0;32m      6\u001b[0m \u001b[0mmodel\u001b[0m\u001b[1;33m.\u001b[0m\u001b[0madd\u001b[0m\u001b[1;33m(\u001b[0m\u001b[0mActivation\u001b[0m\u001b[1;33m(\u001b[0m\u001b[1;34m'relu'\u001b[0m\u001b[1;33m)\u001b[0m\u001b[1;33m)\u001b[0m\u001b[1;33m\u001b[0m\u001b[0m\n",
            "\u001b[1;32mc:\\users\\syaaf\\anaconda3\\envs\\tfgpu\\lib\\site-packages\\keras\\engine\\sequential.py\u001b[0m in \u001b[0;36madd\u001b[1;34m(self, layer)\u001b[0m\n\u001b[0;32m    185\u001b[0m                 \u001b[0mself\u001b[0m\u001b[1;33m.\u001b[0m\u001b[0minputs\u001b[0m \u001b[1;33m=\u001b[0m \u001b[0mnetwork\u001b[0m\u001b[1;33m.\u001b[0m\u001b[0mget_source_inputs\u001b[0m\u001b[1;33m(\u001b[0m\u001b[0mself\u001b[0m\u001b[1;33m.\u001b[0m\u001b[0moutputs\u001b[0m\u001b[1;33m[\u001b[0m\u001b[1;36m0\u001b[0m\u001b[1;33m]\u001b[0m\u001b[1;33m)\u001b[0m\u001b[1;33m\u001b[0m\u001b[0m\n\u001b[0;32m    186\u001b[0m         \u001b[1;32melif\u001b[0m \u001b[0mself\u001b[0m\u001b[1;33m.\u001b[0m\u001b[0moutputs\u001b[0m\u001b[1;33m:\u001b[0m\u001b[1;33m\u001b[0m\u001b[0m\n\u001b[1;32m--> 187\u001b[1;33m             \u001b[0moutput_tensor\u001b[0m \u001b[1;33m=\u001b[0m \u001b[0mlayer\u001b[0m\u001b[1;33m(\u001b[0m\u001b[0mself\u001b[0m\u001b[1;33m.\u001b[0m\u001b[0moutputs\u001b[0m\u001b[1;33m[\u001b[0m\u001b[1;36m0\u001b[0m\u001b[1;33m]\u001b[0m\u001b[1;33m)\u001b[0m\u001b[1;33m\u001b[0m\u001b[0m\n\u001b[0m\u001b[0;32m    188\u001b[0m             \u001b[1;32mif\u001b[0m \u001b[0misinstance\u001b[0m\u001b[1;33m(\u001b[0m\u001b[0moutput_tensor\u001b[0m\u001b[1;33m,\u001b[0m \u001b[0mlist\u001b[0m\u001b[1;33m)\u001b[0m\u001b[1;33m:\u001b[0m\u001b[1;33m\u001b[0m\u001b[0m\n\u001b[0;32m    189\u001b[0m                 raise TypeError('All layers in a Sequential model '\n",
            "\u001b[1;32mc:\\users\\syaaf\\anaconda3\\envs\\tfgpu\\lib\\site-packages\\keras\\engine\\base_layer.py\u001b[0m in \u001b[0;36m__call__\u001b[1;34m(self, inputs, **kwargs)\u001b[0m\n\u001b[0;32m    458\u001b[0m             \u001b[1;31m# Actually call the layer,\u001b[0m\u001b[1;33m\u001b[0m\u001b[1;33m\u001b[0m\u001b[0m\n\u001b[0;32m    459\u001b[0m             \u001b[1;31m# collecting output(s), mask(s), and shape(s).\u001b[0m\u001b[1;33m\u001b[0m\u001b[1;33m\u001b[0m\u001b[0m\n\u001b[1;32m--> 460\u001b[1;33m             \u001b[0moutput\u001b[0m \u001b[1;33m=\u001b[0m \u001b[0mself\u001b[0m\u001b[1;33m.\u001b[0m\u001b[0mcall\u001b[0m\u001b[1;33m(\u001b[0m\u001b[0minputs\u001b[0m\u001b[1;33m,\u001b[0m \u001b[1;33m**\u001b[0m\u001b[0mkwargs\u001b[0m\u001b[1;33m)\u001b[0m\u001b[1;33m\u001b[0m\u001b[0m\n\u001b[0m\u001b[0;32m    461\u001b[0m             \u001b[0moutput_mask\u001b[0m \u001b[1;33m=\u001b[0m \u001b[0mself\u001b[0m\u001b[1;33m.\u001b[0m\u001b[0mcompute_mask\u001b[0m\u001b[1;33m(\u001b[0m\u001b[0minputs\u001b[0m\u001b[1;33m,\u001b[0m \u001b[0mprevious_mask\u001b[0m\u001b[1;33m)\u001b[0m\u001b[1;33m\u001b[0m\u001b[0m\n\u001b[0;32m    462\u001b[0m \u001b[1;33m\u001b[0m\u001b[0m\n",
            "\u001b[1;32mc:\\users\\syaaf\\anaconda3\\envs\\tfgpu\\lib\\site-packages\\keras\\layers\\convolutional.py\u001b[0m in \u001b[0;36mcall\u001b[1;34m(self, inputs)\u001b[0m\n\u001b[0;32m    166\u001b[0m                 \u001b[0mpadding\u001b[0m\u001b[1;33m=\u001b[0m\u001b[0mself\u001b[0m\u001b[1;33m.\u001b[0m\u001b[0mpadding\u001b[0m\u001b[1;33m,\u001b[0m\u001b[1;33m\u001b[0m\u001b[0m\n\u001b[0;32m    167\u001b[0m                 \u001b[0mdata_format\u001b[0m\u001b[1;33m=\u001b[0m\u001b[0mself\u001b[0m\u001b[1;33m.\u001b[0m\u001b[0mdata_format\u001b[0m\u001b[1;33m,\u001b[0m\u001b[1;33m\u001b[0m\u001b[0m\n\u001b[1;32m--> 168\u001b[1;33m                 dilation_rate=self.dilation_rate)\n\u001b[0m\u001b[0;32m    169\u001b[0m         \u001b[1;32mif\u001b[0m \u001b[0mself\u001b[0m\u001b[1;33m.\u001b[0m\u001b[0mrank\u001b[0m \u001b[1;33m==\u001b[0m \u001b[1;36m3\u001b[0m\u001b[1;33m:\u001b[0m\u001b[1;33m\u001b[0m\u001b[0m\n\u001b[0;32m    170\u001b[0m             outputs = K.conv3d(\n",
            "\u001b[1;32mc:\\users\\syaaf\\anaconda3\\envs\\tfgpu\\lib\\site-packages\\keras\\backend\\tensorflow_backend.py\u001b[0m in \u001b[0;36mconv2d\u001b[1;34m(x, kernel, strides, padding, data_format, dilation_rate)\u001b[0m\n\u001b[0;32m   3564\u001b[0m         \u001b[0mstrides\u001b[0m\u001b[1;33m=\u001b[0m\u001b[0mstrides\u001b[0m\u001b[1;33m,\u001b[0m\u001b[1;33m\u001b[0m\u001b[0m\n\u001b[0;32m   3565\u001b[0m         \u001b[0mpadding\u001b[0m\u001b[1;33m=\u001b[0m\u001b[0mpadding\u001b[0m\u001b[1;33m,\u001b[0m\u001b[1;33m\u001b[0m\u001b[0m\n\u001b[1;32m-> 3566\u001b[1;33m         data_format=tf_data_format)\n\u001b[0m\u001b[0;32m   3567\u001b[0m \u001b[1;33m\u001b[0m\u001b[0m\n\u001b[0;32m   3568\u001b[0m     \u001b[1;32mif\u001b[0m \u001b[0mdata_format\u001b[0m \u001b[1;33m==\u001b[0m \u001b[1;34m'channels_first'\u001b[0m \u001b[1;32mand\u001b[0m \u001b[0mtf_data_format\u001b[0m \u001b[1;33m==\u001b[0m \u001b[1;34m'NHWC'\u001b[0m\u001b[1;33m:\u001b[0m\u001b[1;33m\u001b[0m\u001b[0m\n",
            "\u001b[1;32mc:\\users\\syaaf\\anaconda3\\envs\\tfgpu\\lib\\site-packages\\tensorflow\\python\\ops\\nn_ops.py\u001b[0m in \u001b[0;36mconvolution\u001b[1;34m(input, filter, padding, strides, dilation_rate, name, data_format)\u001b[0m\n\u001b[0;32m    778\u001b[0m         \u001b[0mname\u001b[0m\u001b[1;33m=\u001b[0m\u001b[0mname\u001b[0m\u001b[1;33m,\u001b[0m\u001b[1;33m\u001b[0m\u001b[0m\n\u001b[0;32m    779\u001b[0m         data_format=data_format)\n\u001b[1;32m--> 780\u001b[1;33m     \u001b[1;32mreturn\u001b[0m \u001b[0mop\u001b[0m\u001b[1;33m(\u001b[0m\u001b[0minput\u001b[0m\u001b[1;33m,\u001b[0m \u001b[0mfilter\u001b[0m\u001b[1;33m)\u001b[0m\u001b[1;33m\u001b[0m\u001b[0m\n\u001b[0m\u001b[0;32m    781\u001b[0m \u001b[1;33m\u001b[0m\u001b[0m\n\u001b[0;32m    782\u001b[0m \u001b[1;33m\u001b[0m\u001b[0m\n",
            "\u001b[1;32mc:\\users\\syaaf\\anaconda3\\envs\\tfgpu\\lib\\site-packages\\tensorflow\\python\\ops\\nn_ops.py\u001b[0m in \u001b[0;36m__call__\u001b[1;34m(self, inp, filter)\u001b[0m\n\u001b[0;32m    866\u001b[0m \u001b[1;33m\u001b[0m\u001b[0m\n\u001b[0;32m    867\u001b[0m   \u001b[1;32mdef\u001b[0m \u001b[0m__call__\u001b[0m\u001b[1;33m(\u001b[0m\u001b[0mself\u001b[0m\u001b[1;33m,\u001b[0m \u001b[0minp\u001b[0m\u001b[1;33m,\u001b[0m \u001b[0mfilter\u001b[0m\u001b[1;33m)\u001b[0m\u001b[1;33m:\u001b[0m  \u001b[1;31m# pylint: disable=redefined-builtin\u001b[0m\u001b[1;33m\u001b[0m\u001b[0m\n\u001b[1;32m--> 868\u001b[1;33m     \u001b[1;32mreturn\u001b[0m \u001b[0mself\u001b[0m\u001b[1;33m.\u001b[0m\u001b[0mconv_op\u001b[0m\u001b[1;33m(\u001b[0m\u001b[0minp\u001b[0m\u001b[1;33m,\u001b[0m \u001b[0mfilter\u001b[0m\u001b[1;33m)\u001b[0m\u001b[1;33m\u001b[0m\u001b[0m\n\u001b[0m\u001b[0;32m    869\u001b[0m \u001b[1;33m\u001b[0m\u001b[0m\n\u001b[0;32m    870\u001b[0m \u001b[1;33m\u001b[0m\u001b[0m\n",
            "\u001b[1;32mc:\\users\\syaaf\\anaconda3\\envs\\tfgpu\\lib\\site-packages\\tensorflow\\python\\ops\\nn_ops.py\u001b[0m in \u001b[0;36m__call__\u001b[1;34m(self, inp, filter)\u001b[0m\n\u001b[0;32m    518\u001b[0m \u001b[1;33m\u001b[0m\u001b[0m\n\u001b[0;32m    519\u001b[0m   \u001b[1;32mdef\u001b[0m \u001b[0m__call__\u001b[0m\u001b[1;33m(\u001b[0m\u001b[0mself\u001b[0m\u001b[1;33m,\u001b[0m \u001b[0minp\u001b[0m\u001b[1;33m,\u001b[0m \u001b[0mfilter\u001b[0m\u001b[1;33m)\u001b[0m\u001b[1;33m:\u001b[0m  \u001b[1;31m# pylint: disable=redefined-builtin\u001b[0m\u001b[1;33m\u001b[0m\u001b[0m\n\u001b[1;32m--> 520\u001b[1;33m     \u001b[1;32mreturn\u001b[0m \u001b[0mself\u001b[0m\u001b[1;33m.\u001b[0m\u001b[0mcall\u001b[0m\u001b[1;33m(\u001b[0m\u001b[0minp\u001b[0m\u001b[1;33m,\u001b[0m \u001b[0mfilter\u001b[0m\u001b[1;33m)\u001b[0m\u001b[1;33m\u001b[0m\u001b[0m\n\u001b[0m\u001b[0;32m    521\u001b[0m \u001b[1;33m\u001b[0m\u001b[0m\n\u001b[0;32m    522\u001b[0m \u001b[1;33m\u001b[0m\u001b[0m\n",
            "\u001b[1;32mc:\\users\\syaaf\\anaconda3\\envs\\tfgpu\\lib\\site-packages\\tensorflow\\python\\ops\\nn_ops.py\u001b[0m in \u001b[0;36m__call__\u001b[1;34m(self, inp, filter)\u001b[0m\n\u001b[0;32m    202\u001b[0m         \u001b[0mpadding\u001b[0m\u001b[1;33m=\u001b[0m\u001b[0mself\u001b[0m\u001b[1;33m.\u001b[0m\u001b[0mpadding\u001b[0m\u001b[1;33m,\u001b[0m\u001b[1;33m\u001b[0m\u001b[0m\n\u001b[0;32m    203\u001b[0m         \u001b[0mdata_format\u001b[0m\u001b[1;33m=\u001b[0m\u001b[0mself\u001b[0m\u001b[1;33m.\u001b[0m\u001b[0mdata_format\u001b[0m\u001b[1;33m,\u001b[0m\u001b[1;33m\u001b[0m\u001b[0m\n\u001b[1;32m--> 204\u001b[1;33m         name=self.name)\n\u001b[0m\u001b[0;32m    205\u001b[0m \u001b[1;33m\u001b[0m\u001b[0m\n\u001b[0;32m    206\u001b[0m \u001b[1;33m\u001b[0m\u001b[0m\n",
            "\u001b[1;32mc:\\users\\syaaf\\anaconda3\\envs\\tfgpu\\lib\\site-packages\\tensorflow\\python\\ops\\gen_nn_ops.py\u001b[0m in \u001b[0;36mconv2d\u001b[1;34m(input, filter, strides, padding, use_cudnn_on_gpu, data_format, dilations, name)\u001b[0m\n\u001b[0;32m   1040\u001b[0m         \u001b[1;34m\"Conv2D\"\u001b[0m\u001b[1;33m,\u001b[0m \u001b[0minput\u001b[0m\u001b[1;33m=\u001b[0m\u001b[0minput\u001b[0m\u001b[1;33m,\u001b[0m \u001b[0mfilter\u001b[0m\u001b[1;33m=\u001b[0m\u001b[0mfilter\u001b[0m\u001b[1;33m,\u001b[0m \u001b[0mstrides\u001b[0m\u001b[1;33m=\u001b[0m\u001b[0mstrides\u001b[0m\u001b[1;33m,\u001b[0m\u001b[1;33m\u001b[0m\u001b[0m\n\u001b[0;32m   1041\u001b[0m         \u001b[0mpadding\u001b[0m\u001b[1;33m=\u001b[0m\u001b[0mpadding\u001b[0m\u001b[1;33m,\u001b[0m \u001b[0muse_cudnn_on_gpu\u001b[0m\u001b[1;33m=\u001b[0m\u001b[0muse_cudnn_on_gpu\u001b[0m\u001b[1;33m,\u001b[0m\u001b[1;33m\u001b[0m\u001b[0m\n\u001b[1;32m-> 1042\u001b[1;33m         data_format=data_format, dilations=dilations, name=name)\n\u001b[0m\u001b[0;32m   1043\u001b[0m     \u001b[0m_result\u001b[0m \u001b[1;33m=\u001b[0m \u001b[0m_op\u001b[0m\u001b[1;33m.\u001b[0m\u001b[0moutputs\u001b[0m\u001b[1;33m[\u001b[0m\u001b[1;33m:\u001b[0m\u001b[1;33m]\u001b[0m\u001b[1;33m\u001b[0m\u001b[0m\n\u001b[0;32m   1044\u001b[0m     \u001b[0m_inputs_flat\u001b[0m \u001b[1;33m=\u001b[0m \u001b[0m_op\u001b[0m\u001b[1;33m.\u001b[0m\u001b[0minputs\u001b[0m\u001b[1;33m\u001b[0m\u001b[0m\n",
            "\u001b[1;32mc:\\users\\syaaf\\anaconda3\\envs\\tfgpu\\lib\\site-packages\\tensorflow\\python\\framework\\op_def_library.py\u001b[0m in \u001b[0;36m_apply_op_helper\u001b[1;34m(self, op_type_name, name, **keywords)\u001b[0m\n\u001b[0;32m    785\u001b[0m         op = g.create_op(op_type_name, inputs, output_types, name=scope,\n\u001b[0;32m    786\u001b[0m                          \u001b[0minput_types\u001b[0m\u001b[1;33m=\u001b[0m\u001b[0minput_types\u001b[0m\u001b[1;33m,\u001b[0m \u001b[0mattrs\u001b[0m\u001b[1;33m=\u001b[0m\u001b[0mattr_protos\u001b[0m\u001b[1;33m,\u001b[0m\u001b[1;33m\u001b[0m\u001b[0m\n\u001b[1;32m--> 787\u001b[1;33m                          op_def=op_def)\n\u001b[0m\u001b[0;32m    788\u001b[0m       \u001b[1;32mreturn\u001b[0m \u001b[0moutput_structure\u001b[0m\u001b[1;33m,\u001b[0m \u001b[0mop_def\u001b[0m\u001b[1;33m.\u001b[0m\u001b[0mis_stateful\u001b[0m\u001b[1;33m,\u001b[0m \u001b[0mop\u001b[0m\u001b[1;33m\u001b[0m\u001b[0m\n\u001b[0;32m    789\u001b[0m \u001b[1;33m\u001b[0m\u001b[0m\n",
            "\u001b[1;32mc:\\users\\syaaf\\anaconda3\\envs\\tfgpu\\lib\\site-packages\\tensorflow\\python\\framework\\ops.py\u001b[0m in \u001b[0;36mcreate_op\u001b[1;34m(self, op_type, inputs, dtypes, input_types, name, attrs, op_def, compute_shapes, compute_device)\u001b[0m\n\u001b[0;32m   3390\u001b[0m           \u001b[0minput_types\u001b[0m\u001b[1;33m=\u001b[0m\u001b[0minput_types\u001b[0m\u001b[1;33m,\u001b[0m\u001b[1;33m\u001b[0m\u001b[0m\n\u001b[0;32m   3391\u001b[0m           \u001b[0moriginal_op\u001b[0m\u001b[1;33m=\u001b[0m\u001b[0mself\u001b[0m\u001b[1;33m.\u001b[0m\u001b[0m_default_original_op\u001b[0m\u001b[1;33m,\u001b[0m\u001b[1;33m\u001b[0m\u001b[0m\n\u001b[1;32m-> 3392\u001b[1;33m           op_def=op_def)\n\u001b[0m\u001b[0;32m   3393\u001b[0m \u001b[1;33m\u001b[0m\u001b[0m\n\u001b[0;32m   3394\u001b[0m       \u001b[1;31m# Note: shapes are lazily computed with the C API enabled.\u001b[0m\u001b[1;33m\u001b[0m\u001b[1;33m\u001b[0m\u001b[0m\n",
            "\u001b[1;32mc:\\users\\syaaf\\anaconda3\\envs\\tfgpu\\lib\\site-packages\\tensorflow\\python\\framework\\ops.py\u001b[0m in \u001b[0;36m__init__\u001b[1;34m(self, node_def, g, inputs, output_types, control_inputs, input_types, original_op, op_def)\u001b[0m\n\u001b[0;32m   1732\u001b[0m           op_def, inputs, node_def.attr)\n\u001b[0;32m   1733\u001b[0m       self._c_op = _create_c_op(self._graph, node_def, grouped_inputs,\n\u001b[1;32m-> 1734\u001b[1;33m                                 control_input_ops)\n\u001b[0m\u001b[0;32m   1735\u001b[0m     \u001b[1;32melse\u001b[0m\u001b[1;33m:\u001b[0m\u001b[1;33m\u001b[0m\u001b[0m\n\u001b[0;32m   1736\u001b[0m       \u001b[0mself\u001b[0m\u001b[1;33m.\u001b[0m\u001b[0m_c_op\u001b[0m \u001b[1;33m=\u001b[0m \u001b[1;32mNone\u001b[0m\u001b[1;33m\u001b[0m\u001b[0m\n",
            "\u001b[1;32mc:\\users\\syaaf\\anaconda3\\envs\\tfgpu\\lib\\site-packages\\tensorflow\\python\\framework\\ops.py\u001b[0m in \u001b[0;36m_create_c_op\u001b[1;34m(graph, node_def, inputs, control_inputs)\u001b[0m\n\u001b[0;32m   1568\u001b[0m   \u001b[1;32mexcept\u001b[0m \u001b[0merrors\u001b[0m\u001b[1;33m.\u001b[0m\u001b[0mInvalidArgumentError\u001b[0m \u001b[1;32mas\u001b[0m \u001b[0me\u001b[0m\u001b[1;33m:\u001b[0m\u001b[1;33m\u001b[0m\u001b[0m\n\u001b[0;32m   1569\u001b[0m     \u001b[1;31m# Convert to ValueError for backwards compatibility.\u001b[0m\u001b[1;33m\u001b[0m\u001b[1;33m\u001b[0m\u001b[0m\n\u001b[1;32m-> 1570\u001b[1;33m     \u001b[1;32mraise\u001b[0m \u001b[0mValueError\u001b[0m\u001b[1;33m(\u001b[0m\u001b[0mstr\u001b[0m\u001b[1;33m(\u001b[0m\u001b[0me\u001b[0m\u001b[1;33m)\u001b[0m\u001b[1;33m)\u001b[0m\u001b[1;33m\u001b[0m\u001b[0m\n\u001b[0m\u001b[0;32m   1571\u001b[0m \u001b[1;33m\u001b[0m\u001b[0m\n\u001b[0;32m   1572\u001b[0m   \u001b[1;32mreturn\u001b[0m \u001b[0mc_op\u001b[0m\u001b[1;33m\u001b[0m\u001b[0m\n",
            "\u001b[1;31mValueError\u001b[0m: Negative dimension size caused by subtracting 3 from 2 for 'conv2d_5/convolution' (op: 'Conv2D') with input shapes: [?,2,2,128], [3,3,128,128]."
          ]
        }
      ]
    },
    {
      "metadata": {
        "id": "9OSmTZQLafbi",
        "colab_type": "code",
        "colab": {
          "autoexec": {
            "startup": false,
            "wait_interval": 0
          },
          "base_uri": "https://localhost:8080/",
          "height": 1968
        },
        "outputId": "31eeb273-99a9-4399-e83e-56539263476a",
        "executionInfo": {
          "status": "error",
          "timestamp": 1533418402825,
          "user_tz": -420,
          "elapsed": 641,
          "user": {
            "displayName": "lutfi adam",
            "photoUrl": "//lh4.googleusercontent.com/-v_uCuC_CMtI/AAAAAAAAAAI/AAAAAAAAAHw/oRDqji7y32Y/s50-c-k-no/photo.jpg",
            "userId": "110769470108785662190"
          }
        }
      },
      "cell_type": "code",
      "source": [
        "#example model\n",
        "    model = Sequential()\n",
        "    model.add(Conv2D(32, (3, 3), padding='same', activation='relu', input_shape=(32,32,3)))\n",
        "    model.add(Conv2D(32, (3, 3), activation='relu'))\n",
        "    model.add(MaxPooling2D(pool_size=(3, 3)))\n",
        "    model.add(Dropout(0.25))\n",
        " \n",
        "    model.add(Conv2D(64, (3, 3)))\n",
        "    model.add(Conv2D(64, (3, 3), activation='relu'))\n",
        "    model.add(MaxPooling2D(pool_size=(3, 3)))\n",
        "    model.add(Dropout(0.25))\n",
        " \n",
        "    model.add(Conv2D(128, (3, 3)))\n",
        "    model.add(Conv2D(64, (3, 3), activation='relu'))\n",
        "    model.add(MaxPooling2D(pool_size=(2, 2)))\n",
        "    model.add(Dropout(0.25))\n",
        " \n",
        "    model.add(Flatten())\n",
        "    model.add(Dense(512, activation='relu'))\n",
        "    model.add(Dropout(0.5))\n",
        "    model.add(Dense(nClasses, activation='softmax'))\n",
        "     \n",
        "    return model"
      ],
      "execution_count": 0,
      "outputs": [
        {
          "output_type": "error",
          "ename": "ValueError",
          "evalue": "ignored",
          "traceback": [
            "\u001b[0;31m---------------------------------------------------------------------------\u001b[0m",
            "\u001b[0;31mInvalidArgumentError\u001b[0m                      Traceback (most recent call last)",
            "\u001b[0;32m/usr/local/lib/python3.6/dist-packages/tensorflow/python/framework/ops.py\u001b[0m in \u001b[0;36m_create_c_op\u001b[0;34m(graph, node_def, inputs, control_inputs)\u001b[0m\n\u001b[1;32m   1588\u001b[0m   \u001b[0;32mtry\u001b[0m\u001b[0;34m:\u001b[0m\u001b[0;34m\u001b[0m\u001b[0m\n\u001b[0;32m-> 1589\u001b[0;31m     \u001b[0mc_op\u001b[0m \u001b[0;34m=\u001b[0m \u001b[0mc_api\u001b[0m\u001b[0;34m.\u001b[0m\u001b[0mTF_FinishOperation\u001b[0m\u001b[0;34m(\u001b[0m\u001b[0mop_desc\u001b[0m\u001b[0;34m)\u001b[0m\u001b[0;34m\u001b[0m\u001b[0m\n\u001b[0m\u001b[1;32m   1590\u001b[0m   \u001b[0;32mexcept\u001b[0m \u001b[0merrors\u001b[0m\u001b[0;34m.\u001b[0m\u001b[0mInvalidArgumentError\u001b[0m \u001b[0;32mas\u001b[0m \u001b[0me\u001b[0m\u001b[0;34m:\u001b[0m\u001b[0;34m\u001b[0m\u001b[0m\n",
            "\u001b[0;31mInvalidArgumentError\u001b[0m: Negative dimension size caused by subtracting 3 from 2 for 'conv2d_41/convolution' (op: 'Conv2D') with input shapes: [?,2,2,64], [3,3,64,128].",
            "\nDuring handling of the above exception, another exception occurred:\n",
            "\u001b[0;31mValueError\u001b[0m                                Traceback (most recent call last)",
            "\u001b[0;32m<ipython-input-38-a313aa0c484e>\u001b[0m in \u001b[0;36m<module>\u001b[0;34m()\u001b[0m\n\u001b[1;32m     10\u001b[0m \u001b[0mmodel\u001b[0m\u001b[0;34m.\u001b[0m\u001b[0madd\u001b[0m\u001b[0;34m(\u001b[0m\u001b[0mDropout\u001b[0m\u001b[0;34m(\u001b[0m\u001b[0;36m0.25\u001b[0m\u001b[0;34m)\u001b[0m\u001b[0;34m)\u001b[0m\u001b[0;34m\u001b[0m\u001b[0m\n\u001b[1;32m     11\u001b[0m \u001b[0;34m\u001b[0m\u001b[0m\n\u001b[0;32m---> 12\u001b[0;31m \u001b[0mmodel\u001b[0m\u001b[0;34m.\u001b[0m\u001b[0madd\u001b[0m\u001b[0;34m(\u001b[0m\u001b[0mConv2D\u001b[0m\u001b[0;34m(\u001b[0m\u001b[0;36m128\u001b[0m\u001b[0;34m,\u001b[0m \u001b[0;34m(\u001b[0m\u001b[0;36m3\u001b[0m\u001b[0;34m,\u001b[0m \u001b[0;36m3\u001b[0m\u001b[0;34m)\u001b[0m\u001b[0;34m)\u001b[0m\u001b[0;34m)\u001b[0m\u001b[0;34m\u001b[0m\u001b[0m\n\u001b[0m\u001b[1;32m     13\u001b[0m \u001b[0mmodel\u001b[0m\u001b[0;34m.\u001b[0m\u001b[0madd\u001b[0m\u001b[0;34m(\u001b[0m\u001b[0mConv2D\u001b[0m\u001b[0;34m(\u001b[0m\u001b[0;36m64\u001b[0m\u001b[0;34m,\u001b[0m \u001b[0;34m(\u001b[0m\u001b[0;36m3\u001b[0m\u001b[0;34m,\u001b[0m \u001b[0;36m3\u001b[0m\u001b[0;34m)\u001b[0m\u001b[0;34m,\u001b[0m \u001b[0mactivation\u001b[0m\u001b[0;34m=\u001b[0m\u001b[0;34m'relu'\u001b[0m\u001b[0;34m)\u001b[0m\u001b[0;34m)\u001b[0m\u001b[0;34m\u001b[0m\u001b[0m\n\u001b[1;32m     14\u001b[0m \u001b[0mmodel\u001b[0m\u001b[0;34m.\u001b[0m\u001b[0madd\u001b[0m\u001b[0;34m(\u001b[0m\u001b[0mMaxPooling2D\u001b[0m\u001b[0;34m(\u001b[0m\u001b[0mpool_size\u001b[0m\u001b[0;34m=\u001b[0m\u001b[0;34m(\u001b[0m\u001b[0;36m2\u001b[0m\u001b[0;34m,\u001b[0m \u001b[0;36m2\u001b[0m\u001b[0;34m)\u001b[0m\u001b[0;34m)\u001b[0m\u001b[0;34m)\u001b[0m\u001b[0;34m\u001b[0m\u001b[0m\n",
            "\u001b[0;32m/usr/local/lib/python3.6/dist-packages/keras/models.py\u001b[0m in \u001b[0;36madd\u001b[0;34m(self, layer)\u001b[0m\n\u001b[1;32m    520\u001b[0m                           output_shapes=[self.outputs[0]._keras_shape])\n\u001b[1;32m    521\u001b[0m         \u001b[0;32melse\u001b[0m\u001b[0;34m:\u001b[0m\u001b[0;34m\u001b[0m\u001b[0m\n\u001b[0;32m--> 522\u001b[0;31m             \u001b[0moutput_tensor\u001b[0m \u001b[0;34m=\u001b[0m \u001b[0mlayer\u001b[0m\u001b[0;34m(\u001b[0m\u001b[0mself\u001b[0m\u001b[0;34m.\u001b[0m\u001b[0moutputs\u001b[0m\u001b[0;34m[\u001b[0m\u001b[0;36m0\u001b[0m\u001b[0;34m]\u001b[0m\u001b[0;34m)\u001b[0m\u001b[0;34m\u001b[0m\u001b[0m\n\u001b[0m\u001b[1;32m    523\u001b[0m             \u001b[0;32mif\u001b[0m \u001b[0misinstance\u001b[0m\u001b[0;34m(\u001b[0m\u001b[0moutput_tensor\u001b[0m\u001b[0;34m,\u001b[0m \u001b[0mlist\u001b[0m\u001b[0;34m)\u001b[0m\u001b[0;34m:\u001b[0m\u001b[0;34m\u001b[0m\u001b[0m\n\u001b[1;32m    524\u001b[0m                 raise TypeError('All layers in a Sequential model '\n",
            "\u001b[0;32m/usr/local/lib/python3.6/dist-packages/keras/engine/topology.py\u001b[0m in \u001b[0;36m__call__\u001b[0;34m(self, inputs, **kwargs)\u001b[0m\n\u001b[1;32m    617\u001b[0m \u001b[0;34m\u001b[0m\u001b[0m\n\u001b[1;32m    618\u001b[0m             \u001b[0;31m# Actually call the layer, collecting output(s), mask(s), and shape(s).\u001b[0m\u001b[0;34m\u001b[0m\u001b[0;34m\u001b[0m\u001b[0m\n\u001b[0;32m--> 619\u001b[0;31m             \u001b[0moutput\u001b[0m \u001b[0;34m=\u001b[0m \u001b[0mself\u001b[0m\u001b[0;34m.\u001b[0m\u001b[0mcall\u001b[0m\u001b[0;34m(\u001b[0m\u001b[0minputs\u001b[0m\u001b[0;34m,\u001b[0m \u001b[0;34m**\u001b[0m\u001b[0mkwargs\u001b[0m\u001b[0;34m)\u001b[0m\u001b[0;34m\u001b[0m\u001b[0m\n\u001b[0m\u001b[1;32m    620\u001b[0m             \u001b[0moutput_mask\u001b[0m \u001b[0;34m=\u001b[0m \u001b[0mself\u001b[0m\u001b[0;34m.\u001b[0m\u001b[0mcompute_mask\u001b[0m\u001b[0;34m(\u001b[0m\u001b[0minputs\u001b[0m\u001b[0;34m,\u001b[0m \u001b[0mprevious_mask\u001b[0m\u001b[0;34m)\u001b[0m\u001b[0;34m\u001b[0m\u001b[0m\n\u001b[1;32m    621\u001b[0m \u001b[0;34m\u001b[0m\u001b[0m\n",
            "\u001b[0;32m/usr/local/lib/python3.6/dist-packages/keras/layers/convolutional.py\u001b[0m in \u001b[0;36mcall\u001b[0;34m(self, inputs)\u001b[0m\n\u001b[1;32m    166\u001b[0m                 \u001b[0mpadding\u001b[0m\u001b[0;34m=\u001b[0m\u001b[0mself\u001b[0m\u001b[0;34m.\u001b[0m\u001b[0mpadding\u001b[0m\u001b[0;34m,\u001b[0m\u001b[0;34m\u001b[0m\u001b[0m\n\u001b[1;32m    167\u001b[0m                 \u001b[0mdata_format\u001b[0m\u001b[0;34m=\u001b[0m\u001b[0mself\u001b[0m\u001b[0;34m.\u001b[0m\u001b[0mdata_format\u001b[0m\u001b[0;34m,\u001b[0m\u001b[0;34m\u001b[0m\u001b[0m\n\u001b[0;32m--> 168\u001b[0;31m                 dilation_rate=self.dilation_rate)\n\u001b[0m\u001b[1;32m    169\u001b[0m         \u001b[0;32mif\u001b[0m \u001b[0mself\u001b[0m\u001b[0;34m.\u001b[0m\u001b[0mrank\u001b[0m \u001b[0;34m==\u001b[0m \u001b[0;36m3\u001b[0m\u001b[0;34m:\u001b[0m\u001b[0;34m\u001b[0m\u001b[0m\n\u001b[1;32m    170\u001b[0m             outputs = K.conv3d(\n",
            "\u001b[0;32m/usr/local/lib/python3.6/dist-packages/keras/backend/tensorflow_backend.py\u001b[0m in \u001b[0;36mconv2d\u001b[0;34m(x, kernel, strides, padding, data_format, dilation_rate)\u001b[0m\n\u001b[1;32m   3339\u001b[0m         \u001b[0mstrides\u001b[0m\u001b[0;34m=\u001b[0m\u001b[0mstrides\u001b[0m\u001b[0;34m,\u001b[0m\u001b[0;34m\u001b[0m\u001b[0m\n\u001b[1;32m   3340\u001b[0m         \u001b[0mpadding\u001b[0m\u001b[0;34m=\u001b[0m\u001b[0mpadding\u001b[0m\u001b[0;34m,\u001b[0m\u001b[0;34m\u001b[0m\u001b[0m\n\u001b[0;32m-> 3341\u001b[0;31m         data_format=tf_data_format)\n\u001b[0m\u001b[1;32m   3342\u001b[0m \u001b[0;34m\u001b[0m\u001b[0m\n\u001b[1;32m   3343\u001b[0m     \u001b[0;32mif\u001b[0m \u001b[0mdata_format\u001b[0m \u001b[0;34m==\u001b[0m \u001b[0;34m'channels_first'\u001b[0m \u001b[0;32mand\u001b[0m \u001b[0mtf_data_format\u001b[0m \u001b[0;34m==\u001b[0m \u001b[0;34m'NHWC'\u001b[0m\u001b[0;34m:\u001b[0m\u001b[0;34m\u001b[0m\u001b[0m\n",
            "\u001b[0;32m/usr/local/lib/python3.6/dist-packages/tensorflow/python/ops/nn_ops.py\u001b[0m in \u001b[0;36mconvolution\u001b[0;34m(input, filter, padding, strides, dilation_rate, name, data_format)\u001b[0m\n\u001b[1;32m    778\u001b[0m         \u001b[0mname\u001b[0m\u001b[0;34m=\u001b[0m\u001b[0mname\u001b[0m\u001b[0;34m,\u001b[0m\u001b[0;34m\u001b[0m\u001b[0m\n\u001b[1;32m    779\u001b[0m         data_format=data_format)\n\u001b[0;32m--> 780\u001b[0;31m     \u001b[0;32mreturn\u001b[0m \u001b[0mop\u001b[0m\u001b[0;34m(\u001b[0m\u001b[0minput\u001b[0m\u001b[0;34m,\u001b[0m \u001b[0mfilter\u001b[0m\u001b[0;34m)\u001b[0m\u001b[0;34m\u001b[0m\u001b[0m\n\u001b[0m\u001b[1;32m    781\u001b[0m \u001b[0;34m\u001b[0m\u001b[0m\n\u001b[1;32m    782\u001b[0m \u001b[0;34m\u001b[0m\u001b[0m\n",
            "\u001b[0;32m/usr/local/lib/python3.6/dist-packages/tensorflow/python/ops/nn_ops.py\u001b[0m in \u001b[0;36m__call__\u001b[0;34m(self, inp, filter)\u001b[0m\n\u001b[1;32m    866\u001b[0m \u001b[0;34m\u001b[0m\u001b[0m\n\u001b[1;32m    867\u001b[0m   \u001b[0;32mdef\u001b[0m \u001b[0m__call__\u001b[0m\u001b[0;34m(\u001b[0m\u001b[0mself\u001b[0m\u001b[0;34m,\u001b[0m \u001b[0minp\u001b[0m\u001b[0;34m,\u001b[0m \u001b[0mfilter\u001b[0m\u001b[0;34m)\u001b[0m\u001b[0;34m:\u001b[0m  \u001b[0;31m# pylint: disable=redefined-builtin\u001b[0m\u001b[0;34m\u001b[0m\u001b[0m\n\u001b[0;32m--> 868\u001b[0;31m     \u001b[0;32mreturn\u001b[0m \u001b[0mself\u001b[0m\u001b[0;34m.\u001b[0m\u001b[0mconv_op\u001b[0m\u001b[0;34m(\u001b[0m\u001b[0minp\u001b[0m\u001b[0;34m,\u001b[0m \u001b[0mfilter\u001b[0m\u001b[0;34m)\u001b[0m\u001b[0;34m\u001b[0m\u001b[0m\n\u001b[0m\u001b[1;32m    869\u001b[0m \u001b[0;34m\u001b[0m\u001b[0m\n\u001b[1;32m    870\u001b[0m \u001b[0;34m\u001b[0m\u001b[0m\n",
            "\u001b[0;32m/usr/local/lib/python3.6/dist-packages/tensorflow/python/ops/nn_ops.py\u001b[0m in \u001b[0;36m__call__\u001b[0;34m(self, inp, filter)\u001b[0m\n\u001b[1;32m    518\u001b[0m \u001b[0;34m\u001b[0m\u001b[0m\n\u001b[1;32m    519\u001b[0m   \u001b[0;32mdef\u001b[0m \u001b[0m__call__\u001b[0m\u001b[0;34m(\u001b[0m\u001b[0mself\u001b[0m\u001b[0;34m,\u001b[0m \u001b[0minp\u001b[0m\u001b[0;34m,\u001b[0m \u001b[0mfilter\u001b[0m\u001b[0;34m)\u001b[0m\u001b[0;34m:\u001b[0m  \u001b[0;31m# pylint: disable=redefined-builtin\u001b[0m\u001b[0;34m\u001b[0m\u001b[0m\n\u001b[0;32m--> 520\u001b[0;31m     \u001b[0;32mreturn\u001b[0m \u001b[0mself\u001b[0m\u001b[0;34m.\u001b[0m\u001b[0mcall\u001b[0m\u001b[0;34m(\u001b[0m\u001b[0minp\u001b[0m\u001b[0;34m,\u001b[0m \u001b[0mfilter\u001b[0m\u001b[0;34m)\u001b[0m\u001b[0;34m\u001b[0m\u001b[0m\n\u001b[0m\u001b[1;32m    521\u001b[0m \u001b[0;34m\u001b[0m\u001b[0m\n\u001b[1;32m    522\u001b[0m \u001b[0;34m\u001b[0m\u001b[0m\n",
            "\u001b[0;32m/usr/local/lib/python3.6/dist-packages/tensorflow/python/ops/nn_ops.py\u001b[0m in \u001b[0;36m__call__\u001b[0;34m(self, inp, filter)\u001b[0m\n\u001b[1;32m    202\u001b[0m         \u001b[0mpadding\u001b[0m\u001b[0;34m=\u001b[0m\u001b[0mself\u001b[0m\u001b[0;34m.\u001b[0m\u001b[0mpadding\u001b[0m\u001b[0;34m,\u001b[0m\u001b[0;34m\u001b[0m\u001b[0m\n\u001b[1;32m    203\u001b[0m         \u001b[0mdata_format\u001b[0m\u001b[0;34m=\u001b[0m\u001b[0mself\u001b[0m\u001b[0;34m.\u001b[0m\u001b[0mdata_format\u001b[0m\u001b[0;34m,\u001b[0m\u001b[0;34m\u001b[0m\u001b[0m\n\u001b[0;32m--> 204\u001b[0;31m         name=self.name)\n\u001b[0m\u001b[1;32m    205\u001b[0m \u001b[0;34m\u001b[0m\u001b[0m\n\u001b[1;32m    206\u001b[0m \u001b[0;34m\u001b[0m\u001b[0m\n",
            "\u001b[0;32m/usr/local/lib/python3.6/dist-packages/tensorflow/python/ops/gen_nn_ops.py\u001b[0m in \u001b[0;36mconv2d\u001b[0;34m(input, filter, strides, padding, use_cudnn_on_gpu, data_format, dilations, name)\u001b[0m\n\u001b[1;32m    954\u001b[0m         \u001b[0;34m\"Conv2D\"\u001b[0m\u001b[0;34m,\u001b[0m \u001b[0minput\u001b[0m\u001b[0;34m=\u001b[0m\u001b[0minput\u001b[0m\u001b[0;34m,\u001b[0m \u001b[0mfilter\u001b[0m\u001b[0;34m=\u001b[0m\u001b[0mfilter\u001b[0m\u001b[0;34m,\u001b[0m \u001b[0mstrides\u001b[0m\u001b[0;34m=\u001b[0m\u001b[0mstrides\u001b[0m\u001b[0;34m,\u001b[0m\u001b[0;34m\u001b[0m\u001b[0m\n\u001b[1;32m    955\u001b[0m         \u001b[0mpadding\u001b[0m\u001b[0;34m=\u001b[0m\u001b[0mpadding\u001b[0m\u001b[0;34m,\u001b[0m \u001b[0muse_cudnn_on_gpu\u001b[0m\u001b[0;34m=\u001b[0m\u001b[0muse_cudnn_on_gpu\u001b[0m\u001b[0;34m,\u001b[0m\u001b[0;34m\u001b[0m\u001b[0m\n\u001b[0;32m--> 956\u001b[0;31m         data_format=data_format, dilations=dilations, name=name)\n\u001b[0m\u001b[1;32m    957\u001b[0m     \u001b[0m_result\u001b[0m \u001b[0;34m=\u001b[0m \u001b[0m_op\u001b[0m\u001b[0;34m.\u001b[0m\u001b[0moutputs\u001b[0m\u001b[0;34m[\u001b[0m\u001b[0;34m:\u001b[0m\u001b[0;34m]\u001b[0m\u001b[0;34m\u001b[0m\u001b[0m\n\u001b[1;32m    958\u001b[0m     \u001b[0m_inputs_flat\u001b[0m \u001b[0;34m=\u001b[0m \u001b[0m_op\u001b[0m\u001b[0;34m.\u001b[0m\u001b[0minputs\u001b[0m\u001b[0;34m\u001b[0m\u001b[0m\n",
            "\u001b[0;32m/usr/local/lib/python3.6/dist-packages/tensorflow/python/framework/op_def_library.py\u001b[0m in \u001b[0;36m_apply_op_helper\u001b[0;34m(self, op_type_name, name, **keywords)\u001b[0m\n\u001b[1;32m    785\u001b[0m         op = g.create_op(op_type_name, inputs, output_types, name=scope,\n\u001b[1;32m    786\u001b[0m                          \u001b[0minput_types\u001b[0m\u001b[0;34m=\u001b[0m\u001b[0minput_types\u001b[0m\u001b[0;34m,\u001b[0m \u001b[0mattrs\u001b[0m\u001b[0;34m=\u001b[0m\u001b[0mattr_protos\u001b[0m\u001b[0;34m,\u001b[0m\u001b[0;34m\u001b[0m\u001b[0m\n\u001b[0;32m--> 787\u001b[0;31m                          op_def=op_def)\n\u001b[0m\u001b[1;32m    788\u001b[0m       \u001b[0;32mreturn\u001b[0m \u001b[0moutput_structure\u001b[0m\u001b[0;34m,\u001b[0m \u001b[0mop_def\u001b[0m\u001b[0;34m.\u001b[0m\u001b[0mis_stateful\u001b[0m\u001b[0;34m,\u001b[0m \u001b[0mop\u001b[0m\u001b[0;34m\u001b[0m\u001b[0m\n\u001b[1;32m    789\u001b[0m \u001b[0;34m\u001b[0m\u001b[0m\n",
            "\u001b[0;32m/usr/local/lib/python3.6/dist-packages/tensorflow/python/framework/ops.py\u001b[0m in \u001b[0;36mcreate_op\u001b[0;34m(self, op_type, inputs, dtypes, input_types, name, attrs, op_def, compute_shapes, compute_device)\u001b[0m\n\u001b[1;32m   3412\u001b[0m           \u001b[0minput_types\u001b[0m\u001b[0;34m=\u001b[0m\u001b[0minput_types\u001b[0m\u001b[0;34m,\u001b[0m\u001b[0;34m\u001b[0m\u001b[0m\n\u001b[1;32m   3413\u001b[0m           \u001b[0moriginal_op\u001b[0m\u001b[0;34m=\u001b[0m\u001b[0mself\u001b[0m\u001b[0;34m.\u001b[0m\u001b[0m_default_original_op\u001b[0m\u001b[0;34m,\u001b[0m\u001b[0;34m\u001b[0m\u001b[0m\n\u001b[0;32m-> 3414\u001b[0;31m           op_def=op_def)\n\u001b[0m\u001b[1;32m   3415\u001b[0m \u001b[0;34m\u001b[0m\u001b[0m\n\u001b[1;32m   3416\u001b[0m       \u001b[0;31m# Note: shapes are lazily computed with the C API enabled.\u001b[0m\u001b[0;34m\u001b[0m\u001b[0;34m\u001b[0m\u001b[0m\n",
            "\u001b[0;32m/usr/local/lib/python3.6/dist-packages/tensorflow/python/framework/ops.py\u001b[0m in \u001b[0;36m__init__\u001b[0;34m(self, node_def, g, inputs, output_types, control_inputs, input_types, original_op, op_def)\u001b[0m\n\u001b[1;32m   1754\u001b[0m           op_def, inputs, node_def.attr)\n\u001b[1;32m   1755\u001b[0m       self._c_op = _create_c_op(self._graph, node_def, grouped_inputs,\n\u001b[0;32m-> 1756\u001b[0;31m                                 control_input_ops)\n\u001b[0m\u001b[1;32m   1757\u001b[0m     \u001b[0;32melse\u001b[0m\u001b[0;34m:\u001b[0m\u001b[0;34m\u001b[0m\u001b[0m\n\u001b[1;32m   1758\u001b[0m       \u001b[0mself\u001b[0m\u001b[0;34m.\u001b[0m\u001b[0m_c_op\u001b[0m \u001b[0;34m=\u001b[0m \u001b[0;32mNone\u001b[0m\u001b[0;34m\u001b[0m\u001b[0m\n",
            "\u001b[0;32m/usr/local/lib/python3.6/dist-packages/tensorflow/python/framework/ops.py\u001b[0m in \u001b[0;36m_create_c_op\u001b[0;34m(graph, node_def, inputs, control_inputs)\u001b[0m\n\u001b[1;32m   1590\u001b[0m   \u001b[0;32mexcept\u001b[0m \u001b[0merrors\u001b[0m\u001b[0;34m.\u001b[0m\u001b[0mInvalidArgumentError\u001b[0m \u001b[0;32mas\u001b[0m \u001b[0me\u001b[0m\u001b[0;34m:\u001b[0m\u001b[0;34m\u001b[0m\u001b[0m\n\u001b[1;32m   1591\u001b[0m     \u001b[0;31m# Convert to ValueError for backwards compatibility.\u001b[0m\u001b[0;34m\u001b[0m\u001b[0;34m\u001b[0m\u001b[0m\n\u001b[0;32m-> 1592\u001b[0;31m     \u001b[0;32mraise\u001b[0m \u001b[0mValueError\u001b[0m\u001b[0;34m(\u001b[0m\u001b[0mstr\u001b[0m\u001b[0;34m(\u001b[0m\u001b[0me\u001b[0m\u001b[0;34m)\u001b[0m\u001b[0;34m)\u001b[0m\u001b[0;34m\u001b[0m\u001b[0m\n\u001b[0m\u001b[1;32m   1593\u001b[0m \u001b[0;34m\u001b[0m\u001b[0m\n\u001b[1;32m   1594\u001b[0m   \u001b[0;32mreturn\u001b[0m \u001b[0mc_op\u001b[0m\u001b[0;34m\u001b[0m\u001b[0m\n",
            "\u001b[0;31mValueError\u001b[0m: Negative dimension size caused by subtracting 3 from 2 for 'conv2d_41/convolution' (op: 'Conv2D') with input shapes: [?,2,2,64], [3,3,64,128]."
          ]
        }
      ]
    },
    {
      "metadata": {
        "id": "6h19RI3Fafbv",
        "colab_type": "code",
        "colab": {
          "autoexec": {
            "startup": false,
            "wait_interval": 0
          }
        },
        "outputId": "abf0d8e9-66f8-46cb-ddf2-82f88bf68cf4"
      },
      "cell_type": "code",
      "source": [
        " createModel.summary()"
      ],
      "execution_count": 0,
      "outputs": [
        {
          "output_type": "error",
          "ename": "AttributeError",
          "evalue": "'function' object has no attribute 'summary'",
          "traceback": [
            "\u001b[1;31m---------------------------------------------------------------------------\u001b[0m",
            "\u001b[1;31mAttributeError\u001b[0m                            Traceback (most recent call last)",
            "\u001b[1;32m<ipython-input-17-11eaa47d6375>\u001b[0m in \u001b[0;36m<module>\u001b[1;34m()\u001b[0m\n\u001b[1;32m----> 1\u001b[1;33m \u001b[0mcreateModel\u001b[0m\u001b[1;33m.\u001b[0m\u001b[0msummary\u001b[0m\u001b[1;33m(\u001b[0m\u001b[1;33m)\u001b[0m\u001b[1;33m\u001b[0m\u001b[0m\n\u001b[0m",
            "\u001b[1;31mAttributeError\u001b[0m: 'function' object has no attribute 'summary'"
          ]
        }
      ]
    },
    {
      "metadata": {
        "id": "orHUnsVyafb9",
        "colab_type": "code",
        "colab": {
          "autoexec": {
            "startup": false,
            "wait_interval": 0
          }
        }
      },
      "cell_type": "code",
      "source": [
        "def model3() :\n",
        "    model = Sequential()\n",
        "# Must define the input shape in the first layer of the neural network\n",
        "    model.add(Conv2D(filters=64, kernel_size=2, padding='same', activation='relu', input_shape=(28,28,1))) \n",
        "    model.add(MaxPooling2D(pool_size=(2, 3)))\n",
        "    model.add(Dropout(0.3))\n",
        "    \n",
        "    model.add(Conv2D(filters=32, kernel_size=2, padding='same', activation='relu'))\n",
        "    model.add(MaxPooling2D(pool_size=(2, 3)))\n",
        "    model.add(Dropout(0.3))\n",
        "    \n",
        "    model.add(Conv2D(filters=32, kernel_size=2, padding='same', activation='relu'))\n",
        "    model.add(MaxPooling2D(pool_size=(2, 3)))\n",
        "    model.add(Dropout(0.3))\n",
        "    \n",
        "    model.add(Flatten())\n",
        "    model.add(Dense(256, activation='relu'))\n",
        "    model.add(Dropout(0.5))\n",
        "    model.add(Dense(10, activation='softmax'))\n",
        "    # Take a look at the model summary\n",
        "    return model\n",
        "    summary()"
      ],
      "execution_count": 0,
      "outputs": []
    },
    {
      "metadata": {
        "id": "43zIsydjafcP",
        "colab_type": "code",
        "colab": {
          "autoexec": {
            "startup": false,
            "wait_interval": 0
          }
        },
        "outputId": "12faf0b5-3e92-4705-f8ec-73c0aae9d2be"
      },
      "cell_type": "code",
      "source": [
        "model = Sequential()\n",
        "# first set of CONV => RELU => POOL layers\n",
        "model.add(Conv2D(20, (3, 3), padding=\"same\", Activation(\"relu\"), input_shape=(160,160,3))\n",
        "model.add(MaxPooling2D(pool_size=(3, 3), strides=(2, 2)))\n",
        "\n",
        "# second set of CONV => RELU => POOL layers\n",
        "model.add(Conv2D(50, (3, 3), padding=\"same\", Activation(\"relu\")))\n",
        "model.add(MaxPooling2D(pool_size=(2, 2), strides=(2, 2)))\n",
        "\n",
        "# first (and only) set of FC => RELU layers\n",
        "model.add(Flatten())\n",
        "model.add(Dense(500))\n",
        "model.add(Activation(\"relu\"))\n",
        " \n",
        "# softmax classifier\n",
        "model.add(Dense(classes))\n",
        "model.add(Activation(\"softmax\"))\n",
        " \n",
        "# return the constructed network architecture\n",
        "return model"
      ],
      "execution_count": 0,
      "outputs": [
        {
          "output_type": "error",
          "ename": "SyntaxError",
          "evalue": "invalid syntax (<ipython-input-40-5818a51be1a8>, line 4)",
          "traceback": [
            "\u001b[1;36m  File \u001b[1;32m\"<ipython-input-40-5818a51be1a8>\"\u001b[1;36m, line \u001b[1;32m4\u001b[0m\n\u001b[1;33m    model.add(MaxPooling2D(pool_size=(3, 3), strides=(2, 2)))\u001b[0m\n\u001b[1;37m        ^\u001b[0m\n\u001b[1;31mSyntaxError\u001b[0m\u001b[1;31m:\u001b[0m invalid syntax\n"
          ]
        }
      ]
    },
    {
      "metadata": {
        "id": "Xy49IAs0afca",
        "colab_type": "code",
        "colab": {
          "autoexec": {
            "startup": false,
            "wait_interval": 0
          }
        }
      },
      "cell_type": "code",
      "source": [
        ""
      ],
      "execution_count": 0,
      "outputs": []
    },
    {
      "metadata": {
        "id": "7P-n8f8Oafcj",
        "colab_type": "code",
        "colab": {
          "autoexec": {
            "startup": false,
            "wait_interval": 0
          }
        },
        "outputId": "1dd1e852-09a4-414d-d502-dc3ea005dc06"
      },
      "cell_type": "code",
      "source": [
        "# Initialising the CNN\n",
        "classifier = Sequential()\n",
        "# Step 1 - Convolution\n",
        "classifier.add(Conv2D(32, (3, 3), input_shape = (64, 64, 3), activation = 'relu'))\n",
        "# Step 2 - Pooling\n",
        "classifier.add(MaxPooling2D(pool_size = (2, 2)))\n",
        "# Adding a second convolutional layer\n",
        "classifier.add(Conv2D(32, (3, 3), activation = 'relu'))\n",
        "classifier.add(MaxPooling2D(pool_size = (2, 2)))\n",
        "# Step 3 - Flattening\n",
        "classifier.add(Flatten())\n",
        "# Step 4 - Full connection\n",
        "classifier.add(Dense(units = 128, activation = 'relu'))\n",
        "classifier.add(Dense(units = 1, activation = 'sigmoid'))\n",
        "# Compiling the CNN\n",
        "classifier.compile(optimizer = 'adam', loss = 'binary_crossentropy', metrics = ['accuracy'])\n",
        "\n",
        "classifier.summary()"
      ],
      "execution_count": 0,
      "outputs": [
        {
          "output_type": "stream",
          "text": [
            "_________________________________________________________________\n",
            "Layer (type)                 Output Shape              Param #   \n",
            "=================================================================\n",
            "conv2d_6 (Conv2D)            (None, 62, 62, 32)        896       \n",
            "_________________________________________________________________\n",
            "max_pooling2d_6 (MaxPooling2 (None, 31, 31, 32)        0         \n",
            "_________________________________________________________________\n",
            "conv2d_7 (Conv2D)            (None, 29, 29, 32)        9248      \n",
            "_________________________________________________________________\n",
            "max_pooling2d_7 (MaxPooling2 (None, 14, 14, 32)        0         \n",
            "_________________________________________________________________\n",
            "flatten_3 (Flatten)          (None, 6272)              0         \n",
            "_________________________________________________________________\n",
            "dense_5 (Dense)              (None, 128)               802944    \n",
            "_________________________________________________________________\n",
            "dense_6 (Dense)              (None, 1)                 129       \n",
            "=================================================================\n",
            "Total params: 813,217\n",
            "Trainable params: 813,217\n",
            "Non-trainable params: 0\n",
            "_________________________________________________________________\n"
          ],
          "name": "stdout"
        }
      ]
    },
    {
      "metadata": {
        "id": "KYs6z8atafcz",
        "colab_type": "code",
        "colab": {
          "autoexec": {
            "startup": false,
            "wait_interval": 0
          },
          "base_uri": "https://localhost:8080/",
          "height": 659
        },
        "outputId": "05e4e982-1fa2-4cd6-891c-71084e871f19",
        "executionInfo": {
          "status": "error",
          "timestamp": 1533656908313,
          "user_tz": -420,
          "elapsed": 746,
          "user": {
            "displayName": "lutfi adam",
            "photoUrl": "//lh4.googleusercontent.com/-v_uCuC_CMtI/AAAAAAAAAAI/AAAAAAAAAHw/oRDqji7y32Y/s50-c-k-no/photo.jpg",
            "userId": "110769470108785662190"
          }
        }
      },
      "cell_type": "code",
      "source": [
        "scores = model.evaluate(x=Img, y=labels, verbose=0)"
      ],
      "execution_count": 29,
      "outputs": [
        {
          "output_type": "error",
          "ename": "ValueError",
          "evalue": "ignored",
          "traceback": [
            "\u001b[0;31m---------------------------------------------------------------------------\u001b[0m",
            "\u001b[0;31mValueError\u001b[0m                                Traceback (most recent call last)",
            "\u001b[0;32m<ipython-input-29-78ffb59d258a>\u001b[0m in \u001b[0;36m<module>\u001b[0;34m()\u001b[0m\n\u001b[0;32m----> 1\u001b[0;31m \u001b[0mscores\u001b[0m \u001b[0;34m=\u001b[0m \u001b[0mmodel\u001b[0m\u001b[0;34m.\u001b[0m\u001b[0mevaluate\u001b[0m\u001b[0;34m(\u001b[0m\u001b[0mx\u001b[0m\u001b[0;34m=\u001b[0m\u001b[0mImg\u001b[0m\u001b[0;34m,\u001b[0m \u001b[0my\u001b[0m\u001b[0;34m=\u001b[0m\u001b[0mlabels\u001b[0m\u001b[0;34m,\u001b[0m \u001b[0mverbose\u001b[0m\u001b[0;34m=\u001b[0m\u001b[0;36m0\u001b[0m\u001b[0;34m)\u001b[0m\u001b[0;34m\u001b[0m\u001b[0m\n\u001b[0m",
            "\u001b[0;32m/usr/local/lib/python3.6/dist-packages/keras/models.py\u001b[0m in \u001b[0;36mevaluate\u001b[0;34m(self, x, y, batch_size, verbose, sample_weight, steps)\u001b[0m\n\u001b[1;32m   1041\u001b[0m                                    \u001b[0mverbose\u001b[0m\u001b[0;34m=\u001b[0m\u001b[0mverbose\u001b[0m\u001b[0;34m,\u001b[0m\u001b[0;34m\u001b[0m\u001b[0m\n\u001b[1;32m   1042\u001b[0m                                    \u001b[0msample_weight\u001b[0m\u001b[0;34m=\u001b[0m\u001b[0msample_weight\u001b[0m\u001b[0;34m,\u001b[0m\u001b[0;34m\u001b[0m\u001b[0m\n\u001b[0;32m-> 1043\u001b[0;31m                                    steps=steps)\n\u001b[0m\u001b[1;32m   1044\u001b[0m \u001b[0;34m\u001b[0m\u001b[0m\n\u001b[1;32m   1045\u001b[0m     \u001b[0;32mdef\u001b[0m \u001b[0mpredict\u001b[0m\u001b[0;34m(\u001b[0m\u001b[0mself\u001b[0m\u001b[0;34m,\u001b[0m \u001b[0mx\u001b[0m\u001b[0;34m,\u001b[0m \u001b[0mbatch_size\u001b[0m\u001b[0;34m=\u001b[0m\u001b[0;32mNone\u001b[0m\u001b[0;34m,\u001b[0m \u001b[0mverbose\u001b[0m\u001b[0;34m=\u001b[0m\u001b[0;36m0\u001b[0m\u001b[0;34m,\u001b[0m \u001b[0msteps\u001b[0m\u001b[0;34m=\u001b[0m\u001b[0;32mNone\u001b[0m\u001b[0;34m)\u001b[0m\u001b[0;34m:\u001b[0m\u001b[0;34m\u001b[0m\u001b[0m\n",
            "\u001b[0;32m/usr/local/lib/python3.6/dist-packages/keras/engine/training.py\u001b[0m in \u001b[0;36mevaluate\u001b[0;34m(self, x, y, batch_size, verbose, sample_weight, steps)\u001b[0m\n\u001b[1;32m   1766\u001b[0m             \u001b[0mx\u001b[0m\u001b[0;34m,\u001b[0m \u001b[0my\u001b[0m\u001b[0;34m,\u001b[0m\u001b[0;34m\u001b[0m\u001b[0m\n\u001b[1;32m   1767\u001b[0m             \u001b[0msample_weight\u001b[0m\u001b[0;34m=\u001b[0m\u001b[0msample_weight\u001b[0m\u001b[0;34m,\u001b[0m\u001b[0;34m\u001b[0m\u001b[0m\n\u001b[0;32m-> 1768\u001b[0;31m             batch_size=batch_size)\n\u001b[0m\u001b[1;32m   1769\u001b[0m         \u001b[0;31m# Prepare inputs, delegate logic to `_test_loop`.\u001b[0m\u001b[0;34m\u001b[0m\u001b[0;34m\u001b[0m\u001b[0m\n\u001b[1;32m   1770\u001b[0m         \u001b[0;32mif\u001b[0m \u001b[0mself\u001b[0m\u001b[0;34m.\u001b[0m\u001b[0muses_learning_phase\u001b[0m \u001b[0;32mand\u001b[0m \u001b[0;32mnot\u001b[0m \u001b[0misinstance\u001b[0m\u001b[0;34m(\u001b[0m\u001b[0mK\u001b[0m\u001b[0;34m.\u001b[0m\u001b[0mlearning_phase\u001b[0m\u001b[0;34m(\u001b[0m\u001b[0;34m)\u001b[0m\u001b[0;34m,\u001b[0m \u001b[0mint\u001b[0m\u001b[0;34m)\u001b[0m\u001b[0;34m:\u001b[0m\u001b[0;34m\u001b[0m\u001b[0m\n",
            "\u001b[0;32m/usr/local/lib/python3.6/dist-packages/keras/engine/training.py\u001b[0m in \u001b[0;36m_standardize_user_data\u001b[0;34m(self, x, y, sample_weight, class_weight, check_array_lengths, batch_size)\u001b[0m\n\u001b[1;32m   1478\u001b[0m                                     \u001b[0moutput_shapes\u001b[0m\u001b[0;34m,\u001b[0m\u001b[0;34m\u001b[0m\u001b[0m\n\u001b[1;32m   1479\u001b[0m                                     \u001b[0mcheck_batch_axis\u001b[0m\u001b[0;34m=\u001b[0m\u001b[0;32mFalse\u001b[0m\u001b[0;34m,\u001b[0m\u001b[0;34m\u001b[0m\u001b[0m\n\u001b[0;32m-> 1480\u001b[0;31m                                     exception_prefix='target')\n\u001b[0m\u001b[1;32m   1481\u001b[0m         sample_weights = _standardize_sample_weights(sample_weight,\n\u001b[1;32m   1482\u001b[0m                                                      self._feed_output_names)\n",
            "\u001b[0;32m/usr/local/lib/python3.6/dist-packages/keras/engine/training.py\u001b[0m in \u001b[0;36m_standardize_input_data\u001b[0;34m(data, names, shapes, check_batch_axis, exception_prefix)\u001b[0m\n\u001b[1;32m    121\u001b[0m                             \u001b[0;34m': expected '\u001b[0m \u001b[0;34m+\u001b[0m \u001b[0mnames\u001b[0m\u001b[0;34m[\u001b[0m\u001b[0mi\u001b[0m\u001b[0;34m]\u001b[0m \u001b[0;34m+\u001b[0m \u001b[0;34m' to have shape '\u001b[0m \u001b[0;34m+\u001b[0m\u001b[0;34m\u001b[0m\u001b[0m\n\u001b[1;32m    122\u001b[0m                             \u001b[0mstr\u001b[0m\u001b[0;34m(\u001b[0m\u001b[0mshape\u001b[0m\u001b[0;34m)\u001b[0m \u001b[0;34m+\u001b[0m \u001b[0;34m' but got array with shape '\u001b[0m \u001b[0;34m+\u001b[0m\u001b[0;34m\u001b[0m\u001b[0m\n\u001b[0;32m--> 123\u001b[0;31m                             str(data_shape))\n\u001b[0m\u001b[1;32m    124\u001b[0m     \u001b[0;32mreturn\u001b[0m \u001b[0mdata\u001b[0m\u001b[0;34m\u001b[0m\u001b[0m\n\u001b[1;32m    125\u001b[0m \u001b[0;34m\u001b[0m\u001b[0m\n",
            "\u001b[0;31mValueError\u001b[0m: Error when checking target: expected dense_2 to have shape (6,) but got array with shape (1,)"
          ]
        }
      ]
    },
    {
      "metadata": {
        "id": "jsjeTyLqafdD",
        "colab_type": "code",
        "colab": {
          "autoexec": {
            "startup": false,
            "wait_interval": 0
          },
          "base_uri": "https://localhost:8080/",
          "height": 180
        },
        "outputId": "383dc65a-1367-43b0-9faf-6475ab64d65c",
        "executionInfo": {
          "status": "error",
          "timestamp": 1533420359903,
          "user_tz": -420,
          "elapsed": 735,
          "user": {
            "displayName": "lutfi adam",
            "photoUrl": "//lh4.googleusercontent.com/-v_uCuC_CMtI/AAAAAAAAAAI/AAAAAAAAAHw/oRDqji7y32Y/s50-c-k-no/photo.jpg",
            "userId": "110769470108785662190"
          }
        }
      },
      "cell_type": "code",
      "source": [
        "print('Test loss:', score[0])\n",
        "print('Test accuracy:', score[1])"
      ],
      "execution_count": 0,
      "outputs": [
        {
          "output_type": "error",
          "ename": "NameError",
          "evalue": "ignored",
          "traceback": [
            "\u001b[0;31m---------------------------------------------------------------------------\u001b[0m",
            "\u001b[0;31mNameError\u001b[0m                                 Traceback (most recent call last)",
            "\u001b[0;32m<ipython-input-90-91ee1538007e>\u001b[0m in \u001b[0;36m<module>\u001b[0;34m()\u001b[0m\n\u001b[0;32m----> 1\u001b[0;31m \u001b[0mprint\u001b[0m\u001b[0;34m(\u001b[0m\u001b[0;34m'Test loss:'\u001b[0m\u001b[0;34m,\u001b[0m \u001b[0mscore\u001b[0m\u001b[0;34m[\u001b[0m\u001b[0;36m0\u001b[0m\u001b[0;34m]\u001b[0m\u001b[0;34m)\u001b[0m\u001b[0;34m\u001b[0m\u001b[0m\n\u001b[0m\u001b[1;32m      2\u001b[0m \u001b[0mprint\u001b[0m\u001b[0;34m(\u001b[0m\u001b[0;34m'Test accuracy:'\u001b[0m\u001b[0;34m,\u001b[0m \u001b[0mscore\u001b[0m\u001b[0;34m[\u001b[0m\u001b[0;36m1\u001b[0m\u001b[0;34m]\u001b[0m\u001b[0;34m)\u001b[0m\u001b[0;34m\u001b[0m\u001b[0m\n",
            "\u001b[0;31mNameError\u001b[0m: name 'score' is not defined"
          ]
        }
      ]
    },
    {
      "metadata": {
        "id": "sOxd1ucwafdN",
        "colab_type": "code",
        "colab": {
          "autoexec": {
            "startup": false,
            "wait_interval": 0
          },
          "base_uri": "https://localhost:8080/",
          "height": 163
        },
        "outputId": "85ff240c-5e4e-48ab-c8a7-aadb94959527",
        "executionInfo": {
          "status": "error",
          "timestamp": 1533420365702,
          "user_tz": -420,
          "elapsed": 526,
          "user": {
            "displayName": "lutfi adam",
            "photoUrl": "//lh4.googleusercontent.com/-v_uCuC_CMtI/AAAAAAAAAAI/AAAAAAAAAHw/oRDqji7y32Y/s50-c-k-no/photo.jpg",
            "userId": "110769470108785662190"
          }
        }
      },
      "cell_type": "code",
      "source": [
        "predictY = models.predict(Img)"
      ],
      "execution_count": 0,
      "outputs": [
        {
          "output_type": "error",
          "ename": "NameError",
          "evalue": "ignored",
          "traceback": [
            "\u001b[0;31m---------------------------------------------------------------------------\u001b[0m",
            "\u001b[0;31mNameError\u001b[0m                                 Traceback (most recent call last)",
            "\u001b[0;32m<ipython-input-91-9187fdadd350>\u001b[0m in \u001b[0;36m<module>\u001b[0;34m()\u001b[0m\n\u001b[0;32m----> 1\u001b[0;31m \u001b[0mpredictY\u001b[0m \u001b[0;34m=\u001b[0m \u001b[0mmodels\u001b[0m\u001b[0;34m.\u001b[0m\u001b[0mpredict\u001b[0m\u001b[0;34m(\u001b[0m\u001b[0mImg\u001b[0m\u001b[0;34m)\u001b[0m\u001b[0;34m\u001b[0m\u001b[0m\n\u001b[0m",
            "\u001b[0;31mNameError\u001b[0m: name 'models' is not defined"
          ]
        }
      ]
    },
    {
      "metadata": {
        "id": "RgR153jBafdU",
        "colab_type": "code",
        "colab": {
          "autoexec": {
            "startup": false,
            "wait_interval": 0
          }
        }
      },
      "cell_type": "code",
      "source": [
        "count = 0\n",
        "for i in range(label.shape[0]):\n",
        "    if (predictY[i]==label[i]).all():\n",
        "        count+=1"
      ],
      "execution_count": 0,
      "outputs": []
    },
    {
      "metadata": {
        "id": "mtEiQIEZafdd",
        "colab_type": "code",
        "colab": {
          "autoexec": {
            "startup": false,
            "wait_interval": 0
          },
          "base_uri": "https://localhost:8080/",
          "height": 163
        },
        "outputId": "9064b766-9a1c-44d8-c04d-ec76fbb68e62",
        "executionInfo": {
          "status": "error",
          "timestamp": 1533656884259,
          "user_tz": -420,
          "elapsed": 760,
          "user": {
            "displayName": "lutfi adam",
            "photoUrl": "//lh4.googleusercontent.com/-v_uCuC_CMtI/AAAAAAAAAAI/AAAAAAAAAHw/oRDqji7y32Y/s50-c-k-no/photo.jpg",
            "userId": "110769470108785662190"
          }
        }
      },
      "cell_type": "code",
      "source": [
        "label[10], predictY[10]"
      ],
      "execution_count": 28,
      "outputs": [
        {
          "output_type": "error",
          "ename": "NameError",
          "evalue": "ignored",
          "traceback": [
            "\u001b[0;31m---------------------------------------------------------------------------\u001b[0m",
            "\u001b[0;31mNameError\u001b[0m                                 Traceback (most recent call last)",
            "\u001b[0;32m<ipython-input-28-3234d3d7fcb5>\u001b[0m in \u001b[0;36m<module>\u001b[0;34m()\u001b[0m\n\u001b[0;32m----> 1\u001b[0;31m \u001b[0mlabel\u001b[0m\u001b[0;34m[\u001b[0m\u001b[0;36m10\u001b[0m\u001b[0;34m]\u001b[0m\u001b[0;34m,\u001b[0m \u001b[0mpredictY\u001b[0m\u001b[0;34m[\u001b[0m\u001b[0;36m10\u001b[0m\u001b[0;34m]\u001b[0m\u001b[0;34m\u001b[0m\u001b[0m\n\u001b[0m",
            "\u001b[0;31mNameError\u001b[0m: name 'predictY' is not defined"
          ]
        }
      ]
    },
    {
      "metadata": {
        "id": "2yuRV6M0afdm",
        "colab_type": "code",
        "colab": {
          "autoexec": {
            "startup": false,
            "wait_interval": 0
          }
        }
      },
      "cell_type": "code",
      "source": [
        "\n",
        "sess = tf.Session(config=tf.ConfigProto(log_device_placement=True))"
      ],
      "execution_count": 0,
      "outputs": []
    },
    {
      "metadata": {
        "id": "2epoHun3afdu",
        "colab_type": "code",
        "colab": {
          "autoexec": {
            "startup": false,
            "wait_interval": 0
          }
        }
      },
      "cell_type": "code",
      "source": [
        "from tensorflow.python.client import device_lib\n",
        "print(device_lib.list_local_devices())"
      ],
      "execution_count": 0,
      "outputs": []
    },
    {
      "metadata": {
        "id": "jOam5N4tafd2",
        "colab_type": "code",
        "colab": {
          "autoexec": {
            "startup": false,
            "wait_interval": 0
          }
        }
      },
      "cell_type": "code",
      "source": [
        ""
      ],
      "execution_count": 0,
      "outputs": []
    },
    {
      "metadata": {
        "id": "J5_5a_sBafd-",
        "colab_type": "code",
        "colab": {
          "autoexec": {
            "startup": false,
            "wait_interval": 0
          }
        }
      },
      "cell_type": "code",
      "source": [
        "#pip list | grep tensorflow"
      ],
      "execution_count": 0,
      "outputs": []
    },
    {
      "metadata": {
        "id": "obYg6A4VafeG",
        "colab_type": "code",
        "colab": {
          "autoexec": {
            "startup": false,
            "wait_interval": 0
          }
        }
      },
      "cell_type": "code",
      "source": [
        ""
      ],
      "execution_count": 0,
      "outputs": []
    },
    {
      "metadata": {
        "id": "N-0Lb3L-afeN",
        "colab_type": "code",
        "colab": {
          "autoexec": {
            "startup": false,
            "wait_interval": 0
          }
        }
      },
      "cell_type": "code",
      "source": [
        "from tensorflow.python.client import device_lib\n",
        "print(device_lib.list_local_devices())"
      ],
      "execution_count": 0,
      "outputs": []
    },
    {
      "metadata": {
        "id": "d3Xjthw2afeV",
        "colab_type": "code",
        "colab": {
          "autoexec": {
            "startup": false,
            "wait_interval": 0
          }
        }
      },
      "cell_type": "code",
      "source": [
        ""
      ],
      "execution_count": 0,
      "outputs": []
    }
  ]
}